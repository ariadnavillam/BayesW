{
 "cells": [
  {
   "cell_type": "code",
   "execution_count": 54,
   "metadata": {},
   "outputs": [],
   "source": [
    "import os\n",
    "import itertools\n",
    "import random\n",
    "\n",
    "import matplotlib.pyplot as plt\n",
    "from matplotlib import rc\n",
    "from matplotlib.colors import LinearSegmentedColormap\n",
    "from cycler import cycler\n",
    "\n",
    "import numpy as np\n",
    "from scipy.stats import *\n",
    "import pandas as pd\n",
    "import seaborn as sns\n",
    "import pyro as pyro\n",
    "\n",
    "import ars as ars"
   ]
  },
  {
   "cell_type": "code",
   "execution_count": 10,
   "metadata": {},
   "outputs": [],
   "source": [
    "rc('font',**{'family':'sans-serif','sans-serif':['Helvetica']})\n",
    "## for Palatino and other serif fonts use:\n",
    "rc('font',**{'family':'serif','serif':['Palatino'], 'size':14})\n",
    "rc('text', usetex=True)\n",
    "plt.rc('axes', prop_cycle=(cycler('color', ['red', 'gray', 'black'])))#, 'blue', 'green'])))"
   ]
  },
  {
   "attachments": {},
   "cell_type": "markdown",
   "metadata": {},
   "source": [
    "# Algorithm 1\n",
    "Serial algorithm for BayesW sampling from the posterior distribution $p(\\mu, \\alpha, \\delta, \\gamma, \\beta, \\pi, \\sigma_G^2|D)$ .Initialisation and prior speciﬁcation.\n",
    "\n",
    "__Data__: \n",
    "- matrix $x$ of standardised genotypes, size M\n",
    "- matrix with covariate data $z$, size C\n",
    "- vector of last time without an event $y$ size L\n",
    "- vector of failure indicators $d$\n",
    "- prior hyperparameters , $p_L$ size P:\n",
    "    - $\\alpha_0, \\kappa_0$: parameters of the prior distribution of $\\alpha$, gamma distribution\n",
    "    $$ p(\\alpha) \\propto \\alpha^{\\alpha_0 -1} \\exp(-\\kappa_0\\alpha)$$\n",
    "    - $\\alpha_{\\sigma}, \\beta_{\\sigma}$: parameters of the $\\sigma_G^2$\n",
    "    - $\\sigma^2_{\\mu}$: variance parameter of the prior distribution of $\\mu$ \n",
    "    - $\\sigma^2_{\\delta}$: variance parameter of the prior distribution of $\\delta$\n",
    "- iterations $I$\n",
    "- $V_0 , V_1 and V_2$ denote the partial sums of the exponentiated residuals\n",
    "(deﬁned in Derivations for the sparse calculations)\n",
    "- K is the Euler-Mascheroni constant.\n",
    "\n",
    "__Initial values__: Initially, we exclude all the variables from the model.\n",
    "- $y_j =0 \\forall j \\in {1,...,M}$. \n",
    "- $\\beta_j =0 \\forall j$ \n",
    "- $\\sigma_q = 0 \\forall q$ \n",
    "- $\\alpha$: suitably transformed variance of the log sample. \n",
    "- $\\mu$: mean of the log sample. \n",
    "- $\\sigma_G^2$: the variance of the log sample divided by the total number of markers M.\n",
    "\n",
    "__Parameters for prior distributions__: We set priors weakly informative. Otherwise, if\n",
    "available, prior information could be used. \n",
    "- $\\alpha$: $\\alpha_0 = 0.01, \\kappa_0 = 0.01$\n",
    "- $\\sigma^2_G$: $\\alpha_{\\sigma}=1$ and $\\beta_{\\sigma} = 0.0001$.\n",
    "- $\\mu$: $\\sigma^2_{\\mu} = 100$ \n",
    "- $\\delta_q$:$\\sigma^2_{\\delta} = 100$\n",
    "- $\\pi$ and $p_L$: vector of ones"
   ]
  },
  {
   "attachments": {},
   "cell_type": "markdown",
   "metadata": {},
   "source": [
    "## Prior distributions\n",
    " prior hyperparameters , $p_L$:\n",
    "    - $\\alpha_0, \\kappa_0$: parameters of the prior distribution of $\\alpha$, gamma distribution\n",
    "    $$ p(\\alpha) \\propto \\alpha^{\\alpha_0 -1} \\exp(-\\kappa_0\\alpha)$$\n",
    "    - $\\alpha_{\\sigma}, \\beta_{\\sigma}$: parameters of the $\\sigma_G^2$\n",
    "    - $\\sigma^2_{\\mu}$: variance parameter of the prior distribution of $\\mu$ \n",
    "    - $\\sigma^2_{\\delta}$: variance parameter of the prior distribution of $\\delta$\n",
    "\n",
    "Prior distribution of $\\alpha$: gamma distribution with parameters $\\alpha_0, \\kappa_0$.\n",
    "\n",
    "$$ p(\\alpha) \\propto \\alpha^{\\alpha_0 -1} \\exp(-\\kappa_0\\alpha)$$\n",
    "\n",
    "Prior for $\\beta_j$ follow a normal distribution with variance parameter $\\sigma^2_G$\n",
    "\n",
    "$$p(\\beta_j|\\sigma^2_G, y_j=k) \\propto \\left(\\frac{1}{C_k\\sigma_G^2}\\right)^2 \\exp(-\\frac{1}{2C_k\\sigma_G^2}\\beta_j^2)$$\n",
    "\n",
    "Prior of $\\sigma^2_G$ follow a inverse gamma distribution with parameters $\\alpha_{\\sigma}, \\beta_{\\sigma}$\n",
    "\n",
    "$$p(\\sigma^2_G)\\propto \\left(\\frac{1}{\\sigma^2_G}\\right)^{\\alpha_{\\sigma} +1}\\exp\\left(-\\frac{\\beta_{\\sigma}}{\\alpha_{\\sigma}}\\right)$$ \n",
    "\n",
    "Prior of $\\delta_q$ (effect of the covariate q) is a normal with variance $\\sigma^2_{\\delta}$:\n",
    "\n",
    "$$p(\\delta_q\\propto  \\exp\\left(-\\frac{1}{2\\sigma^2_{\\delta}}\\delta_q^2\\right)$$\n",
    "\n",
    "Prior of $\\mu$ is a normal distribution with variance $\\sigma^2_{\\mu}$\n",
    "\n",
    "$$p(\\mu\\propto  \\exp\\left(-\\frac{1}{2\\sigma^2_{\\mu}}\\mu^2\\right)$$\n",
    "\n",
    "The prior for $y_j$ is a multinomial distribution\n",
    "\n",
    "$$p(y_j|\\pi)\\propto = \\pi_0^{I(y_j=0)}\\cdot...\\cdot \\pi_L^{I(y_j=L)}$$\n",
    "\n",
    "The prior probabilities of belonging to each of the mixture distributions k are stored in L+1 dimensional vector $\\bf\\pi$ with the prior for $\\bf\\pi$ a Dirichlet distribution\n",
    "\n",
    "$$ p(\\pi) \\propto Dirichlet(p_L)$$\n",
    "\n",
    "where $I(\\cdot)$ is the indicator function and $p_L$ is the L+1 dimensional vector with prior values. \n",
    "\n",
    "\n"
   ]
  },
  {
   "cell_type": "code",
   "execution_count": 11,
   "metadata": {},
   "outputs": [],
   "source": [
    "#data\n",
    "n_markers = 100 #number M of markers\n",
    "n_samples = 100 #number of individuals (times to event)\n",
    "n_covs = 10 #number of covariates\n",
    "l_mix = 4 #mixture components\n",
    "max_iter = 1000\n",
    "\n",
    "#simulated data\n",
    "markers = np.random.binomial(2, 0.5, size = (n_samples, n_markers)) #x matrix of markers\n",
    "cov = np.random.binomial(1, 0.5, size = (n_samples, n_covs)) #z matrix of \n",
    "y_data = np.random.choice(range(1,50), 100,)\n",
    "d_fail = np.random.choice(range(1,50), 100,)"
   ]
  },
  {
   "attachments": {},
   "cell_type": "markdown",
   "metadata": {},
   "source": [
    "Having the matrix M of genotypes then we can calculate the partial sums for each genotype"
   ]
  },
  {
   "attachments": {},
   "cell_type": "markdown",
   "metadata": {},
   "source": [
    "Initial values for the parameters:\n",
    "- mu is the intercept (time to event) $\\mu$\n",
    "- betas are the effects of the markers $\\beta_j$ for j marker\n",
    "- deltas are the effects of the covariates $\\delta_q$ for q covariate\n",
    "- gammas are the mixture indicators of the markers $\\gamma_j$ for j marker"
   ]
  },
  {
   "cell_type": "code",
   "execution_count": 17,
   "metadata": {},
   "outputs": [],
   "source": [
    "#initial values\n",
    "betas = np.zeros(n_markers)\n",
    "deltas = np.zeros(n_covs)\n",
    "gammas = np.zeros(n_markers)\n",
    "mu = np.mean(np.log(y_data))\n",
    "alpha = np.std(np.log(y_data))\n",
    "sigma_g = np.var(np.log(y_data))/n_markers\n",
    "d = np.sum(d_fail)\n"
   ]
  },
  {
   "attachments": {},
   "cell_type": "markdown",
   "metadata": {},
   "source": [
    "We define the parameters for the priors of the parameters"
   ]
  },
  {
   "cell_type": "code",
   "execution_count": 13,
   "metadata": {},
   "outputs": [],
   "source": [
    "#priors of parameters\n",
    "alpha_zero = 0.01\n",
    "kappa_zero = 0.01\n",
    "alpha_sigma = 1\n",
    "beta_sigma = 0.0001\n",
    "var_mu = 100\n",
    "var_delta = 100\n",
    "pi_vector = np.zeros(l_mix) + 1\n",
    "hyperparameters = np.zeros(l_mix +1)\n"
   ]
  },
  {
   "cell_type": "code",
   "execution_count": 33,
   "metadata": {},
   "outputs": [],
   "source": [
    "def log_mu(pars, epsilon_arr):\n",
    "    '''computes the log-likelihood of the mu parameters'''\n",
    "    return lambda x : (-pars['alpha']*x*pars['d'] - np.sum(np.exp(pars['alpha']*(epsilon_arr - x)-np.euler_gamma)) - (x**2)/(2*pars[\"var_mu\"]))\n"
   ]
  },
  {
   "cell_type": "code",
   "execution_count": 38,
   "metadata": {},
   "outputs": [],
   "source": [
    "def log_mu_dev(pars, epsilon_arr ):\n",
    "    '''computes the log-likelihood of the mu parameters'''\n",
    "    return lambda x : (-pars['alpha']*pars['d'] - np.sum(-pars['alpha']*np.exp(pars['alpha']*(epsilon_arr - x)-np.euler_gamma)) - x/(4*pars[\"var_mu\"]))\n"
   ]
  },
  {
   "cell_type": "code",
   "execution_count": 44,
   "metadata": {},
   "outputs": [],
   "source": [
    "pars = {\"alpha\": alpha, \"d\":d, \"var_mu\": var_mu}"
   ]
  },
  {
   "cell_type": "code",
   "execution_count": 45,
   "metadata": {},
   "outputs": [],
   "source": [
    "residuals = y_data - mu"
   ]
  },
  {
   "cell_type": "code",
   "execution_count": 46,
   "metadata": {},
   "outputs": [],
   "source": [
    "epsilon = residuals + mu"
   ]
  },
  {
   "cell_type": "code",
   "execution_count": 55,
   "metadata": {},
   "outputs": [],
   "source": [
    "f_mu = ars.log_gaussian(0, var_mu)"
   ]
  },
  {
   "cell_type": "code",
   "execution_count": 58,
   "metadata": {},
   "outputs": [
    {
     "data": {
      "text/plain": [
       "[<matplotlib.lines.Line2D at 0x7ff13c1fdb50>]"
      ]
     },
     "execution_count": 58,
     "metadata": {},
     "output_type": "execute_result"
    },
    {
     "data": {
      "image/png": "[encoded data removed]",
      "text/plain": [
       "<Figure size 640x480 with 1 Axes>"
      ]
     },
     "metadata": {},
     "output_type": "display_data"
    }
   ],
   "source": [
    "x_arr = np.linspace(-10,10)\n",
    "plt.plot(x_arr, [f_mu(x)[0] for x in x_arr])"
   ]
  },
  {
   "cell_type": "code",
   "execution_count": 59,
   "metadata": {},
   "outputs": [],
   "source": [
    "f_mu = log_mu(pars, epsilon)"
   ]
  },
  {
   "cell_type": "code",
   "execution_count": 65,
   "metadata": {},
   "outputs": [
    {
     "data": {
      "text/plain": [
       "[<matplotlib.lines.Line2D at 0x7ff13bfecb20>]"
      ]
     },
     "execution_count": 65,
     "metadata": {},
     "output_type": "execute_result"
    },
    {
     "data": {
      "image/png": "[encoded data removed]",
      "text/plain": [
       "<Figure size 640x480 with 1 Axes>"
      ]
     },
     "metadata": {},
     "output_type": "display_data"
    }
   ],
   "source": [
    "x_arr = np.linspace(-10,10)\n",
    "plt.plot(x_arr, [f_mu(x) for x in x_arr])"
   ]
  },
  {
   "cell_type": "code",
   "execution_count": null,
   "metadata": {},
   "outputs": [],
   "source": [
    "class Parameter:\n",
    "    def __init__(self, dis_parameters, log_dens_f, log_dens_fdev):\n",
    "        self.distribution_parameters = dis_parameters\n",
    "        self.current_value = None\n",
    "        self.previous_values = []\n",
    "\n",
    "    def sample_prior(self):\n",
    "        self.current_value = np.random.normal(self.prior_mean, self.prior_std)\n",
    "        self.previous_values.append(self.current_value)\n",
    "\n",
    "    def sample_posterior(self, data):\n",
    "        posterior_mean = (self.prior_mean*self.prior_std**2 + np.mean(data)*len(data)) / (self.prior_std**2 + len(data))\n",
    "        posterior_std = np.sqrt(1/(self.prior_std**2 + len(data)))\n",
    "        self.current_value = np.random.normal(posterior_mean, posterior_std)\n",
    "        self.previous_values.append(self.current_value)\n",
    "    \n",
    "    def likelihood(self, data):\n",
    "        return np.prod(norm.pdf(data, loc=self.current_value))\n",
    "\n",
    "    def log_prior(self):\n",
    "        return np.log(norm.pdf(self.current_value, loc=self.prior_mean, scale=self.prior_std))"
   ]
  },
  {
   "cell_type": "code",
   "execution_count": 8,
   "metadata": {},
   "outputs": [],
   "source": [
    "def univariate_normal(x, mean=0, variance=var_mu):\n",
    "    \"\"\"pdf of the univariate normal distribution.\"\"\"\n",
    "    return ((1. / np.sqrt(2 * np.pi * variance)) * \n",
    "            np.exp(-(x - mean)**2 / (2 * variance)))"
   ]
  },
  {
   "cell_type": "code",
   "execution_count": 9,
   "metadata": {},
   "outputs": [],
   "source": [
    "def normal_to_lognormal(mu, var):\n",
    "    \"\"\"\n",
    "    Convert parameters of a normal distribution to parameters of a lognormal distribution.\n",
    "\n",
    "    Parameters:\n",
    "        mu (float): Mean of the normal distribution.\n",
    "        var(float): var of the normal distribution.\n",
    "\n",
    "    Returns:\n",
    "        A tuple (lognormal_mu, lognormal_var) containing the mean and standard deviation of the corresponding lognormal distribution.\n",
    "    \"\"\"\n",
    "    lognormal_mu = np.exp(mu + var/2)\n",
    "    lognormal_var = np.exp(2*var)*(np.exp(var)-1)*np.exp(2*mu)\n",
    "    return lognormal_mu, lognormal_var"
   ]
  },
  {
   "cell_type": "code",
   "execution_count": 10,
   "metadata": {},
   "outputs": [],
   "source": [
    "def lognormal(x, var_normal):\n",
    "    args = normal_to_lognormal(0, np.sqrt(var_normal))\n",
    "    var = args[1]**2\n",
    "    mean = args[0]\n",
    "    return((1. /x*np.sqrt(2*np.pi*var))*np.exp(-(np.log(x)-mean)**2/(2*var)))"
   ]
  },
  {
   "cell_type": "code",
   "execution_count": 11,
   "metadata": {},
   "outputs": [],
   "source": [
    "def gaussian_logpdf(x, args=normal_to_lognormal(0, var_mu)):\n",
    "    return (1/(x*np.sqrt(2*np.pi*args[1])))*np.exp(-((np.log(x)-args[0])**2)/(2*args[1]))"
   ]
  },
  {
   "cell_type": "code",
   "execution_count": 12,
   "metadata": {},
   "outputs": [],
   "source": [
    "import ars as ars"
   ]
  },
  {
   "cell_type": "code",
   "execution_count": 13,
   "metadata": {},
   "outputs": [],
   "source": [
    "log_prob = ars.log_gaussian(0, 100)"
   ]
  },
  {
   "cell_type": "code",
   "execution_count": 14,
   "metadata": {},
   "outputs": [
    {
     "data": {
      "text/plain": [
       "[<matplotlib.lines.Line2D at 0x7fe58541c640>]"
      ]
     },
     "execution_count": 14,
     "metadata": {},
     "output_type": "execute_result"
    },
    {
     "data": {
      "image/png": "[encoded data removed]",
      "text/plain": [
       "<Figure size 640x480 with 1 Axes>"
      ]
     },
     "metadata": {},
     "output_type": "display_data"
    }
   ],
   "source": [
    "x = np.linspace(-10,10)\n",
    "plt.plot(x, log_prob(x)[0])"
   ]
  },
  {
   "cell_type": "code",
   "execution_count": 22,
   "metadata": {},
   "outputs": [],
   "source": [
    "target_mean = 0.\n",
    "target_variance = 100.\n",
    "\n",
    "x0 = 0.95*mu\n",
    "num_samples = 1\n",
    "lims = (0.8*mu, 1.1*mu)\n",
    "log_prob = ars.log_gaussian(mean=target_mean, variance=target_variance)"
   ]
  },
  {
   "cell_type": "code",
   "execution_count": 23,
   "metadata": {},
   "outputs": [],
   "source": [
    "# Points in the abcissa set and corresponding log-probabilities and gradients\n",
    "xs = np.array([0.95*mu, mu, 1.005*mu, 1.01*mu])\n",
    "hs, dhdxs = log_prob(xs)"
   ]
  },
  {
   "cell_type": "code",
   "execution_count": 24,
   "metadata": {},
   "outputs": [
    {
     "data": {
      "text/plain": [
       "''"
      ]
     },
     "execution_count": 24,
     "metadata": {},
     "output_type": "execute_result"
    },
    {
     "data": {
      "image/png": "[encoded data removed]",
      "text/plain": [
       "<Figure size 640x480 with 1 Axes>"
      ]
     },
     "metadata": {},
     "output_type": "display_data"
    }
   ],
   "source": [
    "plt.plot(xs, hs, \"o\", label=\"abscissae\")\n",
    "x = np.linspace(-20,20,200)\n",
    "plt.plot(x, log_prob(x)[0], label=\"h(x)\")\n",
    "for c in range(len(xs)):\n",
    "    plt.plot(x, dhdxs[c]*(x-xs[c]) + hs[c], \"k--\")\n",
    "plt.legend()\n",
    ";"
   ]
  },
  {
   "cell_type": "code",
   "execution_count": 25,
   "metadata": {},
   "outputs": [],
   "source": [
    "# Locations to plot the log unnorm. density and envelope/squeezing functions\n",
    "x_plot = np.linspace(-100, 100, 200)\n",
    "log_probs = [log_prob(x)[0] for x in x_plot]\n",
    "gu = [ars.g_u(x, xs, hs, dhdxs) for x in x_plot]\n",
    "gl = [ars.g_l(x, xs, hs) for x in x_plot]"
   ]
  },
  {
   "cell_type": "code",
   "execution_count": 26,
   "metadata": {},
   "outputs": [
    {
     "data": {
      "text/plain": [
       "Text(0.5, 1.0, 'Squeezing function')"
      ]
     },
     "execution_count": 26,
     "metadata": {},
     "output_type": "execute_result"
    },
    {
     "data": {
      "image/png": "[encoded data removed]",
      "text/plain": [
       "<Figure size 800x300 with 2 Axes>"
      ]
     },
     "metadata": {},
     "output_type": "display_data"
    }
   ],
   "source": [
    "plt.figure(figsize=(8,3))\n",
    "plt.subplot(1,2,1)\n",
    "plt.plot(x_plot, gu)\n",
    "plt.ylabel(\"f(x)\")\n",
    "plt.xlabel(\"x\")\n",
    "plt.title(\"Envelope\")\n",
    "\n",
    "plt.subplot(1,2,2)\n",
    "plt.plot(x_plot, gl)\n",
    "plt.xlabel(\"x\")\n",
    "#plt.ylim(np.min(gu), np.max(gu))\n",
    "plt.title(\"Squeezing function\")"
   ]
  },
  {
   "cell_type": "code",
   "execution_count": null,
   "metadata": {},
   "outputs": [],
   "source": []
  },
  {
   "cell_type": "code",
   "execution_count": 21,
   "metadata": {},
   "outputs": [
    {
     "ename": "ValueError",
     "evalue": "probabilities are not non-negative",
     "output_type": "error",
     "traceback": [
      "\u001b[0;31m---------------------------------------------------------------------------\u001b[0m",
      "\u001b[0;31mValueError\u001b[0m                                Traceback (most recent call last)",
      "\u001b[0;32m/tmp/ipykernel_31010/2060156999.py\u001b[0m in \u001b[0;36m<module>\u001b[0;34m\u001b[0m\n\u001b[0;32m----> 1\u001b[0;31m \u001b[0mars\u001b[0m\u001b[0;34m.\u001b[0m\u001b[0madaptive_rejection_sampling\u001b[0m\u001b[0;34m(\u001b[0m\u001b[0mx0\u001b[0m\u001b[0;34m,\u001b[0m \u001b[0mlog_unnorm_prob\u001b[0m\u001b[0;34m,\u001b[0m \u001b[0mnum_samples\u001b[0m\u001b[0;34m,\u001b[0m \u001b[0mlims\u001b[0m\u001b[0;34m)\u001b[0m\u001b[0;34m\u001b[0m\u001b[0;34m\u001b[0m\u001b[0m\n\u001b[0m",
      "\u001b[0;32m~/GitHub/BayesW/ars.py\u001b[0m in \u001b[0;36madaptive_rejection_sampling\u001b[0;34m(x0, log_unnorm_prob, num_samples, lims)\u001b[0m\n\u001b[1;32m    170\u001b[0m     \u001b[0;32mwhile\u001b[0m \u001b[0mlen\u001b[0m\u001b[0;34m(\u001b[0m\u001b[0msamples\u001b[0m\u001b[0;34m)\u001b[0m \u001b[0;34m<\u001b[0m \u001b[0mnum_samples\u001b[0m\u001b[0;34m:\u001b[0m\u001b[0;34m\u001b[0m\u001b[0;34m\u001b[0m\u001b[0m\n\u001b[1;32m    171\u001b[0m \u001b[0;34m\u001b[0m\u001b[0m\n\u001b[0;32m--> 172\u001b[0;31m         \u001b[0mx\u001b[0m \u001b[0;34m=\u001b[0m \u001b[0msample_envelope\u001b[0m\u001b[0;34m(\u001b[0m\u001b[0mxs\u001b[0m\u001b[0;34m,\u001b[0m \u001b[0mhs\u001b[0m\u001b[0;34m,\u001b[0m \u001b[0mdhdxs\u001b[0m\u001b[0;34m,\u001b[0m \u001b[0mlims\u001b[0m\u001b[0;34m)\u001b[0m\u001b[0;34m\u001b[0m\u001b[0;34m\u001b[0m\u001b[0m\n\u001b[0m\u001b[1;32m    173\u001b[0m \u001b[0;34m\u001b[0m\u001b[0m\n\u001b[1;32m    174\u001b[0m         \u001b[0mgl\u001b[0m \u001b[0;34m=\u001b[0m \u001b[0mg_l\u001b[0m\u001b[0;34m(\u001b[0m\u001b[0mx\u001b[0m\u001b[0;34m,\u001b[0m \u001b[0mxs\u001b[0m\u001b[0;34m,\u001b[0m \u001b[0mhs\u001b[0m\u001b[0;34m)\u001b[0m\u001b[0;34m\u001b[0m\u001b[0;34m\u001b[0m\u001b[0m\n",
      "\u001b[0;32m~/GitHub/BayesW/ars.py\u001b[0m in \u001b[0;36msample_envelope\u001b[0;34m(xs, hs, dhdxs, lims)\u001b[0m\n\u001b[1;32m    116\u001b[0m \u001b[0;34m\u001b[0m\u001b[0m\n\u001b[1;32m    117\u001b[0m     \u001b[0;31m# Randomly chosen interval in which the sample lies\u001b[0m\u001b[0;34m\u001b[0m\u001b[0;34m\u001b[0m\u001b[0m\n\u001b[0;32m--> 118\u001b[0;31m     \u001b[0mi\u001b[0m \u001b[0;34m=\u001b[0m \u001b[0mnp\u001b[0m\u001b[0;34m.\u001b[0m\u001b[0mrandom\u001b[0m\u001b[0;34m.\u001b[0m\u001b[0mchoice\u001b[0m\u001b[0;34m(\u001b[0m\u001b[0mnp\u001b[0m\u001b[0;34m.\u001b[0m\u001b[0marange\u001b[0m\u001b[0;34m(\u001b[0m\u001b[0mprobs\u001b[0m\u001b[0;34m.\u001b[0m\u001b[0mshape\u001b[0m\u001b[0;34m[\u001b[0m\u001b[0;36m0\u001b[0m\u001b[0;34m]\u001b[0m\u001b[0;34m)\u001b[0m\u001b[0;34m,\u001b[0m \u001b[0mp\u001b[0m\u001b[0;34m=\u001b[0m\u001b[0mprobs\u001b[0m\u001b[0;34m)\u001b[0m\u001b[0;34m\u001b[0m\u001b[0;34m\u001b[0m\u001b[0m\n\u001b[0m\u001b[1;32m    119\u001b[0m \u001b[0;34m\u001b[0m\u001b[0m\n\u001b[1;32m    120\u001b[0m     \u001b[0;31m# Sample u = Uniform(0, 1)\u001b[0m\u001b[0;34m\u001b[0m\u001b[0;34m\u001b[0m\u001b[0m\n",
      "\u001b[0;32mmtrand.pyx\u001b[0m in \u001b[0;36mnumpy.random.mtrand.RandomState.choice\u001b[0;34m()\u001b[0m\n",
      "\u001b[0;31mValueError\u001b[0m: probabilities are not non-negative"
     ]
    }
   ],
   "source": [
    "ars.adaptive_rejection_sampling(x0, log_unnorm_prob, num_samples, lims)"
   ]
  },
  {
   "cell_type": "code",
   "execution_count": null,
   "metadata": {},
   "outputs": [],
   "source": [
    "#gaussian_logpdf = lambda x, sigma=args[1]: np.log(np.exp(-x ** 2 / sigma))\n",
    "a, b = 2,5  # a < b must hold\n",
    "domain = (float(0), float(\"inf\"))\n",
    "n_samples = 10000\n",
    "samples = ars.adaptive_rejection_sampling(logpdf=gaussian_logpdf, a=a, b=b, domain=domain, n_samples=n_samples)"
   ]
  },
  {
   "cell_type": "code",
   "execution_count": null,
   "metadata": {},
   "outputs": [],
   "source": [
    "def inverse_gamma_dist(x, alpha, beta):\n",
    "    \"\"\"pdf of gamma distribution with parameters alpha and beta\"\"\"\n",
    "    return ((beta**alpha/gamma(alpha))*((1/x)**(alpha + 1))*np.exp(-beta/x))"
   ]
  },
  {
   "attachments": {},
   "cell_type": "markdown",
   "metadata": {},
   "source": [
    "First we define the array of errors of length N (number of individuals) as \n",
    "\n",
    "$$\\epsilon_i = y_i -\\mu$$\n",
    "\n",
    "So we substract the sample mean (defined as the mean of the log sample) to each of the data components (time to event for each individual)"
   ]
  },
  {
   "attachments": {},
   "cell_type": "markdown",
   "metadata": {},
   "source": [
    "_Are the time to event data points in log or normal scale? Because we are substracting the log of the mean, and the Gumbel distribution takes the log of Y_"
   ]
  },
  {
   "cell_type": "code",
   "execution_count": null,
   "metadata": {},
   "outputs": [],
   "source": [
    "residuals = y_data - mu"
   ]
  },
  {
   "attachments": {},
   "cell_type": "markdown",
   "metadata": {},
   "source": [
    "We do the following process for every iteration"
   ]
  },
  {
   "cell_type": "code",
   "execution_count": null,
   "metadata": {},
   "outputs": [],
   "source": [
    "def lognormal_mu(x, sigma=var_mu):\n",
    "        return np.log(np.exp(-x ** 2 / sigma))"
   ]
  },
  {
   "attachments": {},
   "cell_type": "markdown",
   "metadata": {},
   "source": [
    "fist we sample the intercept"
   ]
  },
  {
   "cell_type": "code",
   "execution_count": null,
   "metadata": {},
   "outputs": [],
   "source": [
    "var_mu = 100"
   ]
  },
  {
   "cell_type": "code",
   "execution_count": null,
   "metadata": {},
   "outputs": [],
   "source": [
    "old_residuals = residuals\n",
    "\n",
    "residuals = old_residuals + mu\n",
    "\n",
    "domain = (float(0), float(\"inf\"))\n",
    "n_samples = 1000\n",
    "samples = ars.adaptive_rejection_sampling(logpdf=lognormal_mu, a=2, b=5, domain=domain, n_samples=n_samples)\n",
    "mu = np.mean(samples)\n",
    "residuals = residuals - mu\n",
    "\n",
    "\n"
   ]
  },
  {
   "cell_type": "code",
   "execution_count": null,
   "metadata": {},
   "outputs": [],
   "source": [
    "plt.hist(samples, density=True, bins=100)\n",
    ";"
   ]
  },
  {
   "attachments": {},
   "cell_type": "markdown",
   "metadata": {},
   "source": [
    "sample of delta for each covariate"
   ]
  },
  {
   "cell_type": "code",
   "execution_count": null,
   "metadata": {},
   "outputs": [],
   "source": [
    "def lognormal_delta(x, sigma=var_delta):\n",
    "    return np.log(np.exp(-x ** 2 / sigma))"
   ]
  },
  {
   "cell_type": "code",
   "execution_count": null,
   "metadata": {},
   "outputs": [],
   "source": [
    "residuals = residuals + cov[:,0]*deltas[0]\n",
    "samples = ars.adaptive_rejection_sampling(logpdf=lognormal_delta, a=2, b=5, domain=domain, n_samples=n_samples)\n"
   ]
  },
  {
   "cell_type": "code",
   "execution_count": null,
   "metadata": {},
   "outputs": [],
   "source": [
    "plt.hist(samples, density=True, bins=100)\n",
    ";"
   ]
  }
 ],
 "metadata": {
  "kernelspec": {
   "display_name": "base",
   "language": "python",
   "name": "python3"
  },
  "language_info": {
   "codemirror_mode": {
    "name": "ipython",
    "version": 3
   },
   "file_extension": ".py",
   "mimetype": "text/x-python",
   "name": "python",
   "nbconvert_exporter": "python",
   "pygments_lexer": "ipython3",
   "version": "3.9.13 (main, Aug 25 2022, 23:26:10) \n[GCC 11.2.0]"
  },
  "orig_nbformat": 4,
  "vscode": {
   "interpreter": {
    "hash": "dbf0cfecdc702eaf546189b23cf6135acc16a78c4152d1b255264b07f40c35ca"
   }
  }
 },
 "nbformat": 4,
 "nbformat_minor": 2
}
