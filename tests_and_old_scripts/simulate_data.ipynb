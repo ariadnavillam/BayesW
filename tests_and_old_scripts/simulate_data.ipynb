{
 "cells": [
  {
   "cell_type": "code",
   "execution_count": 1,
   "metadata": {},
   "outputs": [],
   "source": [
    "import os\n",
    "import itertools\n",
    "import random\n",
    "from math import log, exp, sqrt\n",
    "\n",
    "from IPython.display import clear_output\n",
    "\n",
    "import matplotlib.pyplot as plt\n",
    "from matplotlib import rc\n",
    "from matplotlib.colors import LinearSegmentedColormap\n",
    "from cycler import cycler\n",
    "\n",
    "\n",
    "import matplotlib.animation as animation\n",
    "\n",
    "import numpy as np\n",
    "from scipy import stats\n",
    "from numpy.linalg import norm\n",
    "\n",
    "import ars\n",
    "\n",
    "from BayesW_utils import *\n",
    "from distributions import *"
   ]
  },
  {
   "cell_type": "code",
   "execution_count": 1,
   "metadata": {},
   "outputs": [],
   "source": [
    "import pandas as pd"
   ]
  },
  {
   "attachments": {},
   "cell_type": "markdown",
   "metadata": {},
   "source": [
    "The time-to-event data is generated following the formula for the log time of individual i:\n",
    "\n",
    "$$ \\log Y_i = \\mu + x_i \\beta + \\frac{w_i}{\\alpha} + \\frac{K}{\\alpha} $$\n",
    "\n",
    "where $\\mu$ is the intercept, $x_i$ are the markers of individual, $\\beta$ are the effects, $w_i$ are the random errors, $\\alpha$ is the shape parameter of the Weibull distribution (Y) (\"variance\") and K is the EuMasc constant.\n",
    "\n",
    "We will fix the following parameters:\n",
    "- $\\mu$=10\n",
    "- $\\alpha$=0.5\n",
    "- genetic variance $\\sigma_G^2$=0.5 \n",
    "\n",
    "and the rest of the data are drawn from a distribution\n",
    "\n",
    "-  $w_i \\sim Gumbell(0,1)$ (standard extreme value distribution)\n",
    "- $\\beta \\sim N(0,1)$\n",
    "- $x_i \\sim N(0, \\sigma_G)$\n",
    "\n",
    "Then $x_i\\beta = g_i \\sim N(0, \\sigma_G)$.\n",
    "\n",
    "And $\\log Y_i$ follows a Gumbell distribution with \n",
    "\n",
    "$$E(log(Y_i)|) = \\mu + x_i\\beta$$\n",
    "\n",
    "$$ Var(log(Y_i)|\\mu +x_i\\beta) = \\frac{\\pi^2}{6\\alpha^2} $$"
   ]
  },
  {
   "cell_type": "code",
   "execution_count": 2,
   "metadata": {},
   "outputs": [],
   "source": [
    "mu_real = 3.9\n",
    "alpha_real = 10\n",
    "sigma_g_real = np.pi**2/(6*alpha_real**2)"
   ]
  },
  {
   "cell_type": "code",
   "execution_count": 3,
   "metadata": {},
   "outputs": [
    {
     "data": {
      "text/plain": [
       "Text(0, 0.5, 'PDF(x)')"
      ]
     },
     "execution_count": 3,
     "metadata": {},
     "output_type": "execute_result"
    },
    {
     "data": {
      "image/png": "[encoded data removed]",
      "text/plain": [
       "<Figure size 640x480 with 1 Axes>"
      ]
     },
     "metadata": {},
     "output_type": "display_data"
    }
   ],
   "source": [
    "gumbel_dis = stats.gumbel_r(loc=0, scale=1)\n",
    "# Generate data points\n",
    "x = np.linspace(-15, 10, num=1000)\n",
    "\n",
    "# Create Gumbel distribution object\n",
    "gumbel_data = gumbel_dis.rvs(size=1000)\n",
    "\n",
    "# Calculate PDF of Gumbel distribution for each data point\n",
    "pdf = gumbel_dis.pdf(x)\n",
    "\n",
    "# Plot the PDF of the Gumbel distribution\n",
    "plt.hist(gumbel_data, density=True, bins=100)\n",
    "plt.plot(x, pdf)\n",
    "plt.title('Standard (right) Gumbel Distribution')\n",
    "plt.xlabel('x')\n",
    "plt.ylabel('PDF(x)')"
   ]
  },
  {
   "cell_type": "code",
   "execution_count": 4,
   "metadata": {},
   "outputs": [],
   "source": [
    "n_markers = 200\n",
    "n_samples = 100"
   ]
  },
  {
   "cell_type": "code",
   "execution_count": 5,
   "metadata": {},
   "outputs": [],
   "source": [
    "w = gumbel_dis.rvs(size=(n_samples,1))\n",
    "betas = np.random.normal(0, np.sqrt(sigma_g_real/n_markers), size = (n_markers, 1)) #simulate causal betas\n",
    "markers = np.random.binomial(2,0.5,(n_samples, n_markers) )\n",
    "norm_markers = helpers.normalize_markers(markers)"
   ]
  },
  {
   "cell_type": "code",
   "execution_count": 19,
   "metadata": {},
   "outputs": [
    {
     "data": {
      "text/plain": [
       "(-1.1032841307212494e-17, 0.020229230217882033, 0.016449340668482262)"
      ]
     },
     "execution_count": 19,
     "metadata": {},
     "output_type": "execute_result"
    }
   ],
   "source": [
    "g = norm_markers.dot(betas)\n",
    "np.mean(g), np.var(g), sigma_g_real"
   ]
  },
  {
   "cell_type": "code",
   "execution_count": 10,
   "metadata": {},
   "outputs": [
    {
     "data": {
      "text/plain": [
       "''"
      ]
     },
     "execution_count": 10,
     "metadata": {},
     "output_type": "execute_result"
    },
    {
     "data": {
      "image/png": "[encoded data removed]",
      "text/plain": [
       "<Figure size 640x480 with 1 Axes>"
      ]
     },
     "metadata": {},
     "output_type": "display_data"
    }
   ],
   "source": [
    "plt.hist(g, bins=20)\n",
    ";"
   ]
  },
  {
   "cell_type": "code",
   "execution_count": 11,
   "metadata": {},
   "outputs": [],
   "source": [
    "log_data = mu_real + g + w/alpha_real + np.euler_gamma/alpha_real"
   ]
  },
  {
   "cell_type": "code",
   "execution_count": 13,
   "metadata": {},
   "outputs": [
    {
     "data": {
      "text/plain": [
       "(4.021230006771348, 0.03414825995818869)"
      ]
     },
     "execution_count": 13,
     "metadata": {},
     "output_type": "execute_result"
    }
   ],
   "source": [
    "np.mean(log_data), np.var(log_data)"
   ]
  },
  {
   "cell_type": "code",
   "execution_count": 15,
   "metadata": {},
   "outputs": [
    {
     "data": {
      "text/plain": [
       "''"
      ]
     },
     "execution_count": 15,
     "metadata": {},
     "output_type": "execute_result"
    },
    {
     "data": {
      "image/png": "[encoded data removed]",
      "text/plain": [
       "<Figure size 640x480 with 1 Axes>"
      ]
     },
     "metadata": {},
     "output_type": "display_data"
    }
   ],
   "source": [
    "plt.hist(log_data, bins=30)\n",
    ";"
   ]
  },
  {
   "cell_type": "code",
   "execution_count": 17,
   "metadata": {},
   "outputs": [
    {
     "name": "stdout",
     "output_type": "stream",
     "text": [
      "First sample:  4.095887001812885\n",
      "Expected value:  3.694017953076687\n"
     ]
    }
   ],
   "source": [
    "print(\"First sample: \", log_data[0][0])\n",
    "print(\"Expected value: \", mu_real + g[0][0])"
   ]
  },
  {
   "cell_type": "code",
   "execution_count": 18,
   "metadata": {},
   "outputs": [
    {
     "name": "stdout",
     "output_type": "stream",
     "text": [
      "Sample variance:  0.03414825995818869\n",
      "Phenotypic variance:  0.032898681336964525\n"
     ]
    }
   ],
   "source": [
    "print(\"Sample variance: \",np.var(log_data))\n",
    "print(\"Phenotypic variance: \",sigma_g_real + np.pi**2/(6*alpha_real**2))"
   ]
  },
  {
   "cell_type": "code",
   "execution_count": 20,
   "metadata": {},
   "outputs": [],
   "source": [
    "prevalence = 1"
   ]
  },
  {
   "cell_type": "code",
   "execution_count": 21,
   "metadata": {},
   "outputs": [],
   "source": [
    "d_array = np.random.choice([0,1], p=[1-prevalence, prevalence],size = n_samples)"
   ]
  },
  {
   "attachments": {},
   "cell_type": "markdown",
   "metadata": {},
   "source": [
    "Write the data to ped file"
   ]
  },
  {
   "cell_type": "code",
   "execution_count": 23,
   "metadata": {},
   "outputs": [],
   "source": [
    "import pandas as pd"
   ]
  },
  {
   "cell_type": "code",
   "execution_count": 77,
   "metadata": {},
   "outputs": [],
   "source": [
    "\n",
    "individual_id = index_list = [\"ind\" + str(i) for i in range(1, n_samples+1)]\n",
    "family_id = individual_id\n",
    "parental_id = np.zeros(n_samples,dtype='int')\n",
    "maternal_id = np.zeros(n_samples,dtype='int')\n",
    "sex = np.zeros(n_samples,dtype='int')\n",
    "phenotype = log_data.reshape((100,))\n",
    "\n"
   ]
  },
  {
   "cell_type": "code",
   "execution_count": 78,
   "metadata": {},
   "outputs": [],
   "source": [
    "df1 = pd.DataFrame({ \"family_id\": family_id, \n",
    "              \"individual_id\": individual_id, \n",
    "              \"parental_id\": parental_id, \n",
    "              \"maternal_id\": maternal_id, \n",
    "              \"sex\": sex, \n",
    "              \"phenotype\": phenotype})"
   ]
  },
  {
   "cell_type": "code",
   "execution_count": 79,
   "metadata": {},
   "outputs": [
    {
     "name": "stderr",
     "output_type": "stream",
     "text": [
      "/tmp/ipykernel_14432/2079303480.py:6: PerformanceWarning: DataFrame is highly fragmented.  This is usually the result of calling `frame.insert` many times, which has poor performance.  Consider joining all columns at once using pd.concat(axis=1) instead. To get a de-fragmented frame, use `newframe = frame.copy()`\n",
      "  df[[str(col) + '_Letter1', str(col) + '_Letter2']] = df[col].str.split('', expand=True).iloc[:, 1:3]\n",
      "/tmp/ipykernel_14432/2079303480.py:6: PerformanceWarning: DataFrame is highly fragmented.  This is usually the result of calling `frame.insert` many times, which has poor performance.  Consider joining all columns at once using pd.concat(axis=1) instead. To get a de-fragmented frame, use `newframe = frame.copy()`\n",
      "  df[[str(col) + '_Letter1', str(col) + '_Letter2']] = df[col].str.split('', expand=True).iloc[:, 1:3]\n",
      "/tmp/ipykernel_14432/2079303480.py:6: PerformanceWarning: DataFrame is highly fragmented.  This is usually the result of calling `frame.insert` many times, which has poor performance.  Consider joining all columns at once using pd.concat(axis=1) instead. To get a de-fragmented frame, use `newframe = frame.copy()`\n",
      "  df[[str(col) + '_Letter1', str(col) + '_Letter2']] = df[col].str.split('', expand=True).iloc[:, 1:3]\n",
      "/tmp/ipykernel_14432/2079303480.py:6: PerformanceWarning: DataFrame is highly fragmented.  This is usually the result of calling `frame.insert` many times, which has poor performance.  Consider joining all columns at once using pd.concat(axis=1) instead. To get a de-fragmented frame, use `newframe = frame.copy()`\n",
      "  df[[str(col) + '_Letter1', str(col) + '_Letter2']] = df[col].str.split('', expand=True).iloc[:, 1:3]\n",
      "/tmp/ipykernel_14432/2079303480.py:6: PerformanceWarning: DataFrame is highly fragmented.  This is usually the result of calling `frame.insert` many times, which has poor performance.  Consider joining all columns at once using pd.concat(axis=1) instead. To get a de-fragmented frame, use `newframe = frame.copy()`\n",
      "  df[[str(col) + '_Letter1', str(col) + '_Letter2']] = df[col].str.split('', expand=True).iloc[:, 1:3]\n",
      "/tmp/ipykernel_14432/2079303480.py:6: PerformanceWarning: DataFrame is highly fragmented.  This is usually the result of calling `frame.insert` many times, which has poor performance.  Consider joining all columns at once using pd.concat(axis=1) instead. To get a de-fragmented frame, use `newframe = frame.copy()`\n",
      "  df[[str(col) + '_Letter1', str(col) + '_Letter2']] = df[col].str.split('', expand=True).iloc[:, 1:3]\n",
      "/tmp/ipykernel_14432/2079303480.py:6: PerformanceWarning: DataFrame is highly fragmented.  This is usually the result of calling `frame.insert` many times, which has poor performance.  Consider joining all columns at once using pd.concat(axis=1) instead. To get a de-fragmented frame, use `newframe = frame.copy()`\n",
      "  df[[str(col) + '_Letter1', str(col) + '_Letter2']] = df[col].str.split('', expand=True).iloc[:, 1:3]\n",
      "/tmp/ipykernel_14432/2079303480.py:6: PerformanceWarning: DataFrame is highly fragmented.  This is usually the result of calling `frame.insert` many times, which has poor performance.  Consider joining all columns at once using pd.concat(axis=1) instead. To get a de-fragmented frame, use `newframe = frame.copy()`\n",
      "  df[[str(col) + '_Letter1', str(col) + '_Letter2']] = df[col].str.split('', expand=True).iloc[:, 1:3]\n",
      "/tmp/ipykernel_14432/2079303480.py:6: PerformanceWarning: DataFrame is highly fragmented.  This is usually the result of calling `frame.insert` many times, which has poor performance.  Consider joining all columns at once using pd.concat(axis=1) instead. To get a de-fragmented frame, use `newframe = frame.copy()`\n",
      "  df[[str(col) + '_Letter1', str(col) + '_Letter2']] = df[col].str.split('', expand=True).iloc[:, 1:3]\n",
      "/tmp/ipykernel_14432/2079303480.py:6: PerformanceWarning: DataFrame is highly fragmented.  This is usually the result of calling `frame.insert` many times, which has poor performance.  Consider joining all columns at once using pd.concat(axis=1) instead. To get a de-fragmented frame, use `newframe = frame.copy()`\n",
      "  df[[str(col) + '_Letter1', str(col) + '_Letter2']] = df[col].str.split('', expand=True).iloc[:, 1:3]\n",
      "/tmp/ipykernel_14432/2079303480.py:6: PerformanceWarning: DataFrame is highly fragmented.  This is usually the result of calling `frame.insert` many times, which has poor performance.  Consider joining all columns at once using pd.concat(axis=1) instead. To get a de-fragmented frame, use `newframe = frame.copy()`\n",
      "  df[[str(col) + '_Letter1', str(col) + '_Letter2']] = df[col].str.split('', expand=True).iloc[:, 1:3]\n",
      "/tmp/ipykernel_14432/2079303480.py:6: PerformanceWarning: DataFrame is highly fragmented.  This is usually the result of calling `frame.insert` many times, which has poor performance.  Consider joining all columns at once using pd.concat(axis=1) instead. To get a de-fragmented frame, use `newframe = frame.copy()`\n",
      "  df[[str(col) + '_Letter1', str(col) + '_Letter2']] = df[col].str.split('', expand=True).iloc[:, 1:3]\n",
      "/tmp/ipykernel_14432/2079303480.py:6: PerformanceWarning: DataFrame is highly fragmented.  This is usually the result of calling `frame.insert` many times, which has poor performance.  Consider joining all columns at once using pd.concat(axis=1) instead. To get a de-fragmented frame, use `newframe = frame.copy()`\n",
      "  df[[str(col) + '_Letter1', str(col) + '_Letter2']] = df[col].str.split('', expand=True).iloc[:, 1:3]\n",
      "/tmp/ipykernel_14432/2079303480.py:6: PerformanceWarning: DataFrame is highly fragmented.  This is usually the result of calling `frame.insert` many times, which has poor performance.  Consider joining all columns at once using pd.concat(axis=1) instead. To get a de-fragmented frame, use `newframe = frame.copy()`\n",
      "  df[[str(col) + '_Letter1', str(col) + '_Letter2']] = df[col].str.split('', expand=True).iloc[:, 1:3]\n",
      "/tmp/ipykernel_14432/2079303480.py:6: PerformanceWarning: DataFrame is highly fragmented.  This is usually the result of calling `frame.insert` many times, which has poor performance.  Consider joining all columns at once using pd.concat(axis=1) instead. To get a de-fragmented frame, use `newframe = frame.copy()`\n",
      "  df[[str(col) + '_Letter1', str(col) + '_Letter2']] = df[col].str.split('', expand=True).iloc[:, 1:3]\n",
      "/tmp/ipykernel_14432/2079303480.py:6: PerformanceWarning: DataFrame is highly fragmented.  This is usually the result of calling `frame.insert` many times, which has poor performance.  Consider joining all columns at once using pd.concat(axis=1) instead. To get a de-fragmented frame, use `newframe = frame.copy()`\n",
      "  df[[str(col) + '_Letter1', str(col) + '_Letter2']] = df[col].str.split('', expand=True).iloc[:, 1:3]\n",
      "/tmp/ipykernel_14432/2079303480.py:6: PerformanceWarning: DataFrame is highly fragmented.  This is usually the result of calling `frame.insert` many times, which has poor performance.  Consider joining all columns at once using pd.concat(axis=1) instead. To get a de-fragmented frame, use `newframe = frame.copy()`\n",
      "  df[[str(col) + '_Letter1', str(col) + '_Letter2']] = df[col].str.split('', expand=True).iloc[:, 1:3]\n",
      "/tmp/ipykernel_14432/2079303480.py:6: PerformanceWarning: DataFrame is highly fragmented.  This is usually the result of calling `frame.insert` many times, which has poor performance.  Consider joining all columns at once using pd.concat(axis=1) instead. To get a de-fragmented frame, use `newframe = frame.copy()`\n",
      "  df[[str(col) + '_Letter1', str(col) + '_Letter2']] = df[col].str.split('', expand=True).iloc[:, 1:3]\n",
      "/tmp/ipykernel_14432/2079303480.py:6: PerformanceWarning: DataFrame is highly fragmented.  This is usually the result of calling `frame.insert` many times, which has poor performance.  Consider joining all columns at once using pd.concat(axis=1) instead. To get a de-fragmented frame, use `newframe = frame.copy()`\n",
      "  df[[str(col) + '_Letter1', str(col) + '_Letter2']] = df[col].str.split('', expand=True).iloc[:, 1:3]\n",
      "/tmp/ipykernel_14432/2079303480.py:6: PerformanceWarning: DataFrame is highly fragmented.  This is usually the result of calling `frame.insert` many times, which has poor performance.  Consider joining all columns at once using pd.concat(axis=1) instead. To get a de-fragmented frame, use `newframe = frame.copy()`\n",
      "  df[[str(col) + '_Letter1', str(col) + '_Letter2']] = df[col].str.split('', expand=True).iloc[:, 1:3]\n",
      "/tmp/ipykernel_14432/2079303480.py:6: PerformanceWarning: DataFrame is highly fragmented.  This is usually the result of calling `frame.insert` many times, which has poor performance.  Consider joining all columns at once using pd.concat(axis=1) instead. To get a de-fragmented frame, use `newframe = frame.copy()`\n",
      "  df[[str(col) + '_Letter1', str(col) + '_Letter2']] = df[col].str.split('', expand=True).iloc[:, 1:3]\n",
      "/tmp/ipykernel_14432/2079303480.py:6: PerformanceWarning: DataFrame is highly fragmented.  This is usually the result of calling `frame.insert` many times, which has poor performance.  Consider joining all columns at once using pd.concat(axis=1) instead. To get a de-fragmented frame, use `newframe = frame.copy()`\n",
      "  df[[str(col) + '_Letter1', str(col) + '_Letter2']] = df[col].str.split('', expand=True).iloc[:, 1:3]\n",
      "/tmp/ipykernel_14432/2079303480.py:6: PerformanceWarning: DataFrame is highly fragmented.  This is usually the result of calling `frame.insert` many times, which has poor performance.  Consider joining all columns at once using pd.concat(axis=1) instead. To get a de-fragmented frame, use `newframe = frame.copy()`\n",
      "  df[[str(col) + '_Letter1', str(col) + '_Letter2']] = df[col].str.split('', expand=True).iloc[:, 1:3]\n",
      "/tmp/ipykernel_14432/2079303480.py:6: PerformanceWarning: DataFrame is highly fragmented.  This is usually the result of calling `frame.insert` many times, which has poor performance.  Consider joining all columns at once using pd.concat(axis=1) instead. To get a de-fragmented frame, use `newframe = frame.copy()`\n",
      "  df[[str(col) + '_Letter1', str(col) + '_Letter2']] = df[col].str.split('', expand=True).iloc[:, 1:3]\n",
      "/tmp/ipykernel_14432/2079303480.py:6: PerformanceWarning: DataFrame is highly fragmented.  This is usually the result of calling `frame.insert` many times, which has poor performance.  Consider joining all columns at once using pd.concat(axis=1) instead. To get a de-fragmented frame, use `newframe = frame.copy()`\n",
      "  df[[str(col) + '_Letter1', str(col) + '_Letter2']] = df[col].str.split('', expand=True).iloc[:, 1:3]\n",
      "/tmp/ipykernel_14432/2079303480.py:6: PerformanceWarning: DataFrame is highly fragmented.  This is usually the result of calling `frame.insert` many times, which has poor performance.  Consider joining all columns at once using pd.concat(axis=1) instead. To get a de-fragmented frame, use `newframe = frame.copy()`\n",
      "  df[[str(col) + '_Letter1', str(col) + '_Letter2']] = df[col].str.split('', expand=True).iloc[:, 1:3]\n",
      "/tmp/ipykernel_14432/2079303480.py:6: PerformanceWarning: DataFrame is highly fragmented.  This is usually the result of calling `frame.insert` many times, which has poor performance.  Consider joining all columns at once using pd.concat(axis=1) instead. To get a de-fragmented frame, use `newframe = frame.copy()`\n",
      "  df[[str(col) + '_Letter1', str(col) + '_Letter2']] = df[col].str.split('', expand=True).iloc[:, 1:3]\n",
      "/tmp/ipykernel_14432/2079303480.py:6: PerformanceWarning: DataFrame is highly fragmented.  This is usually the result of calling `frame.insert` many times, which has poor performance.  Consider joining all columns at once using pd.concat(axis=1) instead. To get a de-fragmented frame, use `newframe = frame.copy()`\n",
      "  df[[str(col) + '_Letter1', str(col) + '_Letter2']] = df[col].str.split('', expand=True).iloc[:, 1:3]\n",
      "/tmp/ipykernel_14432/2079303480.py:6: PerformanceWarning: DataFrame is highly fragmented.  This is usually the result of calling `frame.insert` many times, which has poor performance.  Consider joining all columns at once using pd.concat(axis=1) instead. To get a de-fragmented frame, use `newframe = frame.copy()`\n",
      "  df[[str(col) + '_Letter1', str(col) + '_Letter2']] = df[col].str.split('', expand=True).iloc[:, 1:3]\n",
      "/tmp/ipykernel_14432/2079303480.py:6: PerformanceWarning: DataFrame is highly fragmented.  This is usually the result of calling `frame.insert` many times, which has poor performance.  Consider joining all columns at once using pd.concat(axis=1) instead. To get a de-fragmented frame, use `newframe = frame.copy()`\n",
      "  df[[str(col) + '_Letter1', str(col) + '_Letter2']] = df[col].str.split('', expand=True).iloc[:, 1:3]\n",
      "/tmp/ipykernel_14432/2079303480.py:6: PerformanceWarning: DataFrame is highly fragmented.  This is usually the result of calling `frame.insert` many times, which has poor performance.  Consider joining all columns at once using pd.concat(axis=1) instead. To get a de-fragmented frame, use `newframe = frame.copy()`\n",
      "  df[[str(col) + '_Letter1', str(col) + '_Letter2']] = df[col].str.split('', expand=True).iloc[:, 1:3]\n",
      "/tmp/ipykernel_14432/2079303480.py:6: PerformanceWarning: DataFrame is highly fragmented.  This is usually the result of calling `frame.insert` many times, which has poor performance.  Consider joining all columns at once using pd.concat(axis=1) instead. To get a de-fragmented frame, use `newframe = frame.copy()`\n",
      "  df[[str(col) + '_Letter1', str(col) + '_Letter2']] = df[col].str.split('', expand=True).iloc[:, 1:3]\n",
      "/tmp/ipykernel_14432/2079303480.py:6: PerformanceWarning: DataFrame is highly fragmented.  This is usually the result of calling `frame.insert` many times, which has poor performance.  Consider joining all columns at once using pd.concat(axis=1) instead. To get a de-fragmented frame, use `newframe = frame.copy()`\n",
      "  df[[str(col) + '_Letter1', str(col) + '_Letter2']] = df[col].str.split('', expand=True).iloc[:, 1:3]\n",
      "/tmp/ipykernel_14432/2079303480.py:6: PerformanceWarning: DataFrame is highly fragmented.  This is usually the result of calling `frame.insert` many times, which has poor performance.  Consider joining all columns at once using pd.concat(axis=1) instead. To get a de-fragmented frame, use `newframe = frame.copy()`\n",
      "  df[[str(col) + '_Letter1', str(col) + '_Letter2']] = df[col].str.split('', expand=True).iloc[:, 1:3]\n",
      "/tmp/ipykernel_14432/2079303480.py:6: PerformanceWarning: DataFrame is highly fragmented.  This is usually the result of calling `frame.insert` many times, which has poor performance.  Consider joining all columns at once using pd.concat(axis=1) instead. To get a de-fragmented frame, use `newframe = frame.copy()`\n",
      "  df[[str(col) + '_Letter1', str(col) + '_Letter2']] = df[col].str.split('', expand=True).iloc[:, 1:3]\n",
      "/tmp/ipykernel_14432/2079303480.py:6: PerformanceWarning: DataFrame is highly fragmented.  This is usually the result of calling `frame.insert` many times, which has poor performance.  Consider joining all columns at once using pd.concat(axis=1) instead. To get a de-fragmented frame, use `newframe = frame.copy()`\n",
      "  df[[str(col) + '_Letter1', str(col) + '_Letter2']] = df[col].str.split('', expand=True).iloc[:, 1:3]\n",
      "/tmp/ipykernel_14432/2079303480.py:6: PerformanceWarning: DataFrame is highly fragmented.  This is usually the result of calling `frame.insert` many times, which has poor performance.  Consider joining all columns at once using pd.concat(axis=1) instead. To get a de-fragmented frame, use `newframe = frame.copy()`\n",
      "  df[[str(col) + '_Letter1', str(col) + '_Letter2']] = df[col].str.split('', expand=True).iloc[:, 1:3]\n",
      "/tmp/ipykernel_14432/2079303480.py:6: PerformanceWarning: DataFrame is highly fragmented.  This is usually the result of calling `frame.insert` many times, which has poor performance.  Consider joining all columns at once using pd.concat(axis=1) instead. To get a de-fragmented frame, use `newframe = frame.copy()`\n",
      "  df[[str(col) + '_Letter1', str(col) + '_Letter2']] = df[col].str.split('', expand=True).iloc[:, 1:3]\n",
      "/tmp/ipykernel_14432/2079303480.py:6: PerformanceWarning: DataFrame is highly fragmented.  This is usually the result of calling `frame.insert` many times, which has poor performance.  Consider joining all columns at once using pd.concat(axis=1) instead. To get a de-fragmented frame, use `newframe = frame.copy()`\n",
      "  df[[str(col) + '_Letter1', str(col) + '_Letter2']] = df[col].str.split('', expand=True).iloc[:, 1:3]\n",
      "/tmp/ipykernel_14432/2079303480.py:6: PerformanceWarning: DataFrame is highly fragmented.  This is usually the result of calling `frame.insert` many times, which has poor performance.  Consider joining all columns at once using pd.concat(axis=1) instead. To get a de-fragmented frame, use `newframe = frame.copy()`\n",
      "  df[[str(col) + '_Letter1', str(col) + '_Letter2']] = df[col].str.split('', expand=True).iloc[:, 1:3]\n",
      "/tmp/ipykernel_14432/2079303480.py:6: PerformanceWarning: DataFrame is highly fragmented.  This is usually the result of calling `frame.insert` many times, which has poor performance.  Consider joining all columns at once using pd.concat(axis=1) instead. To get a de-fragmented frame, use `newframe = frame.copy()`\n",
      "  df[[str(col) + '_Letter1', str(col) + '_Letter2']] = df[col].str.split('', expand=True).iloc[:, 1:3]\n",
      "/tmp/ipykernel_14432/2079303480.py:6: PerformanceWarning: DataFrame is highly fragmented.  This is usually the result of calling `frame.insert` many times, which has poor performance.  Consider joining all columns at once using pd.concat(axis=1) instead. To get a de-fragmented frame, use `newframe = frame.copy()`\n",
      "  df[[str(col) + '_Letter1', str(col) + '_Letter2']] = df[col].str.split('', expand=True).iloc[:, 1:3]\n",
      "/tmp/ipykernel_14432/2079303480.py:6: PerformanceWarning: DataFrame is highly fragmented.  This is usually the result of calling `frame.insert` many times, which has poor performance.  Consider joining all columns at once using pd.concat(axis=1) instead. To get a de-fragmented frame, use `newframe = frame.copy()`\n",
      "  df[[str(col) + '_Letter1', str(col) + '_Letter2']] = df[col].str.split('', expand=True).iloc[:, 1:3]\n",
      "/tmp/ipykernel_14432/2079303480.py:6: PerformanceWarning: DataFrame is highly fragmented.  This is usually the result of calling `frame.insert` many times, which has poor performance.  Consider joining all columns at once using pd.concat(axis=1) instead. To get a de-fragmented frame, use `newframe = frame.copy()`\n",
      "  df[[str(col) + '_Letter1', str(col) + '_Letter2']] = df[col].str.split('', expand=True).iloc[:, 1:3]\n",
      "/tmp/ipykernel_14432/2079303480.py:6: PerformanceWarning: DataFrame is highly fragmented.  This is usually the result of calling `frame.insert` many times, which has poor performance.  Consider joining all columns at once using pd.concat(axis=1) instead. To get a de-fragmented frame, use `newframe = frame.copy()`\n",
      "  df[[str(col) + '_Letter1', str(col) + '_Letter2']] = df[col].str.split('', expand=True).iloc[:, 1:3]\n",
      "/tmp/ipykernel_14432/2079303480.py:6: PerformanceWarning: DataFrame is highly fragmented.  This is usually the result of calling `frame.insert` many times, which has poor performance.  Consider joining all columns at once using pd.concat(axis=1) instead. To get a de-fragmented frame, use `newframe = frame.copy()`\n",
      "  df[[str(col) + '_Letter1', str(col) + '_Letter2']] = df[col].str.split('', expand=True).iloc[:, 1:3]\n",
      "/tmp/ipykernel_14432/2079303480.py:6: PerformanceWarning: DataFrame is highly fragmented.  This is usually the result of calling `frame.insert` many times, which has poor performance.  Consider joining all columns at once using pd.concat(axis=1) instead. To get a de-fragmented frame, use `newframe = frame.copy()`\n",
      "  df[[str(col) + '_Letter1', str(col) + '_Letter2']] = df[col].str.split('', expand=True).iloc[:, 1:3]\n",
      "/tmp/ipykernel_14432/2079303480.py:6: PerformanceWarning: DataFrame is highly fragmented.  This is usually the result of calling `frame.insert` many times, which has poor performance.  Consider joining all columns at once using pd.concat(axis=1) instead. To get a de-fragmented frame, use `newframe = frame.copy()`\n",
      "  df[[str(col) + '_Letter1', str(col) + '_Letter2']] = df[col].str.split('', expand=True).iloc[:, 1:3]\n",
      "/tmp/ipykernel_14432/2079303480.py:6: PerformanceWarning: DataFrame is highly fragmented.  This is usually the result of calling `frame.insert` many times, which has poor performance.  Consider joining all columns at once using pd.concat(axis=1) instead. To get a de-fragmented frame, use `newframe = frame.copy()`\n",
      "  df[[str(col) + '_Letter1', str(col) + '_Letter2']] = df[col].str.split('', expand=True).iloc[:, 1:3]\n",
      "/tmp/ipykernel_14432/2079303480.py:6: PerformanceWarning: DataFrame is highly fragmented.  This is usually the result of calling `frame.insert` many times, which has poor performance.  Consider joining all columns at once using pd.concat(axis=1) instead. To get a de-fragmented frame, use `newframe = frame.copy()`\n",
      "  df[[str(col) + '_Letter1', str(col) + '_Letter2']] = df[col].str.split('', expand=True).iloc[:, 1:3]\n",
      "/tmp/ipykernel_14432/2079303480.py:6: PerformanceWarning: DataFrame is highly fragmented.  This is usually the result of calling `frame.insert` many times, which has poor performance.  Consider joining all columns at once using pd.concat(axis=1) instead. To get a de-fragmented frame, use `newframe = frame.copy()`\n",
      "  df[[str(col) + '_Letter1', str(col) + '_Letter2']] = df[col].str.split('', expand=True).iloc[:, 1:3]\n",
      "/tmp/ipykernel_14432/2079303480.py:6: PerformanceWarning: DataFrame is highly fragmented.  This is usually the result of calling `frame.insert` many times, which has poor performance.  Consider joining all columns at once using pd.concat(axis=1) instead. To get a de-fragmented frame, use `newframe = frame.copy()`\n",
      "  df[[str(col) + '_Letter1', str(col) + '_Letter2']] = df[col].str.split('', expand=True).iloc[:, 1:3]\n",
      "/tmp/ipykernel_14432/2079303480.py:6: PerformanceWarning: DataFrame is highly fragmented.  This is usually the result of calling `frame.insert` many times, which has poor performance.  Consider joining all columns at once using pd.concat(axis=1) instead. To get a de-fragmented frame, use `newframe = frame.copy()`\n",
      "  df[[str(col) + '_Letter1', str(col) + '_Letter2']] = df[col].str.split('', expand=True).iloc[:, 1:3]\n",
      "/tmp/ipykernel_14432/2079303480.py:6: PerformanceWarning: DataFrame is highly fragmented.  This is usually the result of calling `frame.insert` many times, which has poor performance.  Consider joining all columns at once using pd.concat(axis=1) instead. To get a de-fragmented frame, use `newframe = frame.copy()`\n",
      "  df[[str(col) + '_Letter1', str(col) + '_Letter2']] = df[col].str.split('', expand=True).iloc[:, 1:3]\n",
      "/tmp/ipykernel_14432/2079303480.py:6: PerformanceWarning: DataFrame is highly fragmented.  This is usually the result of calling `frame.insert` many times, which has poor performance.  Consider joining all columns at once using pd.concat(axis=1) instead. To get a de-fragmented frame, use `newframe = frame.copy()`\n",
      "  df[[str(col) + '_Letter1', str(col) + '_Letter2']] = df[col].str.split('', expand=True).iloc[:, 1:3]\n",
      "/tmp/ipykernel_14432/2079303480.py:6: PerformanceWarning: DataFrame is highly fragmented.  This is usually the result of calling `frame.insert` many times, which has poor performance.  Consider joining all columns at once using pd.concat(axis=1) instead. To get a de-fragmented frame, use `newframe = frame.copy()`\n",
      "  df[[str(col) + '_Letter1', str(col) + '_Letter2']] = df[col].str.split('', expand=True).iloc[:, 1:3]\n",
      "/tmp/ipykernel_14432/2079303480.py:6: PerformanceWarning: DataFrame is highly fragmented.  This is usually the result of calling `frame.insert` many times, which has poor performance.  Consider joining all columns at once using pd.concat(axis=1) instead. To get a de-fragmented frame, use `newframe = frame.copy()`\n",
      "  df[[str(col) + '_Letter1', str(col) + '_Letter2']] = df[col].str.split('', expand=True).iloc[:, 1:3]\n",
      "/tmp/ipykernel_14432/2079303480.py:6: PerformanceWarning: DataFrame is highly fragmented.  This is usually the result of calling `frame.insert` many times, which has poor performance.  Consider joining all columns at once using pd.concat(axis=1) instead. To get a de-fragmented frame, use `newframe = frame.copy()`\n",
      "  df[[str(col) + '_Letter1', str(col) + '_Letter2']] = df[col].str.split('', expand=True).iloc[:, 1:3]\n",
      "/tmp/ipykernel_14432/2079303480.py:6: PerformanceWarning: DataFrame is highly fragmented.  This is usually the result of calling `frame.insert` many times, which has poor performance.  Consider joining all columns at once using pd.concat(axis=1) instead. To get a de-fragmented frame, use `newframe = frame.copy()`\n",
      "  df[[str(col) + '_Letter1', str(col) + '_Letter2']] = df[col].str.split('', expand=True).iloc[:, 1:3]\n",
      "/tmp/ipykernel_14432/2079303480.py:6: PerformanceWarning: DataFrame is highly fragmented.  This is usually the result of calling `frame.insert` many times, which has poor performance.  Consider joining all columns at once using pd.concat(axis=1) instead. To get a de-fragmented frame, use `newframe = frame.copy()`\n",
      "  df[[str(col) + '_Letter1', str(col) + '_Letter2']] = df[col].str.split('', expand=True).iloc[:, 1:3]\n",
      "/tmp/ipykernel_14432/2079303480.py:6: PerformanceWarning: DataFrame is highly fragmented.  This is usually the result of calling `frame.insert` many times, which has poor performance.  Consider joining all columns at once using pd.concat(axis=1) instead. To get a de-fragmented frame, use `newframe = frame.copy()`\n",
      "  df[[str(col) + '_Letter1', str(col) + '_Letter2']] = df[col].str.split('', expand=True).iloc[:, 1:3]\n",
      "/tmp/ipykernel_14432/2079303480.py:6: PerformanceWarning: DataFrame is highly fragmented.  This is usually the result of calling `frame.insert` many times, which has poor performance.  Consider joining all columns at once using pd.concat(axis=1) instead. To get a de-fragmented frame, use `newframe = frame.copy()`\n",
      "  df[[str(col) + '_Letter1', str(col) + '_Letter2']] = df[col].str.split('', expand=True).iloc[:, 1:3]\n",
      "/tmp/ipykernel_14432/2079303480.py:6: PerformanceWarning: DataFrame is highly fragmented.  This is usually the result of calling `frame.insert` many times, which has poor performance.  Consider joining all columns at once using pd.concat(axis=1) instead. To get a de-fragmented frame, use `newframe = frame.copy()`\n",
      "  df[[str(col) + '_Letter1', str(col) + '_Letter2']] = df[col].str.split('', expand=True).iloc[:, 1:3]\n",
      "/tmp/ipykernel_14432/2079303480.py:6: PerformanceWarning: DataFrame is highly fragmented.  This is usually the result of calling `frame.insert` many times, which has poor performance.  Consider joining all columns at once using pd.concat(axis=1) instead. To get a de-fragmented frame, use `newframe = frame.copy()`\n",
      "  df[[str(col) + '_Letter1', str(col) + '_Letter2']] = df[col].str.split('', expand=True).iloc[:, 1:3]\n",
      "/tmp/ipykernel_14432/2079303480.py:6: PerformanceWarning: DataFrame is highly fragmented.  This is usually the result of calling `frame.insert` many times, which has poor performance.  Consider joining all columns at once using pd.concat(axis=1) instead. To get a de-fragmented frame, use `newframe = frame.copy()`\n",
      "  df[[str(col) + '_Letter1', str(col) + '_Letter2']] = df[col].str.split('', expand=True).iloc[:, 1:3]\n",
      "/tmp/ipykernel_14432/2079303480.py:6: PerformanceWarning: DataFrame is highly fragmented.  This is usually the result of calling `frame.insert` many times, which has poor performance.  Consider joining all columns at once using pd.concat(axis=1) instead. To get a de-fragmented frame, use `newframe = frame.copy()`\n",
      "  df[[str(col) + '_Letter1', str(col) + '_Letter2']] = df[col].str.split('', expand=True).iloc[:, 1:3]\n",
      "/tmp/ipykernel_14432/2079303480.py:6: PerformanceWarning: DataFrame is highly fragmented.  This is usually the result of calling `frame.insert` many times, which has poor performance.  Consider joining all columns at once using pd.concat(axis=1) instead. To get a de-fragmented frame, use `newframe = frame.copy()`\n",
      "  df[[str(col) + '_Letter1', str(col) + '_Letter2']] = df[col].str.split('', expand=True).iloc[:, 1:3]\n",
      "/tmp/ipykernel_14432/2079303480.py:6: PerformanceWarning: DataFrame is highly fragmented.  This is usually the result of calling `frame.insert` many times, which has poor performance.  Consider joining all columns at once using pd.concat(axis=1) instead. To get a de-fragmented frame, use `newframe = frame.copy()`\n",
      "  df[[str(col) + '_Letter1', str(col) + '_Letter2']] = df[col].str.split('', expand=True).iloc[:, 1:3]\n",
      "/tmp/ipykernel_14432/2079303480.py:6: PerformanceWarning: DataFrame is highly fragmented.  This is usually the result of calling `frame.insert` many times, which has poor performance.  Consider joining all columns at once using pd.concat(axis=1) instead. To get a de-fragmented frame, use `newframe = frame.copy()`\n",
      "  df[[str(col) + '_Letter1', str(col) + '_Letter2']] = df[col].str.split('', expand=True).iloc[:, 1:3]\n",
      "/tmp/ipykernel_14432/2079303480.py:6: PerformanceWarning: DataFrame is highly fragmented.  This is usually the result of calling `frame.insert` many times, which has poor performance.  Consider joining all columns at once using pd.concat(axis=1) instead. To get a de-fragmented frame, use `newframe = frame.copy()`\n",
      "  df[[str(col) + '_Letter1', str(col) + '_Letter2']] = df[col].str.split('', expand=True).iloc[:, 1:3]\n",
      "/tmp/ipykernel_14432/2079303480.py:6: PerformanceWarning: DataFrame is highly fragmented.  This is usually the result of calling `frame.insert` many times, which has poor performance.  Consider joining all columns at once using pd.concat(axis=1) instead. To get a de-fragmented frame, use `newframe = frame.copy()`\n",
      "  df[[str(col) + '_Letter1', str(col) + '_Letter2']] = df[col].str.split('', expand=True).iloc[:, 1:3]\n",
      "/tmp/ipykernel_14432/2079303480.py:6: PerformanceWarning: DataFrame is highly fragmented.  This is usually the result of calling `frame.insert` many times, which has poor performance.  Consider joining all columns at once using pd.concat(axis=1) instead. To get a de-fragmented frame, use `newframe = frame.copy()`\n",
      "  df[[str(col) + '_Letter1', str(col) + '_Letter2']] = df[col].str.split('', expand=True).iloc[:, 1:3]\n",
      "/tmp/ipykernel_14432/2079303480.py:6: PerformanceWarning: DataFrame is highly fragmented.  This is usually the result of calling `frame.insert` many times, which has poor performance.  Consider joining all columns at once using pd.concat(axis=1) instead. To get a de-fragmented frame, use `newframe = frame.copy()`\n",
      "  df[[str(col) + '_Letter1', str(col) + '_Letter2']] = df[col].str.split('', expand=True).iloc[:, 1:3]\n",
      "/tmp/ipykernel_14432/2079303480.py:6: PerformanceWarning: DataFrame is highly fragmented.  This is usually the result of calling `frame.insert` many times, which has poor performance.  Consider joining all columns at once using pd.concat(axis=1) instead. To get a de-fragmented frame, use `newframe = frame.copy()`\n",
      "  df[[str(col) + '_Letter1', str(col) + '_Letter2']] = df[col].str.split('', expand=True).iloc[:, 1:3]\n",
      "/tmp/ipykernel_14432/2079303480.py:6: PerformanceWarning: DataFrame is highly fragmented.  This is usually the result of calling `frame.insert` many times, which has poor performance.  Consider joining all columns at once using pd.concat(axis=1) instead. To get a de-fragmented frame, use `newframe = frame.copy()`\n",
      "  df[[str(col) + '_Letter1', str(col) + '_Letter2']] = df[col].str.split('', expand=True).iloc[:, 1:3]\n",
      "/tmp/ipykernel_14432/2079303480.py:6: PerformanceWarning: DataFrame is highly fragmented.  This is usually the result of calling `frame.insert` many times, which has poor performance.  Consider joining all columns at once using pd.concat(axis=1) instead. To get a de-fragmented frame, use `newframe = frame.copy()`\n",
      "  df[[str(col) + '_Letter1', str(col) + '_Letter2']] = df[col].str.split('', expand=True).iloc[:, 1:3]\n",
      "/tmp/ipykernel_14432/2079303480.py:6: PerformanceWarning: DataFrame is highly fragmented.  This is usually the result of calling `frame.insert` many times, which has poor performance.  Consider joining all columns at once using pd.concat(axis=1) instead. To get a de-fragmented frame, use `newframe = frame.copy()`\n",
      "  df[[str(col) + '_Letter1', str(col) + '_Letter2']] = df[col].str.split('', expand=True).iloc[:, 1:3]\n",
      "/tmp/ipykernel_14432/2079303480.py:6: PerformanceWarning: DataFrame is highly fragmented.  This is usually the result of calling `frame.insert` many times, which has poor performance.  Consider joining all columns at once using pd.concat(axis=1) instead. To get a de-fragmented frame, use `newframe = frame.copy()`\n",
      "  df[[str(col) + '_Letter1', str(col) + '_Letter2']] = df[col].str.split('', expand=True).iloc[:, 1:3]\n",
      "/tmp/ipykernel_14432/2079303480.py:6: PerformanceWarning: DataFrame is highly fragmented.  This is usually the result of calling `frame.insert` many times, which has poor performance.  Consider joining all columns at once using pd.concat(axis=1) instead. To get a de-fragmented frame, use `newframe = frame.copy()`\n",
      "  df[[str(col) + '_Letter1', str(col) + '_Letter2']] = df[col].str.split('', expand=True).iloc[:, 1:3]\n",
      "/tmp/ipykernel_14432/2079303480.py:6: PerformanceWarning: DataFrame is highly fragmented.  This is usually the result of calling `frame.insert` many times, which has poor performance.  Consider joining all columns at once using pd.concat(axis=1) instead. To get a de-fragmented frame, use `newframe = frame.copy()`\n",
      "  df[[str(col) + '_Letter1', str(col) + '_Letter2']] = df[col].str.split('', expand=True).iloc[:, 1:3]\n",
      "/tmp/ipykernel_14432/2079303480.py:6: PerformanceWarning: DataFrame is highly fragmented.  This is usually the result of calling `frame.insert` many times, which has poor performance.  Consider joining all columns at once using pd.concat(axis=1) instead. To get a de-fragmented frame, use `newframe = frame.copy()`\n",
      "  df[[str(col) + '_Letter1', str(col) + '_Letter2']] = df[col].str.split('', expand=True).iloc[:, 1:3]\n",
      "/tmp/ipykernel_14432/2079303480.py:6: PerformanceWarning: DataFrame is highly fragmented.  This is usually the result of calling `frame.insert` many times, which has poor performance.  Consider joining all columns at once using pd.concat(axis=1) instead. To get a de-fragmented frame, use `newframe = frame.copy()`\n",
      "  df[[str(col) + '_Letter1', str(col) + '_Letter2']] = df[col].str.split('', expand=True).iloc[:, 1:3]\n",
      "/tmp/ipykernel_14432/2079303480.py:6: PerformanceWarning: DataFrame is highly fragmented.  This is usually the result of calling `frame.insert` many times, which has poor performance.  Consider joining all columns at once using pd.concat(axis=1) instead. To get a de-fragmented frame, use `newframe = frame.copy()`\n",
      "  df[[str(col) + '_Letter1', str(col) + '_Letter2']] = df[col].str.split('', expand=True).iloc[:, 1:3]\n",
      "/tmp/ipykernel_14432/2079303480.py:6: PerformanceWarning: DataFrame is highly fragmented.  This is usually the result of calling `frame.insert` many times, which has poor performance.  Consider joining all columns at once using pd.concat(axis=1) instead. To get a de-fragmented frame, use `newframe = frame.copy()`\n",
      "  df[[str(col) + '_Letter1', str(col) + '_Letter2']] = df[col].str.split('', expand=True).iloc[:, 1:3]\n",
      "/tmp/ipykernel_14432/2079303480.py:6: PerformanceWarning: DataFrame is highly fragmented.  This is usually the result of calling `frame.insert` many times, which has poor performance.  Consider joining all columns at once using pd.concat(axis=1) instead. To get a de-fragmented frame, use `newframe = frame.copy()`\n",
      "  df[[str(col) + '_Letter1', str(col) + '_Letter2']] = df[col].str.split('', expand=True).iloc[:, 1:3]\n",
      "/tmp/ipykernel_14432/2079303480.py:6: PerformanceWarning: DataFrame is highly fragmented.  This is usually the result of calling `frame.insert` many times, which has poor performance.  Consider joining all columns at once using pd.concat(axis=1) instead. To get a de-fragmented frame, use `newframe = frame.copy()`\n",
      "  df[[str(col) + '_Letter1', str(col) + '_Letter2']] = df[col].str.split('', expand=True).iloc[:, 1:3]\n",
      "/tmp/ipykernel_14432/2079303480.py:6: PerformanceWarning: DataFrame is highly fragmented.  This is usually the result of calling `frame.insert` many times, which has poor performance.  Consider joining all columns at once using pd.concat(axis=1) instead. To get a de-fragmented frame, use `newframe = frame.copy()`\n",
      "  df[[str(col) + '_Letter1', str(col) + '_Letter2']] = df[col].str.split('', expand=True).iloc[:, 1:3]\n",
      "/tmp/ipykernel_14432/2079303480.py:6: PerformanceWarning: DataFrame is highly fragmented.  This is usually the result of calling `frame.insert` many times, which has poor performance.  Consider joining all columns at once using pd.concat(axis=1) instead. To get a de-fragmented frame, use `newframe = frame.copy()`\n",
      "  df[[str(col) + '_Letter1', str(col) + '_Letter2']] = df[col].str.split('', expand=True).iloc[:, 1:3]\n",
      "/tmp/ipykernel_14432/2079303480.py:6: PerformanceWarning: DataFrame is highly fragmented.  This is usually the result of calling `frame.insert` many times, which has poor performance.  Consider joining all columns at once using pd.concat(axis=1) instead. To get a de-fragmented frame, use `newframe = frame.copy()`\n",
      "  df[[str(col) + '_Letter1', str(col) + '_Letter2']] = df[col].str.split('', expand=True).iloc[:, 1:3]\n",
      "/tmp/ipykernel_14432/2079303480.py:6: PerformanceWarning: DataFrame is highly fragmented.  This is usually the result of calling `frame.insert` many times, which has poor performance.  Consider joining all columns at once using pd.concat(axis=1) instead. To get a de-fragmented frame, use `newframe = frame.copy()`\n",
      "  df[[str(col) + '_Letter1', str(col) + '_Letter2']] = df[col].str.split('', expand=True).iloc[:, 1:3]\n",
      "/tmp/ipykernel_14432/2079303480.py:6: PerformanceWarning: DataFrame is highly fragmented.  This is usually the result of calling `frame.insert` many times, which has poor performance.  Consider joining all columns at once using pd.concat(axis=1) instead. To get a de-fragmented frame, use `newframe = frame.copy()`\n",
      "  df[[str(col) + '_Letter1', str(col) + '_Letter2']] = df[col].str.split('', expand=True).iloc[:, 1:3]\n",
      "/tmp/ipykernel_14432/2079303480.py:6: PerformanceWarning: DataFrame is highly fragmented.  This is usually the result of calling `frame.insert` many times, which has poor performance.  Consider joining all columns at once using pd.concat(axis=1) instead. To get a de-fragmented frame, use `newframe = frame.copy()`\n",
      "  df[[str(col) + '_Letter1', str(col) + '_Letter2']] = df[col].str.split('', expand=True).iloc[:, 1:3]\n",
      "/tmp/ipykernel_14432/2079303480.py:6: PerformanceWarning: DataFrame is highly fragmented.  This is usually the result of calling `frame.insert` many times, which has poor performance.  Consider joining all columns at once using pd.concat(axis=1) instead. To get a de-fragmented frame, use `newframe = frame.copy()`\n",
      "  df[[str(col) + '_Letter1', str(col) + '_Letter2']] = df[col].str.split('', expand=True).iloc[:, 1:3]\n",
      "/tmp/ipykernel_14432/2079303480.py:6: PerformanceWarning: DataFrame is highly fragmented.  This is usually the result of calling `frame.insert` many times, which has poor performance.  Consider joining all columns at once using pd.concat(axis=1) instead. To get a de-fragmented frame, use `newframe = frame.copy()`\n",
      "  df[[str(col) + '_Letter1', str(col) + '_Letter2']] = df[col].str.split('', expand=True).iloc[:, 1:3]\n",
      "/tmp/ipykernel_14432/2079303480.py:6: PerformanceWarning: DataFrame is highly fragmented.  This is usually the result of calling `frame.insert` many times, which has poor performance.  Consider joining all columns at once using pd.concat(axis=1) instead. To get a de-fragmented frame, use `newframe = frame.copy()`\n",
      "  df[[str(col) + '_Letter1', str(col) + '_Letter2']] = df[col].str.split('', expand=True).iloc[:, 1:3]\n",
      "/tmp/ipykernel_14432/2079303480.py:6: PerformanceWarning: DataFrame is highly fragmented.  This is usually the result of calling `frame.insert` many times, which has poor performance.  Consider joining all columns at once using pd.concat(axis=1) instead. To get a de-fragmented frame, use `newframe = frame.copy()`\n",
      "  df[[str(col) + '_Letter1', str(col) + '_Letter2']] = df[col].str.split('', expand=True).iloc[:, 1:3]\n",
      "/tmp/ipykernel_14432/2079303480.py:6: PerformanceWarning: DataFrame is highly fragmented.  This is usually the result of calling `frame.insert` many times, which has poor performance.  Consider joining all columns at once using pd.concat(axis=1) instead. To get a de-fragmented frame, use `newframe = frame.copy()`\n",
      "  df[[str(col) + '_Letter1', str(col) + '_Letter2']] = df[col].str.split('', expand=True).iloc[:, 1:3]\n",
      "/tmp/ipykernel_14432/2079303480.py:6: PerformanceWarning: DataFrame is highly fragmented.  This is usually the result of calling `frame.insert` many times, which has poor performance.  Consider joining all columns at once using pd.concat(axis=1) instead. To get a de-fragmented frame, use `newframe = frame.copy()`\n",
      "  df[[str(col) + '_Letter1', str(col) + '_Letter2']] = df[col].str.split('', expand=True).iloc[:, 1:3]\n",
      "/tmp/ipykernel_14432/2079303480.py:6: PerformanceWarning: DataFrame is highly fragmented.  This is usually the result of calling `frame.insert` many times, which has poor performance.  Consider joining all columns at once using pd.concat(axis=1) instead. To get a de-fragmented frame, use `newframe = frame.copy()`\n",
      "  df[[str(col) + '_Letter1', str(col) + '_Letter2']] = df[col].str.split('', expand=True).iloc[:, 1:3]\n",
      "/tmp/ipykernel_14432/2079303480.py:6: PerformanceWarning: DataFrame is highly fragmented.  This is usually the result of calling `frame.insert` many times, which has poor performance.  Consider joining all columns at once using pd.concat(axis=1) instead. To get a de-fragmented frame, use `newframe = frame.copy()`\n",
      "  df[[str(col) + '_Letter1', str(col) + '_Letter2']] = df[col].str.split('', expand=True).iloc[:, 1:3]\n",
      "/tmp/ipykernel_14432/2079303480.py:6: PerformanceWarning: DataFrame is highly fragmented.  This is usually the result of calling `frame.insert` many times, which has poor performance.  Consider joining all columns at once using pd.concat(axis=1) instead. To get a de-fragmented frame, use `newframe = frame.copy()`\n",
      "  df[[str(col) + '_Letter1', str(col) + '_Letter2']] = df[col].str.split('', expand=True).iloc[:, 1:3]\n",
      "/tmp/ipykernel_14432/2079303480.py:6: PerformanceWarning: DataFrame is highly fragmented.  This is usually the result of calling `frame.insert` many times, which has poor performance.  Consider joining all columns at once using pd.concat(axis=1) instead. To get a de-fragmented frame, use `newframe = frame.copy()`\n",
      "  df[[str(col) + '_Letter1', str(col) + '_Letter2']] = df[col].str.split('', expand=True).iloc[:, 1:3]\n",
      "/tmp/ipykernel_14432/2079303480.py:6: PerformanceWarning: DataFrame is highly fragmented.  This is usually the result of calling `frame.insert` many times, which has poor performance.  Consider joining all columns at once using pd.concat(axis=1) instead. To get a de-fragmented frame, use `newframe = frame.copy()`\n",
      "  df[[str(col) + '_Letter1', str(col) + '_Letter2']] = df[col].str.split('', expand=True).iloc[:, 1:3]\n",
      "/tmp/ipykernel_14432/2079303480.py:6: PerformanceWarning: DataFrame is highly fragmented.  This is usually the result of calling `frame.insert` many times, which has poor performance.  Consider joining all columns at once using pd.concat(axis=1) instead. To get a de-fragmented frame, use `newframe = frame.copy()`\n",
      "  df[[str(col) + '_Letter1', str(col) + '_Letter2']] = df[col].str.split('', expand=True).iloc[:, 1:3]\n",
      "/tmp/ipykernel_14432/2079303480.py:6: PerformanceWarning: DataFrame is highly fragmented.  This is usually the result of calling `frame.insert` many times, which has poor performance.  Consider joining all columns at once using pd.concat(axis=1) instead. To get a de-fragmented frame, use `newframe = frame.copy()`\n",
      "  df[[str(col) + '_Letter1', str(col) + '_Letter2']] = df[col].str.split('', expand=True).iloc[:, 1:3]\n",
      "/tmp/ipykernel_14432/2079303480.py:6: PerformanceWarning: DataFrame is highly fragmented.  This is usually the result of calling `frame.insert` many times, which has poor performance.  Consider joining all columns at once using pd.concat(axis=1) instead. To get a de-fragmented frame, use `newframe = frame.copy()`\n",
      "  df[[str(col) + '_Letter1', str(col) + '_Letter2']] = df[col].str.split('', expand=True).iloc[:, 1:3]\n",
      "/tmp/ipykernel_14432/2079303480.py:6: PerformanceWarning: DataFrame is highly fragmented.  This is usually the result of calling `frame.insert` many times, which has poor performance.  Consider joining all columns at once using pd.concat(axis=1) instead. To get a de-fragmented frame, use `newframe = frame.copy()`\n",
      "  df[[str(col) + '_Letter1', str(col) + '_Letter2']] = df[col].str.split('', expand=True).iloc[:, 1:3]\n",
      "/tmp/ipykernel_14432/2079303480.py:6: PerformanceWarning: DataFrame is highly fragmented.  This is usually the result of calling `frame.insert` many times, which has poor performance.  Consider joining all columns at once using pd.concat(axis=1) instead. To get a de-fragmented frame, use `newframe = frame.copy()`\n",
      "  df[[str(col) + '_Letter1', str(col) + '_Letter2']] = df[col].str.split('', expand=True).iloc[:, 1:3]\n",
      "/tmp/ipykernel_14432/2079303480.py:6: PerformanceWarning: DataFrame is highly fragmented.  This is usually the result of calling `frame.insert` many times, which has poor performance.  Consider joining all columns at once using pd.concat(axis=1) instead. To get a de-fragmented frame, use `newframe = frame.copy()`\n",
      "  df[[str(col) + '_Letter1', str(col) + '_Letter2']] = df[col].str.split('', expand=True).iloc[:, 1:3]\n",
      "/tmp/ipykernel_14432/2079303480.py:6: PerformanceWarning: DataFrame is highly fragmented.  This is usually the result of calling `frame.insert` many times, which has poor performance.  Consider joining all columns at once using pd.concat(axis=1) instead. To get a de-fragmented frame, use `newframe = frame.copy()`\n",
      "  df[[str(col) + '_Letter1', str(col) + '_Letter2']] = df[col].str.split('', expand=True).iloc[:, 1:3]\n",
      "/tmp/ipykernel_14432/2079303480.py:6: PerformanceWarning: DataFrame is highly fragmented.  This is usually the result of calling `frame.insert` many times, which has poor performance.  Consider joining all columns at once using pd.concat(axis=1) instead. To get a de-fragmented frame, use `newframe = frame.copy()`\n",
      "  df[[str(col) + '_Letter1', str(col) + '_Letter2']] = df[col].str.split('', expand=True).iloc[:, 1:3]\n",
      "/tmp/ipykernel_14432/2079303480.py:6: PerformanceWarning: DataFrame is highly fragmented.  This is usually the result of calling `frame.insert` many times, which has poor performance.  Consider joining all columns at once using pd.concat(axis=1) instead. To get a de-fragmented frame, use `newframe = frame.copy()`\n",
      "  df[[str(col) + '_Letter1', str(col) + '_Letter2']] = df[col].str.split('', expand=True).iloc[:, 1:3]\n",
      "/tmp/ipykernel_14432/2079303480.py:6: PerformanceWarning: DataFrame is highly fragmented.  This is usually the result of calling `frame.insert` many times, which has poor performance.  Consider joining all columns at once using pd.concat(axis=1) instead. To get a de-fragmented frame, use `newframe = frame.copy()`\n",
      "  df[[str(col) + '_Letter1', str(col) + '_Letter2']] = df[col].str.split('', expand=True).iloc[:, 1:3]\n",
      "/tmp/ipykernel_14432/2079303480.py:6: PerformanceWarning: DataFrame is highly fragmented.  This is usually the result of calling `frame.insert` many times, which has poor performance.  Consider joining all columns at once using pd.concat(axis=1) instead. To get a de-fragmented frame, use `newframe = frame.copy()`\n",
      "  df[[str(col) + '_Letter1', str(col) + '_Letter2']] = df[col].str.split('', expand=True).iloc[:, 1:3]\n",
      "/tmp/ipykernel_14432/2079303480.py:6: PerformanceWarning: DataFrame is highly fragmented.  This is usually the result of calling `frame.insert` many times, which has poor performance.  Consider joining all columns at once using pd.concat(axis=1) instead. To get a de-fragmented frame, use `newframe = frame.copy()`\n",
      "  df[[str(col) + '_Letter1', str(col) + '_Letter2']] = df[col].str.split('', expand=True).iloc[:, 1:3]\n",
      "/tmp/ipykernel_14432/2079303480.py:6: PerformanceWarning: DataFrame is highly fragmented.  This is usually the result of calling `frame.insert` many times, which has poor performance.  Consider joining all columns at once using pd.concat(axis=1) instead. To get a de-fragmented frame, use `newframe = frame.copy()`\n",
      "  df[[str(col) + '_Letter1', str(col) + '_Letter2']] = df[col].str.split('', expand=True).iloc[:, 1:3]\n",
      "/tmp/ipykernel_14432/2079303480.py:6: PerformanceWarning: DataFrame is highly fragmented.  This is usually the result of calling `frame.insert` many times, which has poor performance.  Consider joining all columns at once using pd.concat(axis=1) instead. To get a de-fragmented frame, use `newframe = frame.copy()`\n",
      "  df[[str(col) + '_Letter1', str(col) + '_Letter2']] = df[col].str.split('', expand=True).iloc[:, 1:3]\n",
      "/tmp/ipykernel_14432/2079303480.py:6: PerformanceWarning: DataFrame is highly fragmented.  This is usually the result of calling `frame.insert` many times, which has poor performance.  Consider joining all columns at once using pd.concat(axis=1) instead. To get a de-fragmented frame, use `newframe = frame.copy()`\n",
      "  df[[str(col) + '_Letter1', str(col) + '_Letter2']] = df[col].str.split('', expand=True).iloc[:, 1:3]\n",
      "/tmp/ipykernel_14432/2079303480.py:6: PerformanceWarning: DataFrame is highly fragmented.  This is usually the result of calling `frame.insert` many times, which has poor performance.  Consider joining all columns at once using pd.concat(axis=1) instead. To get a de-fragmented frame, use `newframe = frame.copy()`\n",
      "  df[[str(col) + '_Letter1', str(col) + '_Letter2']] = df[col].str.split('', expand=True).iloc[:, 1:3]\n",
      "/tmp/ipykernel_14432/2079303480.py:6: PerformanceWarning: DataFrame is highly fragmented.  This is usually the result of calling `frame.insert` many times, which has poor performance.  Consider joining all columns at once using pd.concat(axis=1) instead. To get a de-fragmented frame, use `newframe = frame.copy()`\n",
      "  df[[str(col) + '_Letter1', str(col) + '_Letter2']] = df[col].str.split('', expand=True).iloc[:, 1:3]\n",
      "/tmp/ipykernel_14432/2079303480.py:6: PerformanceWarning: DataFrame is highly fragmented.  This is usually the result of calling `frame.insert` many times, which has poor performance.  Consider joining all columns at once using pd.concat(axis=1) instead. To get a de-fragmented frame, use `newframe = frame.copy()`\n",
      "  df[[str(col) + '_Letter1', str(col) + '_Letter2']] = df[col].str.split('', expand=True).iloc[:, 1:3]\n",
      "/tmp/ipykernel_14432/2079303480.py:6: PerformanceWarning: DataFrame is highly fragmented.  This is usually the result of calling `frame.insert` many times, which has poor performance.  Consider joining all columns at once using pd.concat(axis=1) instead. To get a de-fragmented frame, use `newframe = frame.copy()`\n",
      "  df[[str(col) + '_Letter1', str(col) + '_Letter2']] = df[col].str.split('', expand=True).iloc[:, 1:3]\n",
      "/tmp/ipykernel_14432/2079303480.py:6: PerformanceWarning: DataFrame is highly fragmented.  This is usually the result of calling `frame.insert` many times, which has poor performance.  Consider joining all columns at once using pd.concat(axis=1) instead. To get a de-fragmented frame, use `newframe = frame.copy()`\n",
      "  df[[str(col) + '_Letter1', str(col) + '_Letter2']] = df[col].str.split('', expand=True).iloc[:, 1:3]\n",
      "/tmp/ipykernel_14432/2079303480.py:6: PerformanceWarning: DataFrame is highly fragmented.  This is usually the result of calling `frame.insert` many times, which has poor performance.  Consider joining all columns at once using pd.concat(axis=1) instead. To get a de-fragmented frame, use `newframe = frame.copy()`\n",
      "  df[[str(col) + '_Letter1', str(col) + '_Letter2']] = df[col].str.split('', expand=True).iloc[:, 1:3]\n",
      "/tmp/ipykernel_14432/2079303480.py:6: PerformanceWarning: DataFrame is highly fragmented.  This is usually the result of calling `frame.insert` many times, which has poor performance.  Consider joining all columns at once using pd.concat(axis=1) instead. To get a de-fragmented frame, use `newframe = frame.copy()`\n",
      "  df[[str(col) + '_Letter1', str(col) + '_Letter2']] = df[col].str.split('', expand=True).iloc[:, 1:3]\n",
      "/tmp/ipykernel_14432/2079303480.py:6: PerformanceWarning: DataFrame is highly fragmented.  This is usually the result of calling `frame.insert` many times, which has poor performance.  Consider joining all columns at once using pd.concat(axis=1) instead. To get a de-fragmented frame, use `newframe = frame.copy()`\n",
      "  df[[str(col) + '_Letter1', str(col) + '_Letter2']] = df[col].str.split('', expand=True).iloc[:, 1:3]\n",
      "/tmp/ipykernel_14432/2079303480.py:6: PerformanceWarning: DataFrame is highly fragmented.  This is usually the result of calling `frame.insert` many times, which has poor performance.  Consider joining all columns at once using pd.concat(axis=1) instead. To get a de-fragmented frame, use `newframe = frame.copy()`\n",
      "  df[[str(col) + '_Letter1', str(col) + '_Letter2']] = df[col].str.split('', expand=True).iloc[:, 1:3]\n",
      "/tmp/ipykernel_14432/2079303480.py:6: PerformanceWarning: DataFrame is highly fragmented.  This is usually the result of calling `frame.insert` many times, which has poor performance.  Consider joining all columns at once using pd.concat(axis=1) instead. To get a de-fragmented frame, use `newframe = frame.copy()`\n",
      "  df[[str(col) + '_Letter1', str(col) + '_Letter2']] = df[col].str.split('', expand=True).iloc[:, 1:3]\n",
      "/tmp/ipykernel_14432/2079303480.py:6: PerformanceWarning: DataFrame is highly fragmented.  This is usually the result of calling `frame.insert` many times, which has poor performance.  Consider joining all columns at once using pd.concat(axis=1) instead. To get a de-fragmented frame, use `newframe = frame.copy()`\n",
      "  df[[str(col) + '_Letter1', str(col) + '_Letter2']] = df[col].str.split('', expand=True).iloc[:, 1:3]\n",
      "/tmp/ipykernel_14432/2079303480.py:6: PerformanceWarning: DataFrame is highly fragmented.  This is usually the result of calling `frame.insert` many times, which has poor performance.  Consider joining all columns at once using pd.concat(axis=1) instead. To get a de-fragmented frame, use `newframe = frame.copy()`\n",
      "  df[[str(col) + '_Letter1', str(col) + '_Letter2']] = df[col].str.split('', expand=True).iloc[:, 1:3]\n",
      "/tmp/ipykernel_14432/2079303480.py:6: PerformanceWarning: DataFrame is highly fragmented.  This is usually the result of calling `frame.insert` many times, which has poor performance.  Consider joining all columns at once using pd.concat(axis=1) instead. To get a de-fragmented frame, use `newframe = frame.copy()`\n",
      "  df[[str(col) + '_Letter1', str(col) + '_Letter2']] = df[col].str.split('', expand=True).iloc[:, 1:3]\n",
      "/tmp/ipykernel_14432/2079303480.py:6: PerformanceWarning: DataFrame is highly fragmented.  This is usually the result of calling `frame.insert` many times, which has poor performance.  Consider joining all columns at once using pd.concat(axis=1) instead. To get a de-fragmented frame, use `newframe = frame.copy()`\n",
      "  df[[str(col) + '_Letter1', str(col) + '_Letter2']] = df[col].str.split('', expand=True).iloc[:, 1:3]\n",
      "/tmp/ipykernel_14432/2079303480.py:6: PerformanceWarning: DataFrame is highly fragmented.  This is usually the result of calling `frame.insert` many times, which has poor performance.  Consider joining all columns at once using pd.concat(axis=1) instead. To get a de-fragmented frame, use `newframe = frame.copy()`\n",
      "  df[[str(col) + '_Letter1', str(col) + '_Letter2']] = df[col].str.split('', expand=True).iloc[:, 1:3]\n",
      "/tmp/ipykernel_14432/2079303480.py:6: PerformanceWarning: DataFrame is highly fragmented.  This is usually the result of calling `frame.insert` many times, which has poor performance.  Consider joining all columns at once using pd.concat(axis=1) instead. To get a de-fragmented frame, use `newframe = frame.copy()`\n",
      "  df[[str(col) + '_Letter1', str(col) + '_Letter2']] = df[col].str.split('', expand=True).iloc[:, 1:3]\n",
      "/tmp/ipykernel_14432/2079303480.py:6: PerformanceWarning: DataFrame is highly fragmented.  This is usually the result of calling `frame.insert` many times, which has poor performance.  Consider joining all columns at once using pd.concat(axis=1) instead. To get a de-fragmented frame, use `newframe = frame.copy()`\n",
      "  df[[str(col) + '_Letter1', str(col) + '_Letter2']] = df[col].str.split('', expand=True).iloc[:, 1:3]\n",
      "/tmp/ipykernel_14432/2079303480.py:6: PerformanceWarning: DataFrame is highly fragmented.  This is usually the result of calling `frame.insert` many times, which has poor performance.  Consider joining all columns at once using pd.concat(axis=1) instead. To get a de-fragmented frame, use `newframe = frame.copy()`\n",
      "  df[[str(col) + '_Letter1', str(col) + '_Letter2']] = df[col].str.split('', expand=True).iloc[:, 1:3]\n",
      "/tmp/ipykernel_14432/2079303480.py:6: PerformanceWarning: DataFrame is highly fragmented.  This is usually the result of calling `frame.insert` many times, which has poor performance.  Consider joining all columns at once using pd.concat(axis=1) instead. To get a de-fragmented frame, use `newframe = frame.copy()`\n",
      "  df[[str(col) + '_Letter1', str(col) + '_Letter2']] = df[col].str.split('', expand=True).iloc[:, 1:3]\n",
      "/tmp/ipykernel_14432/2079303480.py:6: PerformanceWarning: DataFrame is highly fragmented.  This is usually the result of calling `frame.insert` many times, which has poor performance.  Consider joining all columns at once using pd.concat(axis=1) instead. To get a de-fragmented frame, use `newframe = frame.copy()`\n",
      "  df[[str(col) + '_Letter1', str(col) + '_Letter2']] = df[col].str.split('', expand=True).iloc[:, 1:3]\n",
      "/tmp/ipykernel_14432/2079303480.py:6: PerformanceWarning: DataFrame is highly fragmented.  This is usually the result of calling `frame.insert` many times, which has poor performance.  Consider joining all columns at once using pd.concat(axis=1) instead. To get a de-fragmented frame, use `newframe = frame.copy()`\n",
      "  df[[str(col) + '_Letter1', str(col) + '_Letter2']] = df[col].str.split('', expand=True).iloc[:, 1:3]\n",
      "/tmp/ipykernel_14432/2079303480.py:6: PerformanceWarning: DataFrame is highly fragmented.  This is usually the result of calling `frame.insert` many times, which has poor performance.  Consider joining all columns at once using pd.concat(axis=1) instead. To get a de-fragmented frame, use `newframe = frame.copy()`\n",
      "  df[[str(col) + '_Letter1', str(col) + '_Letter2']] = df[col].str.split('', expand=True).iloc[:, 1:3]\n",
      "/tmp/ipykernel_14432/2079303480.py:6: PerformanceWarning: DataFrame is highly fragmented.  This is usually the result of calling `frame.insert` many times, which has poor performance.  Consider joining all columns at once using pd.concat(axis=1) instead. To get a de-fragmented frame, use `newframe = frame.copy()`\n",
      "  df[[str(col) + '_Letter1', str(col) + '_Letter2']] = df[col].str.split('', expand=True).iloc[:, 1:3]\n",
      "/tmp/ipykernel_14432/2079303480.py:6: PerformanceWarning: DataFrame is highly fragmented.  This is usually the result of calling `frame.insert` many times, which has poor performance.  Consider joining all columns at once using pd.concat(axis=1) instead. To get a de-fragmented frame, use `newframe = frame.copy()`\n",
      "  df[[str(col) + '_Letter1', str(col) + '_Letter2']] = df[col].str.split('', expand=True).iloc[:, 1:3]\n",
      "/tmp/ipykernel_14432/2079303480.py:6: PerformanceWarning: DataFrame is highly fragmented.  This is usually the result of calling `frame.insert` many times, which has poor performance.  Consider joining all columns at once using pd.concat(axis=1) instead. To get a de-fragmented frame, use `newframe = frame.copy()`\n",
      "  df[[str(col) + '_Letter1', str(col) + '_Letter2']] = df[col].str.split('', expand=True).iloc[:, 1:3]\n",
      "/tmp/ipykernel_14432/2079303480.py:6: PerformanceWarning: DataFrame is highly fragmented.  This is usually the result of calling `frame.insert` many times, which has poor performance.  Consider joining all columns at once using pd.concat(axis=1) instead. To get a de-fragmented frame, use `newframe = frame.copy()`\n",
      "  df[[str(col) + '_Letter1', str(col) + '_Letter2']] = df[col].str.split('', expand=True).iloc[:, 1:3]\n",
      "/tmp/ipykernel_14432/2079303480.py:6: PerformanceWarning: DataFrame is highly fragmented.  This is usually the result of calling `frame.insert` many times, which has poor performance.  Consider joining all columns at once using pd.concat(axis=1) instead. To get a de-fragmented frame, use `newframe = frame.copy()`\n",
      "  df[[str(col) + '_Letter1', str(col) + '_Letter2']] = df[col].str.split('', expand=True).iloc[:, 1:3]\n",
      "/tmp/ipykernel_14432/2079303480.py:6: PerformanceWarning: DataFrame is highly fragmented.  This is usually the result of calling `frame.insert` many times, which has poor performance.  Consider joining all columns at once using pd.concat(axis=1) instead. To get a de-fragmented frame, use `newframe = frame.copy()`\n",
      "  df[[str(col) + '_Letter1', str(col) + '_Letter2']] = df[col].str.split('', expand=True).iloc[:, 1:3]\n",
      "/tmp/ipykernel_14432/2079303480.py:6: PerformanceWarning: DataFrame is highly fragmented.  This is usually the result of calling `frame.insert` many times, which has poor performance.  Consider joining all columns at once using pd.concat(axis=1) instead. To get a de-fragmented frame, use `newframe = frame.copy()`\n",
      "  df[[str(col) + '_Letter1', str(col) + '_Letter2']] = df[col].str.split('', expand=True).iloc[:, 1:3]\n",
      "/tmp/ipykernel_14432/2079303480.py:6: PerformanceWarning: DataFrame is highly fragmented.  This is usually the result of calling `frame.insert` many times, which has poor performance.  Consider joining all columns at once using pd.concat(axis=1) instead. To get a de-fragmented frame, use `newframe = frame.copy()`\n",
      "  df[[str(col) + '_Letter1', str(col) + '_Letter2']] = df[col].str.split('', expand=True).iloc[:, 1:3]\n",
      "/tmp/ipykernel_14432/2079303480.py:6: PerformanceWarning: DataFrame is highly fragmented.  This is usually the result of calling `frame.insert` many times, which has poor performance.  Consider joining all columns at once using pd.concat(axis=1) instead. To get a de-fragmented frame, use `newframe = frame.copy()`\n",
      "  df[[str(col) + '_Letter1', str(col) + '_Letter2']] = df[col].str.split('', expand=True).iloc[:, 1:3]\n",
      "/tmp/ipykernel_14432/2079303480.py:6: PerformanceWarning: DataFrame is highly fragmented.  This is usually the result of calling `frame.insert` many times, which has poor performance.  Consider joining all columns at once using pd.concat(axis=1) instead. To get a de-fragmented frame, use `newframe = frame.copy()`\n",
      "  df[[str(col) + '_Letter1', str(col) + '_Letter2']] = df[col].str.split('', expand=True).iloc[:, 1:3]\n",
      "/tmp/ipykernel_14432/2079303480.py:6: PerformanceWarning: DataFrame is highly fragmented.  This is usually the result of calling `frame.insert` many times, which has poor performance.  Consider joining all columns at once using pd.concat(axis=1) instead. To get a de-fragmented frame, use `newframe = frame.copy()`\n",
      "  df[[str(col) + '_Letter1', str(col) + '_Letter2']] = df[col].str.split('', expand=True).iloc[:, 1:3]\n",
      "/tmp/ipykernel_14432/2079303480.py:6: PerformanceWarning: DataFrame is highly fragmented.  This is usually the result of calling `frame.insert` many times, which has poor performance.  Consider joining all columns at once using pd.concat(axis=1) instead. To get a de-fragmented frame, use `newframe = frame.copy()`\n",
      "  df[[str(col) + '_Letter1', str(col) + '_Letter2']] = df[col].str.split('', expand=True).iloc[:, 1:3]\n",
      "/tmp/ipykernel_14432/2079303480.py:6: PerformanceWarning: DataFrame is highly fragmented.  This is usually the result of calling `frame.insert` many times, which has poor performance.  Consider joining all columns at once using pd.concat(axis=1) instead. To get a de-fragmented frame, use `newframe = frame.copy()`\n",
      "  df[[str(col) + '_Letter1', str(col) + '_Letter2']] = df[col].str.split('', expand=True).iloc[:, 1:3]\n",
      "/tmp/ipykernel_14432/2079303480.py:6: PerformanceWarning: DataFrame is highly fragmented.  This is usually the result of calling `frame.insert` many times, which has poor performance.  Consider joining all columns at once using pd.concat(axis=1) instead. To get a de-fragmented frame, use `newframe = frame.copy()`\n",
      "  df[[str(col) + '_Letter1', str(col) + '_Letter2']] = df[col].str.split('', expand=True).iloc[:, 1:3]\n",
      "/tmp/ipykernel_14432/2079303480.py:6: PerformanceWarning: DataFrame is highly fragmented.  This is usually the result of calling `frame.insert` many times, which has poor performance.  Consider joining all columns at once using pd.concat(axis=1) instead. To get a de-fragmented frame, use `newframe = frame.copy()`\n",
      "  df[[str(col) + '_Letter1', str(col) + '_Letter2']] = df[col].str.split('', expand=True).iloc[:, 1:3]\n",
      "/tmp/ipykernel_14432/2079303480.py:6: PerformanceWarning: DataFrame is highly fragmented.  This is usually the result of calling `frame.insert` many times, which has poor performance.  Consider joining all columns at once using pd.concat(axis=1) instead. To get a de-fragmented frame, use `newframe = frame.copy()`\n",
      "  df[[str(col) + '_Letter1', str(col) + '_Letter2']] = df[col].str.split('', expand=True).iloc[:, 1:3]\n",
      "/tmp/ipykernel_14432/2079303480.py:6: PerformanceWarning: DataFrame is highly fragmented.  This is usually the result of calling `frame.insert` many times, which has poor performance.  Consider joining all columns at once using pd.concat(axis=1) instead. To get a de-fragmented frame, use `newframe = frame.copy()`\n",
      "  df[[str(col) + '_Letter1', str(col) + '_Letter2']] = df[col].str.split('', expand=True).iloc[:, 1:3]\n",
      "/tmp/ipykernel_14432/2079303480.py:6: PerformanceWarning: DataFrame is highly fragmented.  This is usually the result of calling `frame.insert` many times, which has poor performance.  Consider joining all columns at once using pd.concat(axis=1) instead. To get a de-fragmented frame, use `newframe = frame.copy()`\n",
      "  df[[str(col) + '_Letter1', str(col) + '_Letter2']] = df[col].str.split('', expand=True).iloc[:, 1:3]\n",
      "/tmp/ipykernel_14432/2079303480.py:6: PerformanceWarning: DataFrame is highly fragmented.  This is usually the result of calling `frame.insert` many times, which has poor performance.  Consider joining all columns at once using pd.concat(axis=1) instead. To get a de-fragmented frame, use `newframe = frame.copy()`\n",
      "  df[[str(col) + '_Letter1', str(col) + '_Letter2']] = df[col].str.split('', expand=True).iloc[:, 1:3]\n",
      "/tmp/ipykernel_14432/2079303480.py:6: PerformanceWarning: DataFrame is highly fragmented.  This is usually the result of calling `frame.insert` many times, which has poor performance.  Consider joining all columns at once using pd.concat(axis=1) instead. To get a de-fragmented frame, use `newframe = frame.copy()`\n",
      "  df[[str(col) + '_Letter1', str(col) + '_Letter2']] = df[col].str.split('', expand=True).iloc[:, 1:3]\n",
      "/tmp/ipykernel_14432/2079303480.py:6: PerformanceWarning: DataFrame is highly fragmented.  This is usually the result of calling `frame.insert` many times, which has poor performance.  Consider joining all columns at once using pd.concat(axis=1) instead. To get a de-fragmented frame, use `newframe = frame.copy()`\n",
      "  df[[str(col) + '_Letter1', str(col) + '_Letter2']] = df[col].str.split('', expand=True).iloc[:, 1:3]\n",
      "/tmp/ipykernel_14432/2079303480.py:6: PerformanceWarning: DataFrame is highly fragmented.  This is usually the result of calling `frame.insert` many times, which has poor performance.  Consider joining all columns at once using pd.concat(axis=1) instead. To get a de-fragmented frame, use `newframe = frame.copy()`\n",
      "  df[[str(col) + '_Letter1', str(col) + '_Letter2']] = df[col].str.split('', expand=True).iloc[:, 1:3]\n",
      "/tmp/ipykernel_14432/2079303480.py:6: PerformanceWarning: DataFrame is highly fragmented.  This is usually the result of calling `frame.insert` many times, which has poor performance.  Consider joining all columns at once using pd.concat(axis=1) instead. To get a de-fragmented frame, use `newframe = frame.copy()`\n",
      "  df[[str(col) + '_Letter1', str(col) + '_Letter2']] = df[col].str.split('', expand=True).iloc[:, 1:3]\n",
      "/tmp/ipykernel_14432/2079303480.py:6: PerformanceWarning: DataFrame is highly fragmented.  This is usually the result of calling `frame.insert` many times, which has poor performance.  Consider joining all columns at once using pd.concat(axis=1) instead. To get a de-fragmented frame, use `newframe = frame.copy()`\n",
      "  df[[str(col) + '_Letter1', str(col) + '_Letter2']] = df[col].str.split('', expand=True).iloc[:, 1:3]\n",
      "/tmp/ipykernel_14432/2079303480.py:6: PerformanceWarning: DataFrame is highly fragmented.  This is usually the result of calling `frame.insert` many times, which has poor performance.  Consider joining all columns at once using pd.concat(axis=1) instead. To get a de-fragmented frame, use `newframe = frame.copy()`\n",
      "  df[[str(col) + '_Letter1', str(col) + '_Letter2']] = df[col].str.split('', expand=True).iloc[:, 1:3]\n",
      "/tmp/ipykernel_14432/2079303480.py:6: PerformanceWarning: DataFrame is highly fragmented.  This is usually the result of calling `frame.insert` many times, which has poor performance.  Consider joining all columns at once using pd.concat(axis=1) instead. To get a de-fragmented frame, use `newframe = frame.copy()`\n",
      "  df[[str(col) + '_Letter1', str(col) + '_Letter2']] = df[col].str.split('', expand=True).iloc[:, 1:3]\n",
      "/tmp/ipykernel_14432/2079303480.py:6: PerformanceWarning: DataFrame is highly fragmented.  This is usually the result of calling `frame.insert` many times, which has poor performance.  Consider joining all columns at once using pd.concat(axis=1) instead. To get a de-fragmented frame, use `newframe = frame.copy()`\n",
      "  df[[str(col) + '_Letter1', str(col) + '_Letter2']] = df[col].str.split('', expand=True).iloc[:, 1:3]\n",
      "/tmp/ipykernel_14432/2079303480.py:6: PerformanceWarning: DataFrame is highly fragmented.  This is usually the result of calling `frame.insert` many times, which has poor performance.  Consider joining all columns at once using pd.concat(axis=1) instead. To get a de-fragmented frame, use `newframe = frame.copy()`\n",
      "  df[[str(col) + '_Letter1', str(col) + '_Letter2']] = df[col].str.split('', expand=True).iloc[:, 1:3]\n",
      "/tmp/ipykernel_14432/2079303480.py:6: PerformanceWarning: DataFrame is highly fragmented.  This is usually the result of calling `frame.insert` many times, which has poor performance.  Consider joining all columns at once using pd.concat(axis=1) instead. To get a de-fragmented frame, use `newframe = frame.copy()`\n",
      "  df[[str(col) + '_Letter1', str(col) + '_Letter2']] = df[col].str.split('', expand=True).iloc[:, 1:3]\n",
      "/tmp/ipykernel_14432/2079303480.py:6: PerformanceWarning: DataFrame is highly fragmented.  This is usually the result of calling `frame.insert` many times, which has poor performance.  Consider joining all columns at once using pd.concat(axis=1) instead. To get a de-fragmented frame, use `newframe = frame.copy()`\n",
      "  df[[str(col) + '_Letter1', str(col) + '_Letter2']] = df[col].str.split('', expand=True).iloc[:, 1:3]\n",
      "/tmp/ipykernel_14432/2079303480.py:6: PerformanceWarning: DataFrame is highly fragmented.  This is usually the result of calling `frame.insert` many times, which has poor performance.  Consider joining all columns at once using pd.concat(axis=1) instead. To get a de-fragmented frame, use `newframe = frame.copy()`\n",
      "  df[[str(col) + '_Letter1', str(col) + '_Letter2']] = df[col].str.split('', expand=True).iloc[:, 1:3]\n",
      "/tmp/ipykernel_14432/2079303480.py:6: PerformanceWarning: DataFrame is highly fragmented.  This is usually the result of calling `frame.insert` many times, which has poor performance.  Consider joining all columns at once using pd.concat(axis=1) instead. To get a de-fragmented frame, use `newframe = frame.copy()`\n",
      "  df[[str(col) + '_Letter1', str(col) + '_Letter2']] = df[col].str.split('', expand=True).iloc[:, 1:3]\n",
      "/tmp/ipykernel_14432/2079303480.py:6: PerformanceWarning: DataFrame is highly fragmented.  This is usually the result of calling `frame.insert` many times, which has poor performance.  Consider joining all columns at once using pd.concat(axis=1) instead. To get a de-fragmented frame, use `newframe = frame.copy()`\n",
      "  df[[str(col) + '_Letter1', str(col) + '_Letter2']] = df[col].str.split('', expand=True).iloc[:, 1:3]\n",
      "/tmp/ipykernel_14432/2079303480.py:6: PerformanceWarning: DataFrame is highly fragmented.  This is usually the result of calling `frame.insert` many times, which has poor performance.  Consider joining all columns at once using pd.concat(axis=1) instead. To get a de-fragmented frame, use `newframe = frame.copy()`\n",
      "  df[[str(col) + '_Letter1', str(col) + '_Letter2']] = df[col].str.split('', expand=True).iloc[:, 1:3]\n",
      "/tmp/ipykernel_14432/2079303480.py:6: PerformanceWarning: DataFrame is highly fragmented.  This is usually the result of calling `frame.insert` many times, which has poor performance.  Consider joining all columns at once using pd.concat(axis=1) instead. To get a de-fragmented frame, use `newframe = frame.copy()`\n",
      "  df[[str(col) + '_Letter1', str(col) + '_Letter2']] = df[col].str.split('', expand=True).iloc[:, 1:3]\n",
      "/tmp/ipykernel_14432/2079303480.py:6: PerformanceWarning: DataFrame is highly fragmented.  This is usually the result of calling `frame.insert` many times, which has poor performance.  Consider joining all columns at once using pd.concat(axis=1) instead. To get a de-fragmented frame, use `newframe = frame.copy()`\n",
      "  df[[str(col) + '_Letter1', str(col) + '_Letter2']] = df[col].str.split('', expand=True).iloc[:, 1:3]\n",
      "/tmp/ipykernel_14432/2079303480.py:6: PerformanceWarning: DataFrame is highly fragmented.  This is usually the result of calling `frame.insert` many times, which has poor performance.  Consider joining all columns at once using pd.concat(axis=1) instead. To get a de-fragmented frame, use `newframe = frame.copy()`\n",
      "  df[[str(col) + '_Letter1', str(col) + '_Letter2']] = df[col].str.split('', expand=True).iloc[:, 1:3]\n",
      "/tmp/ipykernel_14432/2079303480.py:6: PerformanceWarning: DataFrame is highly fragmented.  This is usually the result of calling `frame.insert` many times, which has poor performance.  Consider joining all columns at once using pd.concat(axis=1) instead. To get a de-fragmented frame, use `newframe = frame.copy()`\n",
      "  df[[str(col) + '_Letter1', str(col) + '_Letter2']] = df[col].str.split('', expand=True).iloc[:, 1:3]\n",
      "/tmp/ipykernel_14432/2079303480.py:6: PerformanceWarning: DataFrame is highly fragmented.  This is usually the result of calling `frame.insert` many times, which has poor performance.  Consider joining all columns at once using pd.concat(axis=1) instead. To get a de-fragmented frame, use `newframe = frame.copy()`\n",
      "  df[[str(col) + '_Letter1', str(col) + '_Letter2']] = df[col].str.split('', expand=True).iloc[:, 1:3]\n",
      "/tmp/ipykernel_14432/2079303480.py:6: PerformanceWarning: DataFrame is highly fragmented.  This is usually the result of calling `frame.insert` many times, which has poor performance.  Consider joining all columns at once using pd.concat(axis=1) instead. To get a de-fragmented frame, use `newframe = frame.copy()`\n",
      "  df[[str(col) + '_Letter1', str(col) + '_Letter2']] = df[col].str.split('', expand=True).iloc[:, 1:3]\n",
      "/tmp/ipykernel_14432/2079303480.py:6: PerformanceWarning: DataFrame is highly fragmented.  This is usually the result of calling `frame.insert` many times, which has poor performance.  Consider joining all columns at once using pd.concat(axis=1) instead. To get a de-fragmented frame, use `newframe = frame.copy()`\n",
      "  df[[str(col) + '_Letter1', str(col) + '_Letter2']] = df[col].str.split('', expand=True).iloc[:, 1:3]\n",
      "/tmp/ipykernel_14432/2079303480.py:6: PerformanceWarning: DataFrame is highly fragmented.  This is usually the result of calling `frame.insert` many times, which has poor performance.  Consider joining all columns at once using pd.concat(axis=1) instead. To get a de-fragmented frame, use `newframe = frame.copy()`\n",
      "  df[[str(col) + '_Letter1', str(col) + '_Letter2']] = df[col].str.split('', expand=True).iloc[:, 1:3]\n",
      "/tmp/ipykernel_14432/2079303480.py:6: PerformanceWarning: DataFrame is highly fragmented.  This is usually the result of calling `frame.insert` many times, which has poor performance.  Consider joining all columns at once using pd.concat(axis=1) instead. To get a de-fragmented frame, use `newframe = frame.copy()`\n",
      "  df[[str(col) + '_Letter1', str(col) + '_Letter2']] = df[col].str.split('', expand=True).iloc[:, 1:3]\n",
      "/tmp/ipykernel_14432/2079303480.py:6: PerformanceWarning: DataFrame is highly fragmented.  This is usually the result of calling `frame.insert` many times, which has poor performance.  Consider joining all columns at once using pd.concat(axis=1) instead. To get a de-fragmented frame, use `newframe = frame.copy()`\n",
      "  df[[str(col) + '_Letter1', str(col) + '_Letter2']] = df[col].str.split('', expand=True).iloc[:, 1:3]\n",
      "/tmp/ipykernel_14432/2079303480.py:6: PerformanceWarning: DataFrame is highly fragmented.  This is usually the result of calling `frame.insert` many times, which has poor performance.  Consider joining all columns at once using pd.concat(axis=1) instead. To get a de-fragmented frame, use `newframe = frame.copy()`\n",
      "  df[[str(col) + '_Letter1', str(col) + '_Letter2']] = df[col].str.split('', expand=True).iloc[:, 1:3]\n",
      "/tmp/ipykernel_14432/2079303480.py:6: PerformanceWarning: DataFrame is highly fragmented.  This is usually the result of calling `frame.insert` many times, which has poor performance.  Consider joining all columns at once using pd.concat(axis=1) instead. To get a de-fragmented frame, use `newframe = frame.copy()`\n",
      "  df[[str(col) + '_Letter1', str(col) + '_Letter2']] = df[col].str.split('', expand=True).iloc[:, 1:3]\n",
      "/tmp/ipykernel_14432/2079303480.py:6: PerformanceWarning: DataFrame is highly fragmented.  This is usually the result of calling `frame.insert` many times, which has poor performance.  Consider joining all columns at once using pd.concat(axis=1) instead. To get a de-fragmented frame, use `newframe = frame.copy()`\n",
      "  df[[str(col) + '_Letter1', str(col) + '_Letter2']] = df[col].str.split('', expand=True).iloc[:, 1:3]\n",
      "/tmp/ipykernel_14432/2079303480.py:6: PerformanceWarning: DataFrame is highly fragmented.  This is usually the result of calling `frame.insert` many times, which has poor performance.  Consider joining all columns at once using pd.concat(axis=1) instead. To get a de-fragmented frame, use `newframe = frame.copy()`\n",
      "  df[[str(col) + '_Letter1', str(col) + '_Letter2']] = df[col].str.split('', expand=True).iloc[:, 1:3]\n",
      "/tmp/ipykernel_14432/2079303480.py:6: PerformanceWarning: DataFrame is highly fragmented.  This is usually the result of calling `frame.insert` many times, which has poor performance.  Consider joining all columns at once using pd.concat(axis=1) instead. To get a de-fragmented frame, use `newframe = frame.copy()`\n",
      "  df[[str(col) + '_Letter1', str(col) + '_Letter2']] = df[col].str.split('', expand=True).iloc[:, 1:3]\n",
      "/tmp/ipykernel_14432/2079303480.py:6: PerformanceWarning: DataFrame is highly fragmented.  This is usually the result of calling `frame.insert` many times, which has poor performance.  Consider joining all columns at once using pd.concat(axis=1) instead. To get a de-fragmented frame, use `newframe = frame.copy()`\n",
      "  df[[str(col) + '_Letter1', str(col) + '_Letter2']] = df[col].str.split('', expand=True).iloc[:, 1:3]\n",
      "/tmp/ipykernel_14432/2079303480.py:6: PerformanceWarning: DataFrame is highly fragmented.  This is usually the result of calling `frame.insert` many times, which has poor performance.  Consider joining all columns at once using pd.concat(axis=1) instead. To get a de-fragmented frame, use `newframe = frame.copy()`\n",
      "  df[[str(col) + '_Letter1', str(col) + '_Letter2']] = df[col].str.split('', expand=True).iloc[:, 1:3]\n",
      "/tmp/ipykernel_14432/2079303480.py:6: PerformanceWarning: DataFrame is highly fragmented.  This is usually the result of calling `frame.insert` many times, which has poor performance.  Consider joining all columns at once using pd.concat(axis=1) instead. To get a de-fragmented frame, use `newframe = frame.copy()`\n",
      "  df[[str(col) + '_Letter1', str(col) + '_Letter2']] = df[col].str.split('', expand=True).iloc[:, 1:3]\n",
      "/tmp/ipykernel_14432/2079303480.py:6: PerformanceWarning: DataFrame is highly fragmented.  This is usually the result of calling `frame.insert` many times, which has poor performance.  Consider joining all columns at once using pd.concat(axis=1) instead. To get a de-fragmented frame, use `newframe = frame.copy()`\n",
      "  df[[str(col) + '_Letter1', str(col) + '_Letter2']] = df[col].str.split('', expand=True).iloc[:, 1:3]\n",
      "/tmp/ipykernel_14432/2079303480.py:6: PerformanceWarning: DataFrame is highly fragmented.  This is usually the result of calling `frame.insert` many times, which has poor performance.  Consider joining all columns at once using pd.concat(axis=1) instead. To get a de-fragmented frame, use `newframe = frame.copy()`\n",
      "  df[[str(col) + '_Letter1', str(col) + '_Letter2']] = df[col].str.split('', expand=True).iloc[:, 1:3]\n",
      "/tmp/ipykernel_14432/2079303480.py:6: PerformanceWarning: DataFrame is highly fragmented.  This is usually the result of calling `frame.insert` many times, which has poor performance.  Consider joining all columns at once using pd.concat(axis=1) instead. To get a de-fragmented frame, use `newframe = frame.copy()`\n",
      "  df[[str(col) + '_Letter1', str(col) + '_Letter2']] = df[col].str.split('', expand=True).iloc[:, 1:3]\n",
      "/tmp/ipykernel_14432/2079303480.py:6: PerformanceWarning: DataFrame is highly fragmented.  This is usually the result of calling `frame.insert` many times, which has poor performance.  Consider joining all columns at once using pd.concat(axis=1) instead. To get a de-fragmented frame, use `newframe = frame.copy()`\n",
      "  df[[str(col) + '_Letter1', str(col) + '_Letter2']] = df[col].str.split('', expand=True).iloc[:, 1:3]\n",
      "/tmp/ipykernel_14432/2079303480.py:6: PerformanceWarning: DataFrame is highly fragmented.  This is usually the result of calling `frame.insert` many times, which has poor performance.  Consider joining all columns at once using pd.concat(axis=1) instead. To get a de-fragmented frame, use `newframe = frame.copy()`\n",
      "  df[[str(col) + '_Letter1', str(col) + '_Letter2']] = df[col].str.split('', expand=True).iloc[:, 1:3]\n",
      "/tmp/ipykernel_14432/2079303480.py:6: PerformanceWarning: DataFrame is highly fragmented.  This is usually the result of calling `frame.insert` many times, which has poor performance.  Consider joining all columns at once using pd.concat(axis=1) instead. To get a de-fragmented frame, use `newframe = frame.copy()`\n",
      "  df[[str(col) + '_Letter1', str(col) + '_Letter2']] = df[col].str.split('', expand=True).iloc[:, 1:3]\n",
      "/tmp/ipykernel_14432/2079303480.py:6: PerformanceWarning: DataFrame is highly fragmented.  This is usually the result of calling `frame.insert` many times, which has poor performance.  Consider joining all columns at once using pd.concat(axis=1) instead. To get a de-fragmented frame, use `newframe = frame.copy()`\n",
      "  df[[str(col) + '_Letter1', str(col) + '_Letter2']] = df[col].str.split('', expand=True).iloc[:, 1:3]\n",
      "/tmp/ipykernel_14432/2079303480.py:6: PerformanceWarning: DataFrame is highly fragmented.  This is usually the result of calling `frame.insert` many times, which has poor performance.  Consider joining all columns at once using pd.concat(axis=1) instead. To get a de-fragmented frame, use `newframe = frame.copy()`\n",
      "  df[[str(col) + '_Letter1', str(col) + '_Letter2']] = df[col].str.split('', expand=True).iloc[:, 1:3]\n",
      "/tmp/ipykernel_14432/2079303480.py:6: PerformanceWarning: DataFrame is highly fragmented.  This is usually the result of calling `frame.insert` many times, which has poor performance.  Consider joining all columns at once using pd.concat(axis=1) instead. To get a de-fragmented frame, use `newframe = frame.copy()`\n",
      "  df[[str(col) + '_Letter1', str(col) + '_Letter2']] = df[col].str.split('', expand=True).iloc[:, 1:3]\n",
      "/tmp/ipykernel_14432/2079303480.py:6: PerformanceWarning: DataFrame is highly fragmented.  This is usually the result of calling `frame.insert` many times, which has poor performance.  Consider joining all columns at once using pd.concat(axis=1) instead. To get a de-fragmented frame, use `newframe = frame.copy()`\n",
      "  df[[str(col) + '_Letter1', str(col) + '_Letter2']] = df[col].str.split('', expand=True).iloc[:, 1:3]\n",
      "/tmp/ipykernel_14432/2079303480.py:6: PerformanceWarning: DataFrame is highly fragmented.  This is usually the result of calling `frame.insert` many times, which has poor performance.  Consider joining all columns at once using pd.concat(axis=1) instead. To get a de-fragmented frame, use `newframe = frame.copy()`\n",
      "  df[[str(col) + '_Letter1', str(col) + '_Letter2']] = df[col].str.split('', expand=True).iloc[:, 1:3]\n",
      "/tmp/ipykernel_14432/2079303480.py:6: PerformanceWarning: DataFrame is highly fragmented.  This is usually the result of calling `frame.insert` many times, which has poor performance.  Consider joining all columns at once using pd.concat(axis=1) instead. To get a de-fragmented frame, use `newframe = frame.copy()`\n",
      "  df[[str(col) + '_Letter1', str(col) + '_Letter2']] = df[col].str.split('', expand=True).iloc[:, 1:3]\n",
      "/tmp/ipykernel_14432/2079303480.py:6: PerformanceWarning: DataFrame is highly fragmented.  This is usually the result of calling `frame.insert` many times, which has poor performance.  Consider joining all columns at once using pd.concat(axis=1) instead. To get a de-fragmented frame, use `newframe = frame.copy()`\n",
      "  df[[str(col) + '_Letter1', str(col) + '_Letter2']] = df[col].str.split('', expand=True).iloc[:, 1:3]\n",
      "/tmp/ipykernel_14432/2079303480.py:6: PerformanceWarning: DataFrame is highly fragmented.  This is usually the result of calling `frame.insert` many times, which has poor performance.  Consider joining all columns at once using pd.concat(axis=1) instead. To get a de-fragmented frame, use `newframe = frame.copy()`\n",
      "  df[[str(col) + '_Letter1', str(col) + '_Letter2']] = df[col].str.split('', expand=True).iloc[:, 1:3]\n",
      "/tmp/ipykernel_14432/2079303480.py:6: PerformanceWarning: DataFrame is highly fragmented.  This is usually the result of calling `frame.insert` many times, which has poor performance.  Consider joining all columns at once using pd.concat(axis=1) instead. To get a de-fragmented frame, use `newframe = frame.copy()`\n",
      "  df[[str(col) + '_Letter1', str(col) + '_Letter2']] = df[col].str.split('', expand=True).iloc[:, 1:3]\n",
      "/tmp/ipykernel_14432/2079303480.py:6: PerformanceWarning: DataFrame is highly fragmented.  This is usually the result of calling `frame.insert` many times, which has poor performance.  Consider joining all columns at once using pd.concat(axis=1) instead. To get a de-fragmented frame, use `newframe = frame.copy()`\n",
      "  df[[str(col) + '_Letter1', str(col) + '_Letter2']] = df[col].str.split('', expand=True).iloc[:, 1:3]\n",
      "/tmp/ipykernel_14432/2079303480.py:6: PerformanceWarning: DataFrame is highly fragmented.  This is usually the result of calling `frame.insert` many times, which has poor performance.  Consider joining all columns at once using pd.concat(axis=1) instead. To get a de-fragmented frame, use `newframe = frame.copy()`\n",
      "  df[[str(col) + '_Letter1', str(col) + '_Letter2']] = df[col].str.split('', expand=True).iloc[:, 1:3]\n",
      "/tmp/ipykernel_14432/2079303480.py:6: PerformanceWarning: DataFrame is highly fragmented.  This is usually the result of calling `frame.insert` many times, which has poor performance.  Consider joining all columns at once using pd.concat(axis=1) instead. To get a de-fragmented frame, use `newframe = frame.copy()`\n",
      "  df[[str(col) + '_Letter1', str(col) + '_Letter2']] = df[col].str.split('', expand=True).iloc[:, 1:3]\n",
      "/tmp/ipykernel_14432/2079303480.py:6: PerformanceWarning: DataFrame is highly fragmented.  This is usually the result of calling `frame.insert` many times, which has poor performance.  Consider joining all columns at once using pd.concat(axis=1) instead. To get a de-fragmented frame, use `newframe = frame.copy()`\n",
      "  df[[str(col) + '_Letter1', str(col) + '_Letter2']] = df[col].str.split('', expand=True).iloc[:, 1:3]\n",
      "/tmp/ipykernel_14432/2079303480.py:6: PerformanceWarning: DataFrame is highly fragmented.  This is usually the result of calling `frame.insert` many times, which has poor performance.  Consider joining all columns at once using pd.concat(axis=1) instead. To get a de-fragmented frame, use `newframe = frame.copy()`\n",
      "  df[[str(col) + '_Letter1', str(col) + '_Letter2']] = df[col].str.split('', expand=True).iloc[:, 1:3]\n",
      "/tmp/ipykernel_14432/2079303480.py:6: PerformanceWarning: DataFrame is highly fragmented.  This is usually the result of calling `frame.insert` many times, which has poor performance.  Consider joining all columns at once using pd.concat(axis=1) instead. To get a de-fragmented frame, use `newframe = frame.copy()`\n",
      "  df[[str(col) + '_Letter1', str(col) + '_Letter2']] = df[col].str.split('', expand=True).iloc[:, 1:3]\n",
      "/tmp/ipykernel_14432/2079303480.py:6: PerformanceWarning: DataFrame is highly fragmented.  This is usually the result of calling `frame.insert` many times, which has poor performance.  Consider joining all columns at once using pd.concat(axis=1) instead. To get a de-fragmented frame, use `newframe = frame.copy()`\n",
      "  df[[str(col) + '_Letter1', str(col) + '_Letter2']] = df[col].str.split('', expand=True).iloc[:, 1:3]\n",
      "/tmp/ipykernel_14432/2079303480.py:6: PerformanceWarning: DataFrame is highly fragmented.  This is usually the result of calling `frame.insert` many times, which has poor performance.  Consider joining all columns at once using pd.concat(axis=1) instead. To get a de-fragmented frame, use `newframe = frame.copy()`\n",
      "  df[[str(col) + '_Letter1', str(col) + '_Letter2']] = df[col].str.split('', expand=True).iloc[:, 1:3]\n",
      "/tmp/ipykernel_14432/2079303480.py:6: PerformanceWarning: DataFrame is highly fragmented.  This is usually the result of calling `frame.insert` many times, which has poor performance.  Consider joining all columns at once using pd.concat(axis=1) instead. To get a de-fragmented frame, use `newframe = frame.copy()`\n",
      "  df[[str(col) + '_Letter1', str(col) + '_Letter2']] = df[col].str.split('', expand=True).iloc[:, 1:3]\n",
      "/tmp/ipykernel_14432/2079303480.py:6: PerformanceWarning: DataFrame is highly fragmented.  This is usually the result of calling `frame.insert` many times, which has poor performance.  Consider joining all columns at once using pd.concat(axis=1) instead. To get a de-fragmented frame, use `newframe = frame.copy()`\n",
      "  df[[str(col) + '_Letter1', str(col) + '_Letter2']] = df[col].str.split('', expand=True).iloc[:, 1:3]\n",
      "/tmp/ipykernel_14432/2079303480.py:6: PerformanceWarning: DataFrame is highly fragmented.  This is usually the result of calling `frame.insert` many times, which has poor performance.  Consider joining all columns at once using pd.concat(axis=1) instead. To get a de-fragmented frame, use `newframe = frame.copy()`\n",
      "  df[[str(col) + '_Letter1', str(col) + '_Letter2']] = df[col].str.split('', expand=True).iloc[:, 1:3]\n",
      "/tmp/ipykernel_14432/2079303480.py:6: PerformanceWarning: DataFrame is highly fragmented.  This is usually the result of calling `frame.insert` many times, which has poor performance.  Consider joining all columns at once using pd.concat(axis=1) instead. To get a de-fragmented frame, use `newframe = frame.copy()`\n",
      "  df[[str(col) + '_Letter1', str(col) + '_Letter2']] = df[col].str.split('', expand=True).iloc[:, 1:3]\n",
      "/tmp/ipykernel_14432/2079303480.py:6: PerformanceWarning: DataFrame is highly fragmented.  This is usually the result of calling `frame.insert` many times, which has poor performance.  Consider joining all columns at once using pd.concat(axis=1) instead. To get a de-fragmented frame, use `newframe = frame.copy()`\n",
      "  df[[str(col) + '_Letter1', str(col) + '_Letter2']] = df[col].str.split('', expand=True).iloc[:, 1:3]\n",
      "/tmp/ipykernel_14432/2079303480.py:6: PerformanceWarning: DataFrame is highly fragmented.  This is usually the result of calling `frame.insert` many times, which has poor performance.  Consider joining all columns at once using pd.concat(axis=1) instead. To get a de-fragmented frame, use `newframe = frame.copy()`\n",
      "  df[[str(col) + '_Letter1', str(col) + '_Letter2']] = df[col].str.split('', expand=True).iloc[:, 1:3]\n",
      "/tmp/ipykernel_14432/2079303480.py:6: PerformanceWarning: DataFrame is highly fragmented.  This is usually the result of calling `frame.insert` many times, which has poor performance.  Consider joining all columns at once using pd.concat(axis=1) instead. To get a de-fragmented frame, use `newframe = frame.copy()`\n",
      "  df[[str(col) + '_Letter1', str(col) + '_Letter2']] = df[col].str.split('', expand=True).iloc[:, 1:3]\n",
      "/tmp/ipykernel_14432/2079303480.py:6: PerformanceWarning: DataFrame is highly fragmented.  This is usually the result of calling `frame.insert` many times, which has poor performance.  Consider joining all columns at once using pd.concat(axis=1) instead. To get a de-fragmented frame, use `newframe = frame.copy()`\n",
      "  df[[str(col) + '_Letter1', str(col) + '_Letter2']] = df[col].str.split('', expand=True).iloc[:, 1:3]\n",
      "/tmp/ipykernel_14432/2079303480.py:6: PerformanceWarning: DataFrame is highly fragmented.  This is usually the result of calling `frame.insert` many times, which has poor performance.  Consider joining all columns at once using pd.concat(axis=1) instead. To get a de-fragmented frame, use `newframe = frame.copy()`\n",
      "  df[[str(col) + '_Letter1', str(col) + '_Letter2']] = df[col].str.split('', expand=True).iloc[:, 1:3]\n",
      "/tmp/ipykernel_14432/2079303480.py:6: PerformanceWarning: DataFrame is highly fragmented.  This is usually the result of calling `frame.insert` many times, which has poor performance.  Consider joining all columns at once using pd.concat(axis=1) instead. To get a de-fragmented frame, use `newframe = frame.copy()`\n",
      "  df[[str(col) + '_Letter1', str(col) + '_Letter2']] = df[col].str.split('', expand=True).iloc[:, 1:3]\n",
      "/tmp/ipykernel_14432/2079303480.py:6: PerformanceWarning: DataFrame is highly fragmented.  This is usually the result of calling `frame.insert` many times, which has poor performance.  Consider joining all columns at once using pd.concat(axis=1) instead. To get a de-fragmented frame, use `newframe = frame.copy()`\n",
      "  df[[str(col) + '_Letter1', str(col) + '_Letter2']] = df[col].str.split('', expand=True).iloc[:, 1:3]\n",
      "/tmp/ipykernel_14432/2079303480.py:6: PerformanceWarning: DataFrame is highly fragmented.  This is usually the result of calling `frame.insert` many times, which has poor performance.  Consider joining all columns at once using pd.concat(axis=1) instead. To get a de-fragmented frame, use `newframe = frame.copy()`\n",
      "  df[[str(col) + '_Letter1', str(col) + '_Letter2']] = df[col].str.split('', expand=True).iloc[:, 1:3]\n",
      "/tmp/ipykernel_14432/2079303480.py:6: PerformanceWarning: DataFrame is highly fragmented.  This is usually the result of calling `frame.insert` many times, which has poor performance.  Consider joining all columns at once using pd.concat(axis=1) instead. To get a de-fragmented frame, use `newframe = frame.copy()`\n",
      "  df[[str(col) + '_Letter1', str(col) + '_Letter2']] = df[col].str.split('', expand=True).iloc[:, 1:3]\n",
      "/tmp/ipykernel_14432/2079303480.py:6: PerformanceWarning: DataFrame is highly fragmented.  This is usually the result of calling `frame.insert` many times, which has poor performance.  Consider joining all columns at once using pd.concat(axis=1) instead. To get a de-fragmented frame, use `newframe = frame.copy()`\n",
      "  df[[str(col) + '_Letter1', str(col) + '_Letter2']] = df[col].str.split('', expand=True).iloc[:, 1:3]\n",
      "/tmp/ipykernel_14432/2079303480.py:6: PerformanceWarning: DataFrame is highly fragmented.  This is usually the result of calling `frame.insert` many times, which has poor performance.  Consider joining all columns at once using pd.concat(axis=1) instead. To get a de-fragmented frame, use `newframe = frame.copy()`\n",
      "  df[[str(col) + '_Letter1', str(col) + '_Letter2']] = df[col].str.split('', expand=True).iloc[:, 1:3]\n",
      "/tmp/ipykernel_14432/2079303480.py:6: PerformanceWarning: DataFrame is highly fragmented.  This is usually the result of calling `frame.insert` many times, which has poor performance.  Consider joining all columns at once using pd.concat(axis=1) instead. To get a de-fragmented frame, use `newframe = frame.copy()`\n",
      "  df[[str(col) + '_Letter1', str(col) + '_Letter2']] = df[col].str.split('', expand=True).iloc[:, 1:3]\n",
      "/tmp/ipykernel_14432/2079303480.py:6: PerformanceWarning: DataFrame is highly fragmented.  This is usually the result of calling `frame.insert` many times, which has poor performance.  Consider joining all columns at once using pd.concat(axis=1) instead. To get a de-fragmented frame, use `newframe = frame.copy()`\n",
      "  df[[str(col) + '_Letter1', str(col) + '_Letter2']] = df[col].str.split('', expand=True).iloc[:, 1:3]\n",
      "/tmp/ipykernel_14432/2079303480.py:6: PerformanceWarning: DataFrame is highly fragmented.  This is usually the result of calling `frame.insert` many times, which has poor performance.  Consider joining all columns at once using pd.concat(axis=1) instead. To get a de-fragmented frame, use `newframe = frame.copy()`\n",
      "  df[[str(col) + '_Letter1', str(col) + '_Letter2']] = df[col].str.split('', expand=True).iloc[:, 1:3]\n",
      "/tmp/ipykernel_14432/2079303480.py:6: PerformanceWarning: DataFrame is highly fragmented.  This is usually the result of calling `frame.insert` many times, which has poor performance.  Consider joining all columns at once using pd.concat(axis=1) instead. To get a de-fragmented frame, use `newframe = frame.copy()`\n",
      "  df[[str(col) + '_Letter1', str(col) + '_Letter2']] = df[col].str.split('', expand=True).iloc[:, 1:3]\n",
      "/tmp/ipykernel_14432/2079303480.py:6: PerformanceWarning: DataFrame is highly fragmented.  This is usually the result of calling `frame.insert` many times, which has poor performance.  Consider joining all columns at once using pd.concat(axis=1) instead. To get a de-fragmented frame, use `newframe = frame.copy()`\n",
      "  df[[str(col) + '_Letter1', str(col) + '_Letter2']] = df[col].str.split('', expand=True).iloc[:, 1:3]\n",
      "/tmp/ipykernel_14432/2079303480.py:6: PerformanceWarning: DataFrame is highly fragmented.  This is usually the result of calling `frame.insert` many times, which has poor performance.  Consider joining all columns at once using pd.concat(axis=1) instead. To get a de-fragmented frame, use `newframe = frame.copy()`\n",
      "  df[[str(col) + '_Letter1', str(col) + '_Letter2']] = df[col].str.split('', expand=True).iloc[:, 1:3]\n",
      "/tmp/ipykernel_14432/2079303480.py:6: PerformanceWarning: DataFrame is highly fragmented.  This is usually the result of calling `frame.insert` many times, which has poor performance.  Consider joining all columns at once using pd.concat(axis=1) instead. To get a de-fragmented frame, use `newframe = frame.copy()`\n",
      "  df[[str(col) + '_Letter1', str(col) + '_Letter2']] = df[col].str.split('', expand=True).iloc[:, 1:3]\n",
      "/tmp/ipykernel_14432/2079303480.py:6: PerformanceWarning: DataFrame is highly fragmented.  This is usually the result of calling `frame.insert` many times, which has poor performance.  Consider joining all columns at once using pd.concat(axis=1) instead. To get a de-fragmented frame, use `newframe = frame.copy()`\n",
      "  df[[str(col) + '_Letter1', str(col) + '_Letter2']] = df[col].str.split('', expand=True).iloc[:, 1:3]\n",
      "/tmp/ipykernel_14432/2079303480.py:6: PerformanceWarning: DataFrame is highly fragmented.  This is usually the result of calling `frame.insert` many times, which has poor performance.  Consider joining all columns at once using pd.concat(axis=1) instead. To get a de-fragmented frame, use `newframe = frame.copy()`\n",
      "  df[[str(col) + '_Letter1', str(col) + '_Letter2']] = df[col].str.split('', expand=True).iloc[:, 1:3]\n",
      "/tmp/ipykernel_14432/2079303480.py:6: PerformanceWarning: DataFrame is highly fragmented.  This is usually the result of calling `frame.insert` many times, which has poor performance.  Consider joining all columns at once using pd.concat(axis=1) instead. To get a de-fragmented frame, use `newframe = frame.copy()`\n",
      "  df[[str(col) + '_Letter1', str(col) + '_Letter2']] = df[col].str.split('', expand=True).iloc[:, 1:3]\n",
      "/tmp/ipykernel_14432/2079303480.py:6: PerformanceWarning: DataFrame is highly fragmented.  This is usually the result of calling `frame.insert` many times, which has poor performance.  Consider joining all columns at once using pd.concat(axis=1) instead. To get a de-fragmented frame, use `newframe = frame.copy()`\n",
      "  df[[str(col) + '_Letter1', str(col) + '_Letter2']] = df[col].str.split('', expand=True).iloc[:, 1:3]\n",
      "/tmp/ipykernel_14432/2079303480.py:6: PerformanceWarning: DataFrame is highly fragmented.  This is usually the result of calling `frame.insert` many times, which has poor performance.  Consider joining all columns at once using pd.concat(axis=1) instead. To get a de-fragmented frame, use `newframe = frame.copy()`\n",
      "  df[[str(col) + '_Letter1', str(col) + '_Letter2']] = df[col].str.split('', expand=True).iloc[:, 1:3]\n",
      "/tmp/ipykernel_14432/2079303480.py:6: PerformanceWarning: DataFrame is highly fragmented.  This is usually the result of calling `frame.insert` many times, which has poor performance.  Consider joining all columns at once using pd.concat(axis=1) instead. To get a de-fragmented frame, use `newframe = frame.copy()`\n",
      "  df[[str(col) + '_Letter1', str(col) + '_Letter2']] = df[col].str.split('', expand=True).iloc[:, 1:3]\n",
      "/tmp/ipykernel_14432/2079303480.py:6: PerformanceWarning: DataFrame is highly fragmented.  This is usually the result of calling `frame.insert` many times, which has poor performance.  Consider joining all columns at once using pd.concat(axis=1) instead. To get a de-fragmented frame, use `newframe = frame.copy()`\n",
      "  df[[str(col) + '_Letter1', str(col) + '_Letter2']] = df[col].str.split('', expand=True).iloc[:, 1:3]\n",
      "/tmp/ipykernel_14432/2079303480.py:6: PerformanceWarning: DataFrame is highly fragmented.  This is usually the result of calling `frame.insert` many times, which has poor performance.  Consider joining all columns at once using pd.concat(axis=1) instead. To get a de-fragmented frame, use `newframe = frame.copy()`\n",
      "  df[[str(col) + '_Letter1', str(col) + '_Letter2']] = df[col].str.split('', expand=True).iloc[:, 1:3]\n",
      "/tmp/ipykernel_14432/2079303480.py:6: PerformanceWarning: DataFrame is highly fragmented.  This is usually the result of calling `frame.insert` many times, which has poor performance.  Consider joining all columns at once using pd.concat(axis=1) instead. To get a de-fragmented frame, use `newframe = frame.copy()`\n",
      "  df[[str(col) + '_Letter1', str(col) + '_Letter2']] = df[col].str.split('', expand=True).iloc[:, 1:3]\n",
      "/tmp/ipykernel_14432/2079303480.py:6: PerformanceWarning: DataFrame is highly fragmented.  This is usually the result of calling `frame.insert` many times, which has poor performance.  Consider joining all columns at once using pd.concat(axis=1) instead. To get a de-fragmented frame, use `newframe = frame.copy()`\n",
      "  df[[str(col) + '_Letter1', str(col) + '_Letter2']] = df[col].str.split('', expand=True).iloc[:, 1:3]\n",
      "/tmp/ipykernel_14432/2079303480.py:6: PerformanceWarning: DataFrame is highly fragmented.  This is usually the result of calling `frame.insert` many times, which has poor performance.  Consider joining all columns at once using pd.concat(axis=1) instead. To get a de-fragmented frame, use `newframe = frame.copy()`\n",
      "  df[[str(col) + '_Letter1', str(col) + '_Letter2']] = df[col].str.split('', expand=True).iloc[:, 1:3]\n",
      "/tmp/ipykernel_14432/2079303480.py:6: PerformanceWarning: DataFrame is highly fragmented.  This is usually the result of calling `frame.insert` many times, which has poor performance.  Consider joining all columns at once using pd.concat(axis=1) instead. To get a de-fragmented frame, use `newframe = frame.copy()`\n",
      "  df[[str(col) + '_Letter1', str(col) + '_Letter2']] = df[col].str.split('', expand=True).iloc[:, 1:3]\n",
      "/tmp/ipykernel_14432/2079303480.py:6: PerformanceWarning: DataFrame is highly fragmented.  This is usually the result of calling `frame.insert` many times, which has poor performance.  Consider joining all columns at once using pd.concat(axis=1) instead. To get a de-fragmented frame, use `newframe = frame.copy()`\n",
      "  df[[str(col) + '_Letter1', str(col) + '_Letter2']] = df[col].str.split('', expand=True).iloc[:, 1:3]\n",
      "/tmp/ipykernel_14432/2079303480.py:6: PerformanceWarning: DataFrame is highly fragmented.  This is usually the result of calling `frame.insert` many times, which has poor performance.  Consider joining all columns at once using pd.concat(axis=1) instead. To get a de-fragmented frame, use `newframe = frame.copy()`\n",
      "  df[[str(col) + '_Letter1', str(col) + '_Letter2']] = df[col].str.split('', expand=True).iloc[:, 1:3]\n",
      "/tmp/ipykernel_14432/2079303480.py:6: PerformanceWarning: DataFrame is highly fragmented.  This is usually the result of calling `frame.insert` many times, which has poor performance.  Consider joining all columns at once using pd.concat(axis=1) instead. To get a de-fragmented frame, use `newframe = frame.copy()`\n",
      "  df[[str(col) + '_Letter1', str(col) + '_Letter2']] = df[col].str.split('', expand=True).iloc[:, 1:3]\n",
      "/tmp/ipykernel_14432/2079303480.py:6: PerformanceWarning: DataFrame is highly fragmented.  This is usually the result of calling `frame.insert` many times, which has poor performance.  Consider joining all columns at once using pd.concat(axis=1) instead. To get a de-fragmented frame, use `newframe = frame.copy()`\n",
      "  df[[str(col) + '_Letter1', str(col) + '_Letter2']] = df[col].str.split('', expand=True).iloc[:, 1:3]\n",
      "/tmp/ipykernel_14432/2079303480.py:6: PerformanceWarning: DataFrame is highly fragmented.  This is usually the result of calling `frame.insert` many times, which has poor performance.  Consider joining all columns at once using pd.concat(axis=1) instead. To get a de-fragmented frame, use `newframe = frame.copy()`\n",
      "  df[[str(col) + '_Letter1', str(col) + '_Letter2']] = df[col].str.split('', expand=True).iloc[:, 1:3]\n",
      "/tmp/ipykernel_14432/2079303480.py:6: PerformanceWarning: DataFrame is highly fragmented.  This is usually the result of calling `frame.insert` many times, which has poor performance.  Consider joining all columns at once using pd.concat(axis=1) instead. To get a de-fragmented frame, use `newframe = frame.copy()`\n",
      "  df[[str(col) + '_Letter1', str(col) + '_Letter2']] = df[col].str.split('', expand=True).iloc[:, 1:3]\n",
      "/tmp/ipykernel_14432/2079303480.py:6: PerformanceWarning: DataFrame is highly fragmented.  This is usually the result of calling `frame.insert` many times, which has poor performance.  Consider joining all columns at once using pd.concat(axis=1) instead. To get a de-fragmented frame, use `newframe = frame.copy()`\n",
      "  df[[str(col) + '_Letter1', str(col) + '_Letter2']] = df[col].str.split('', expand=True).iloc[:, 1:3]\n",
      "/tmp/ipykernel_14432/2079303480.py:6: PerformanceWarning: DataFrame is highly fragmented.  This is usually the result of calling `frame.insert` many times, which has poor performance.  Consider joining all columns at once using pd.concat(axis=1) instead. To get a de-fragmented frame, use `newframe = frame.copy()`\n",
      "  df[[str(col) + '_Letter1', str(col) + '_Letter2']] = df[col].str.split('', expand=True).iloc[:, 1:3]\n",
      "/tmp/ipykernel_14432/2079303480.py:6: PerformanceWarning: DataFrame is highly fragmented.  This is usually the result of calling `frame.insert` many times, which has poor performance.  Consider joining all columns at once using pd.concat(axis=1) instead. To get a de-fragmented frame, use `newframe = frame.copy()`\n",
      "  df[[str(col) + '_Letter1', str(col) + '_Letter2']] = df[col].str.split('', expand=True).iloc[:, 1:3]\n",
      "/tmp/ipykernel_14432/2079303480.py:6: PerformanceWarning: DataFrame is highly fragmented.  This is usually the result of calling `frame.insert` many times, which has poor performance.  Consider joining all columns at once using pd.concat(axis=1) instead. To get a de-fragmented frame, use `newframe = frame.copy()`\n",
      "  df[[str(col) + '_Letter1', str(col) + '_Letter2']] = df[col].str.split('', expand=True).iloc[:, 1:3]\n",
      "/tmp/ipykernel_14432/2079303480.py:6: PerformanceWarning: DataFrame is highly fragmented.  This is usually the result of calling `frame.insert` many times, which has poor performance.  Consider joining all columns at once using pd.concat(axis=1) instead. To get a de-fragmented frame, use `newframe = frame.copy()`\n",
      "  df[[str(col) + '_Letter1', str(col) + '_Letter2']] = df[col].str.split('', expand=True).iloc[:, 1:3]\n",
      "/tmp/ipykernel_14432/2079303480.py:6: PerformanceWarning: DataFrame is highly fragmented.  This is usually the result of calling `frame.insert` many times, which has poor performance.  Consider joining all columns at once using pd.concat(axis=1) instead. To get a de-fragmented frame, use `newframe = frame.copy()`\n",
      "  df[[str(col) + '_Letter1', str(col) + '_Letter2']] = df[col].str.split('', expand=True).iloc[:, 1:3]\n",
      "/tmp/ipykernel_14432/2079303480.py:6: PerformanceWarning: DataFrame is highly fragmented.  This is usually the result of calling `frame.insert` many times, which has poor performance.  Consider joining all columns at once using pd.concat(axis=1) instead. To get a de-fragmented frame, use `newframe = frame.copy()`\n",
      "  df[[str(col) + '_Letter1', str(col) + '_Letter2']] = df[col].str.split('', expand=True).iloc[:, 1:3]\n",
      "/tmp/ipykernel_14432/2079303480.py:6: PerformanceWarning: DataFrame is highly fragmented.  This is usually the result of calling `frame.insert` many times, which has poor performance.  Consider joining all columns at once using pd.concat(axis=1) instead. To get a de-fragmented frame, use `newframe = frame.copy()`\n",
      "  df[[str(col) + '_Letter1', str(col) + '_Letter2']] = df[col].str.split('', expand=True).iloc[:, 1:3]\n",
      "/tmp/ipykernel_14432/2079303480.py:6: PerformanceWarning: DataFrame is highly fragmented.  This is usually the result of calling `frame.insert` many times, which has poor performance.  Consider joining all columns at once using pd.concat(axis=1) instead. To get a de-fragmented frame, use `newframe = frame.copy()`\n",
      "  df[[str(col) + '_Letter1', str(col) + '_Letter2']] = df[col].str.split('', expand=True).iloc[:, 1:3]\n",
      "/tmp/ipykernel_14432/2079303480.py:6: PerformanceWarning: DataFrame is highly fragmented.  This is usually the result of calling `frame.insert` many times, which has poor performance.  Consider joining all columns at once using pd.concat(axis=1) instead. To get a de-fragmented frame, use `newframe = frame.copy()`\n",
      "  df[[str(col) + '_Letter1', str(col) + '_Letter2']] = df[col].str.split('', expand=True).iloc[:, 1:3]\n",
      "/tmp/ipykernel_14432/2079303480.py:6: PerformanceWarning: DataFrame is highly fragmented.  This is usually the result of calling `frame.insert` many times, which has poor performance.  Consider joining all columns at once using pd.concat(axis=1) instead. To get a de-fragmented frame, use `newframe = frame.copy()`\n",
      "  df[[str(col) + '_Letter1', str(col) + '_Letter2']] = df[col].str.split('', expand=True).iloc[:, 1:3]\n",
      "/tmp/ipykernel_14432/2079303480.py:6: PerformanceWarning: DataFrame is highly fragmented.  This is usually the result of calling `frame.insert` many times, which has poor performance.  Consider joining all columns at once using pd.concat(axis=1) instead. To get a de-fragmented frame, use `newframe = frame.copy()`\n",
      "  df[[str(col) + '_Letter1', str(col) + '_Letter2']] = df[col].str.split('', expand=True).iloc[:, 1:3]\n",
      "/tmp/ipykernel_14432/2079303480.py:6: PerformanceWarning: DataFrame is highly fragmented.  This is usually the result of calling `frame.insert` many times, which has poor performance.  Consider joining all columns at once using pd.concat(axis=1) instead. To get a de-fragmented frame, use `newframe = frame.copy()`\n",
      "  df[[str(col) + '_Letter1', str(col) + '_Letter2']] = df[col].str.split('', expand=True).iloc[:, 1:3]\n",
      "/tmp/ipykernel_14432/2079303480.py:6: PerformanceWarning: DataFrame is highly fragmented.  This is usually the result of calling `frame.insert` many times, which has poor performance.  Consider joining all columns at once using pd.concat(axis=1) instead. To get a de-fragmented frame, use `newframe = frame.copy()`\n",
      "  df[[str(col) + '_Letter1', str(col) + '_Letter2']] = df[col].str.split('', expand=True).iloc[:, 1:3]\n",
      "/tmp/ipykernel_14432/2079303480.py:6: PerformanceWarning: DataFrame is highly fragmented.  This is usually the result of calling `frame.insert` many times, which has poor performance.  Consider joining all columns at once using pd.concat(axis=1) instead. To get a de-fragmented frame, use `newframe = frame.copy()`\n",
      "  df[[str(col) + '_Letter1', str(col) + '_Letter2']] = df[col].str.split('', expand=True).iloc[:, 1:3]\n",
      "/tmp/ipykernel_14432/2079303480.py:6: PerformanceWarning: DataFrame is highly fragmented.  This is usually the result of calling `frame.insert` many times, which has poor performance.  Consider joining all columns at once using pd.concat(axis=1) instead. To get a de-fragmented frame, use `newframe = frame.copy()`\n",
      "  df[[str(col) + '_Letter1', str(col) + '_Letter2']] = df[col].str.split('', expand=True).iloc[:, 1:3]\n",
      "/tmp/ipykernel_14432/2079303480.py:6: PerformanceWarning: DataFrame is highly fragmented.  This is usually the result of calling `frame.insert` many times, which has poor performance.  Consider joining all columns at once using pd.concat(axis=1) instead. To get a de-fragmented frame, use `newframe = frame.copy()`\n",
      "  df[[str(col) + '_Letter1', str(col) + '_Letter2']] = df[col].str.split('', expand=True).iloc[:, 1:3]\n",
      "/tmp/ipykernel_14432/2079303480.py:6: PerformanceWarning: DataFrame is highly fragmented.  This is usually the result of calling `frame.insert` many times, which has poor performance.  Consider joining all columns at once using pd.concat(axis=1) instead. To get a de-fragmented frame, use `newframe = frame.copy()`\n",
      "  df[[str(col) + '_Letter1', str(col) + '_Letter2']] = df[col].str.split('', expand=True).iloc[:, 1:3]\n",
      "/tmp/ipykernel_14432/2079303480.py:6: PerformanceWarning: DataFrame is highly fragmented.  This is usually the result of calling `frame.insert` many times, which has poor performance.  Consider joining all columns at once using pd.concat(axis=1) instead. To get a de-fragmented frame, use `newframe = frame.copy()`\n",
      "  df[[str(col) + '_Letter1', str(col) + '_Letter2']] = df[col].str.split('', expand=True).iloc[:, 1:3]\n",
      "/tmp/ipykernel_14432/2079303480.py:6: PerformanceWarning: DataFrame is highly fragmented.  This is usually the result of calling `frame.insert` many times, which has poor performance.  Consider joining all columns at once using pd.concat(axis=1) instead. To get a de-fragmented frame, use `newframe = frame.copy()`\n",
      "  df[[str(col) + '_Letter1', str(col) + '_Letter2']] = df[col].str.split('', expand=True).iloc[:, 1:3]\n",
      "/tmp/ipykernel_14432/2079303480.py:6: PerformanceWarning: DataFrame is highly fragmented.  This is usually the result of calling `frame.insert` many times, which has poor performance.  Consider joining all columns at once using pd.concat(axis=1) instead. To get a de-fragmented frame, use `newframe = frame.copy()`\n",
      "  df[[str(col) + '_Letter1', str(col) + '_Letter2']] = df[col].str.split('', expand=True).iloc[:, 1:3]\n",
      "/tmp/ipykernel_14432/2079303480.py:6: PerformanceWarning: DataFrame is highly fragmented.  This is usually the result of calling `frame.insert` many times, which has poor performance.  Consider joining all columns at once using pd.concat(axis=1) instead. To get a de-fragmented frame, use `newframe = frame.copy()`\n",
      "  df[[str(col) + '_Letter1', str(col) + '_Letter2']] = df[col].str.split('', expand=True).iloc[:, 1:3]\n",
      "/tmp/ipykernel_14432/2079303480.py:6: PerformanceWarning: DataFrame is highly fragmented.  This is usually the result of calling `frame.insert` many times, which has poor performance.  Consider joining all columns at once using pd.concat(axis=1) instead. To get a de-fragmented frame, use `newframe = frame.copy()`\n",
      "  df[[str(col) + '_Letter1', str(col) + '_Letter2']] = df[col].str.split('', expand=True).iloc[:, 1:3]\n",
      "/tmp/ipykernel_14432/2079303480.py:6: PerformanceWarning: DataFrame is highly fragmented.  This is usually the result of calling `frame.insert` many times, which has poor performance.  Consider joining all columns at once using pd.concat(axis=1) instead. To get a de-fragmented frame, use `newframe = frame.copy()`\n",
      "  df[[str(col) + '_Letter1', str(col) + '_Letter2']] = df[col].str.split('', expand=True).iloc[:, 1:3]\n",
      "/tmp/ipykernel_14432/2079303480.py:6: PerformanceWarning: DataFrame is highly fragmented.  This is usually the result of calling `frame.insert` many times, which has poor performance.  Consider joining all columns at once using pd.concat(axis=1) instead. To get a de-fragmented frame, use `newframe = frame.copy()`\n",
      "  df[[str(col) + '_Letter1', str(col) + '_Letter2']] = df[col].str.split('', expand=True).iloc[:, 1:3]\n",
      "/tmp/ipykernel_14432/2079303480.py:6: PerformanceWarning: DataFrame is highly fragmented.  This is usually the result of calling `frame.insert` many times, which has poor performance.  Consider joining all columns at once using pd.concat(axis=1) instead. To get a de-fragmented frame, use `newframe = frame.copy()`\n",
      "  df[[str(col) + '_Letter1', str(col) + '_Letter2']] = df[col].str.split('', expand=True).iloc[:, 1:3]\n",
      "/tmp/ipykernel_14432/2079303480.py:6: PerformanceWarning: DataFrame is highly fragmented.  This is usually the result of calling `frame.insert` many times, which has poor performance.  Consider joining all columns at once using pd.concat(axis=1) instead. To get a de-fragmented frame, use `newframe = frame.copy()`\n",
      "  df[[str(col) + '_Letter1', str(col) + '_Letter2']] = df[col].str.split('', expand=True).iloc[:, 1:3]\n",
      "/tmp/ipykernel_14432/2079303480.py:6: PerformanceWarning: DataFrame is highly fragmented.  This is usually the result of calling `frame.insert` many times, which has poor performance.  Consider joining all columns at once using pd.concat(axis=1) instead. To get a de-fragmented frame, use `newframe = frame.copy()`\n",
      "  df[[str(col) + '_Letter1', str(col) + '_Letter2']] = df[col].str.split('', expand=True).iloc[:, 1:3]\n",
      "/tmp/ipykernel_14432/2079303480.py:6: PerformanceWarning: DataFrame is highly fragmented.  This is usually the result of calling `frame.insert` many times, which has poor performance.  Consider joining all columns at once using pd.concat(axis=1) instead. To get a de-fragmented frame, use `newframe = frame.copy()`\n",
      "  df[[str(col) + '_Letter1', str(col) + '_Letter2']] = df[col].str.split('', expand=True).iloc[:, 1:3]\n",
      "/tmp/ipykernel_14432/2079303480.py:6: PerformanceWarning: DataFrame is highly fragmented.  This is usually the result of calling `frame.insert` many times, which has poor performance.  Consider joining all columns at once using pd.concat(axis=1) instead. To get a de-fragmented frame, use `newframe = frame.copy()`\n",
      "  df[[str(col) + '_Letter1', str(col) + '_Letter2']] = df[col].str.split('', expand=True).iloc[:, 1:3]\n",
      "/tmp/ipykernel_14432/2079303480.py:6: PerformanceWarning: DataFrame is highly fragmented.  This is usually the result of calling `frame.insert` many times, which has poor performance.  Consider joining all columns at once using pd.concat(axis=1) instead. To get a de-fragmented frame, use `newframe = frame.copy()`\n",
      "  df[[str(col) + '_Letter1', str(col) + '_Letter2']] = df[col].str.split('', expand=True).iloc[:, 1:3]\n",
      "/tmp/ipykernel_14432/2079303480.py:6: PerformanceWarning: DataFrame is highly fragmented.  This is usually the result of calling `frame.insert` many times, which has poor performance.  Consider joining all columns at once using pd.concat(axis=1) instead. To get a de-fragmented frame, use `newframe = frame.copy()`\n",
      "  df[[str(col) + '_Letter1', str(col) + '_Letter2']] = df[col].str.split('', expand=True).iloc[:, 1:3]\n",
      "/tmp/ipykernel_14432/2079303480.py:6: PerformanceWarning: DataFrame is highly fragmented.  This is usually the result of calling `frame.insert` many times, which has poor performance.  Consider joining all columns at once using pd.concat(axis=1) instead. To get a de-fragmented frame, use `newframe = frame.copy()`\n",
      "  df[[str(col) + '_Letter1', str(col) + '_Letter2']] = df[col].str.split('', expand=True).iloc[:, 1:3]\n",
      "/tmp/ipykernel_14432/2079303480.py:6: PerformanceWarning: DataFrame is highly fragmented.  This is usually the result of calling `frame.insert` many times, which has poor performance.  Consider joining all columns at once using pd.concat(axis=1) instead. To get a de-fragmented frame, use `newframe = frame.copy()`\n",
      "  df[[str(col) + '_Letter1', str(col) + '_Letter2']] = df[col].str.split('', expand=True).iloc[:, 1:3]\n",
      "/tmp/ipykernel_14432/2079303480.py:6: PerformanceWarning: DataFrame is highly fragmented.  This is usually the result of calling `frame.insert` many times, which has poor performance.  Consider joining all columns at once using pd.concat(axis=1) instead. To get a de-fragmented frame, use `newframe = frame.copy()`\n",
      "  df[[str(col) + '_Letter1', str(col) + '_Letter2']] = df[col].str.split('', expand=True).iloc[:, 1:3]\n",
      "/tmp/ipykernel_14432/2079303480.py:6: PerformanceWarning: DataFrame is highly fragmented.  This is usually the result of calling `frame.insert` many times, which has poor performance.  Consider joining all columns at once using pd.concat(axis=1) instead. To get a de-fragmented frame, use `newframe = frame.copy()`\n",
      "  df[[str(col) + '_Letter1', str(col) + '_Letter2']] = df[col].str.split('', expand=True).iloc[:, 1:3]\n",
      "/tmp/ipykernel_14432/2079303480.py:6: PerformanceWarning: DataFrame is highly fragmented.  This is usually the result of calling `frame.insert` many times, which has poor performance.  Consider joining all columns at once using pd.concat(axis=1) instead. To get a de-fragmented frame, use `newframe = frame.copy()`\n",
      "  df[[str(col) + '_Letter1', str(col) + '_Letter2']] = df[col].str.split('', expand=True).iloc[:, 1:3]\n",
      "/tmp/ipykernel_14432/2079303480.py:6: PerformanceWarning: DataFrame is highly fragmented.  This is usually the result of calling `frame.insert` many times, which has poor performance.  Consider joining all columns at once using pd.concat(axis=1) instead. To get a de-fragmented frame, use `newframe = frame.copy()`\n",
      "  df[[str(col) + '_Letter1', str(col) + '_Letter2']] = df[col].str.split('', expand=True).iloc[:, 1:3]\n",
      "/tmp/ipykernel_14432/2079303480.py:6: PerformanceWarning: DataFrame is highly fragmented.  This is usually the result of calling `frame.insert` many times, which has poor performance.  Consider joining all columns at once using pd.concat(axis=1) instead. To get a de-fragmented frame, use `newframe = frame.copy()`\n",
      "  df[[str(col) + '_Letter1', str(col) + '_Letter2']] = df[col].str.split('', expand=True).iloc[:, 1:3]\n",
      "/tmp/ipykernel_14432/2079303480.py:6: PerformanceWarning: DataFrame is highly fragmented.  This is usually the result of calling `frame.insert` many times, which has poor performance.  Consider joining all columns at once using pd.concat(axis=1) instead. To get a de-fragmented frame, use `newframe = frame.copy()`\n",
      "  df[[str(col) + '_Letter1', str(col) + '_Letter2']] = df[col].str.split('', expand=True).iloc[:, 1:3]\n",
      "/tmp/ipykernel_14432/2079303480.py:6: PerformanceWarning: DataFrame is highly fragmented.  This is usually the result of calling `frame.insert` many times, which has poor performance.  Consider joining all columns at once using pd.concat(axis=1) instead. To get a de-fragmented frame, use `newframe = frame.copy()`\n",
      "  df[[str(col) + '_Letter1', str(col) + '_Letter2']] = df[col].str.split('', expand=True).iloc[:, 1:3]\n",
      "/tmp/ipykernel_14432/2079303480.py:6: PerformanceWarning: DataFrame is highly fragmented.  This is usually the result of calling `frame.insert` many times, which has poor performance.  Consider joining all columns at once using pd.concat(axis=1) instead. To get a de-fragmented frame, use `newframe = frame.copy()`\n",
      "  df[[str(col) + '_Letter1', str(col) + '_Letter2']] = df[col].str.split('', expand=True).iloc[:, 1:3]\n",
      "/tmp/ipykernel_14432/2079303480.py:6: PerformanceWarning: DataFrame is highly fragmented.  This is usually the result of calling `frame.insert` many times, which has poor performance.  Consider joining all columns at once using pd.concat(axis=1) instead. To get a de-fragmented frame, use `newframe = frame.copy()`\n",
      "  df[[str(col) + '_Letter1', str(col) + '_Letter2']] = df[col].str.split('', expand=True).iloc[:, 1:3]\n",
      "/tmp/ipykernel_14432/2079303480.py:6: PerformanceWarning: DataFrame is highly fragmented.  This is usually the result of calling `frame.insert` many times, which has poor performance.  Consider joining all columns at once using pd.concat(axis=1) instead. To get a de-fragmented frame, use `newframe = frame.copy()`\n",
      "  df[[str(col) + '_Letter1', str(col) + '_Letter2']] = df[col].str.split('', expand=True).iloc[:, 1:3]\n",
      "/tmp/ipykernel_14432/2079303480.py:6: PerformanceWarning: DataFrame is highly fragmented.  This is usually the result of calling `frame.insert` many times, which has poor performance.  Consider joining all columns at once using pd.concat(axis=1) instead. To get a de-fragmented frame, use `newframe = frame.copy()`\n",
      "  df[[str(col) + '_Letter1', str(col) + '_Letter2']] = df[col].str.split('', expand=True).iloc[:, 1:3]\n",
      "/tmp/ipykernel_14432/2079303480.py:6: PerformanceWarning: DataFrame is highly fragmented.  This is usually the result of calling `frame.insert` many times, which has poor performance.  Consider joining all columns at once using pd.concat(axis=1) instead. To get a de-fragmented frame, use `newframe = frame.copy()`\n",
      "  df[[str(col) + '_Letter1', str(col) + '_Letter2']] = df[col].str.split('', expand=True).iloc[:, 1:3]\n"
     ]
    }
   ],
   "source": [
    "markersdf = pd.DataFrame(markers)\n",
    "di = {0: \"AA\", 1:\"CA\", 2: \"CC\"}\n",
    "df = markersdf.replace(di)\n",
    "for col in df.columns:\n",
    "    # Split letters into two columns\n",
    "    df[[str(col) + '_Letter1', str(col) + '_Letter2']] = df[col].str.split('', expand=True).iloc[:, 1:3]\n",
    "\n",
    "    # Drop the original column\n",
    "    df = df.drop(col, axis=1)"
   ]
  },
  {
   "cell_type": "code",
   "execution_count": 80,
   "metadata": {},
   "outputs": [],
   "source": [
    "pd.concat([df1, df], axis=1).to_csv('sim1.ped', index=False, sep='\\t', header=None)"
   ]
  },
  {
   "attachments": {},
   "cell_type": "markdown",
   "metadata": {},
   "source": [
    "MAP FILE"
   ]
  },
  {
   "cell_type": "code",
   "execution_count": 81,
   "metadata": {},
   "outputs": [],
   "source": [
    "snp_id = [\"snp\" + str(i) for i in range(1, n_markers+1)]\n",
    "chr_id = np.repeat(\"Chr1\", n_markers)\n",
    "distance = np.zeros(n_markers, dtype='int')\n",
    "snp_pos = np.arange(1, n_markers+1)"
   ]
  },
  {
   "cell_type": "code",
   "execution_count": 82,
   "metadata": {},
   "outputs": [],
   "source": [
    "df2 = pd.DataFrame({ \"chr\": chr_id, \n",
    "              \"snp\": snp_id, \n",
    "              \"distance\": distance, \n",
    "              \"pos\": snp_pos\n",
    "              })"
   ]
  },
  {
   "cell_type": "code",
   "execution_count": 83,
   "metadata": {},
   "outputs": [],
   "source": [
    "df2.to_csv(\"sim1.map\", sep=\"\\t\", header=None, index=False)"
   ]
  },
  {
   "cell_type": "code",
   "execution_count": 86,
   "metadata": {},
   "outputs": [],
   "source": [
    "df3 = pd.DataFrame({ \"a\": family_id, \n",
    "              \"b\": individual_id, \n",
    "              \"c\": phenotype\n",
    "              })"
   ]
  },
  {
   "cell_type": "code",
   "execution_count": 88,
   "metadata": {},
   "outputs": [],
   "source": [
    "df3.to_csv(\"Weibull.phen\", sep=\"\\t\", header=None, index=None)"
   ]
  },
  {
   "cell_type": "code",
   "execution_count": 92,
   "metadata": {},
   "outputs": [],
   "source": [
    "np.savetxt(\"Weibull.fail\", d_array, fmt='%s')"
   ]
  },
  {
   "cell_type": "code",
   "execution_count": null,
   "metadata": {},
   "outputs": [],
   "source": []
  },
  {
   "cell_type": "code",
   "execution_count": 20,
   "metadata": {},
   "outputs": [],
   "source": [
    "pars = {\"alpha\": alpha_real,\n",
    "        \"sigma_g\": sigma_g_real,\n",
    "         \n",
    "\n",
    "        \"var_mu\": 100, \n",
    "        \"var_delta\": 100,\n",
    "        \n",
    "        \"alpha_zero\": 0.01,\n",
    "        \"kappa_zero\": 0.01,\n",
    "\n",
    "        \"d_array\": d_array,\n",
    "        \"d\": d_array.sum()/n_samples,\n",
    "\n",
    "        \"alpha_sigma\": 1,\n",
    "        \"beta_sigma\": 0.0001\n",
    "}"
   ]
  },
  {
   "cell_type": "code",
   "execution_count": 21,
   "metadata": {},
   "outputs": [],
   "source": [
    "epsilon = log_data "
   ]
  },
  {
   "cell_type": "code",
   "execution_count": 22,
   "metadata": {},
   "outputs": [],
   "source": [
    "f_mu = log_mu(pars, epsilon)\n",
    "df_mu = dev_log_mu(pars, epsilon)"
   ]
  },
  {
   "cell_type": "code",
   "execution_count": 23,
   "metadata": {},
   "outputs": [
    {
     "data": {
      "text/plain": [
       "1.0"
      ]
     },
     "execution_count": 23,
     "metadata": {},
     "output_type": "execute_result"
    }
   ],
   "source": [
    "pars[\"d\"]"
   ]
  },
  {
   "cell_type": "code",
   "execution_count": 24,
   "metadata": {},
   "outputs": [
    {
     "data": {
      "text/plain": [
       "-12.5"
      ]
     },
     "execution_count": 24,
     "metadata": {},
     "output_type": "execute_result"
    }
   ],
   "source": [
    "-pars[\"alpha\"]*pars[\"d\"]*mu_real"
   ]
  },
  {
   "cell_type": "code",
   "execution_count": 26,
   "metadata": {},
   "outputs": [
    {
     "data": {
      "text/plain": [
       "[<matplotlib.lines.Line2D at 0x7f4e6ec57d30>]"
      ]
     },
     "execution_count": 26,
     "metadata": {},
     "output_type": "execute_result"
    },
    {
     "data": {
      "image/png": "[encoded data removed]",
      "text/plain": [
       "<Figure size 640x480 with 1 Axes>"
      ]
     },
     "metadata": {},
     "output_type": "display_data"
    }
   ],
   "source": [
    "xplot = np.linspace(6,11,500)\n",
    "p = [f_mu(x) for x in xplot]\n",
    "plt.plot(xplot, np.exp(p))"
   ]
  },
  {
   "cell_type": "code",
   "execution_count": 38,
   "metadata": {},
   "outputs": [],
   "source": [
    "pars[\"d\"] = np.sum(d_array)"
   ]
  },
  {
   "cell_type": "code",
   "execution_count": 47,
   "metadata": {},
   "outputs": [],
   "source": [
    "epsilon = log_data - g"
   ]
  },
  {
   "cell_type": "code",
   "execution_count": 49,
   "metadata": {},
   "outputs": [
    {
     "data": {
      "text/plain": [
       "[<matplotlib.lines.Line2D at 0x7f4e6e9593a0>]"
      ]
     },
     "execution_count": 49,
     "metadata": {},
     "output_type": "execute_result"
    },
    {
     "data": {
      "image/png": "[encoded data removed]",
      "text/plain": [
       "<Figure size 640x480 with 1 Axes>"
      ]
     },
     "metadata": {},
     "output_type": "display_data"
    }
   ],
   "source": [
    "xplot = np.linspace(5,7,500)\n",
    "p = [log_mu(pars, epsilon)(x) for x in xplot]\n",
    "plt.plot(xplot, p)"
   ]
  },
  {
   "cell_type": "code",
   "execution_count": 55,
   "metadata": {},
   "outputs": [
    {
     "data": {
      "text/plain": [
       "array([1, 1, 1, 2, 1, 1, 1, 1, 2, 0, 1, 1, 1, 2, 1, 0, 1, 1, 1, 2, 2, 0,\n",
       "       1, 2, 1, 1, 1, 1, 0, 2, 0, 2, 0, 2, 0, 1, 0, 0, 0, 1, 1, 0, 0, 1,\n",
       "       2, 1, 2, 2, 1, 0, 0, 1, 1, 1, 0, 2, 0, 1, 1, 1, 0, 0, 1, 0, 1, 1,\n",
       "       0, 0, 1, 0, 2, 1, 0, 1, 1, 2, 0, 2, 2, 1, 0, 1, 1, 2, 1, 2, 1, 1,\n",
       "       2, 1, 2, 2, 1, 1, 2, 2, 1, 2, 0, 2, 1, 1, 0, 1, 1, 1, 1, 1, 1, 2,\n",
       "       2, 2, 0, 2, 1, 2, 2, 2, 1, 2, 1, 1, 1, 1, 2, 1, 1, 2, 2, 1, 0, 2,\n",
       "       0, 2, 0, 0, 1, 2, 1, 0, 1, 1, 0, 2, 1, 1, 1, 2, 1, 1, 1, 0, 1, 1,\n",
       "       0, 1, 0, 1, 2, 2, 0, 0, 1, 0, 1, 1, 0, 0, 1, 1, 1, 1, 1, 0, 1, 0,\n",
       "       1, 2, 1, 2, 0, 1, 1, 1, 2, 1, 1, 2, 2, 1, 1, 1, 1, 1, 2, 2, 1, 2,\n",
       "       2, 1, 1, 1, 0, 0, 2, 1, 1, 0, 0, 1, 0, 1, 1, 1, 2, 0, 2, 1, 2, 1,\n",
       "       1, 1, 1, 0, 1, 1, 1, 2, 1, 0, 1, 1, 1, 1, 1, 1, 1, 1, 1, 0, 0, 2,\n",
       "       2, 2, 1, 1, 0, 0, 2, 2, 1, 0, 1, 1, 2, 2, 0, 1, 1, 0, 2, 0, 2, 1,\n",
       "       1, 1, 0, 1, 0, 2, 1, 2, 1, 1, 1, 2, 1, 0, 0, 1, 2, 0, 2, 1, 1, 2,\n",
       "       1, 2, 2, 1, 2, 1, 0, 0, 2, 1, 2, 0, 2, 1, 1, 1, 1, 0, 1, 1, 1, 0,\n",
       "       0, 2, 1, 1, 0, 1, 1, 2, 2, 1, 1, 0, 1, 0, 2, 0, 1, 1, 0, 2, 1, 1,\n",
       "       1, 1, 0, 2, 1, 0, 1, 2, 1, 1, 1, 1, 1, 0, 0, 2, 0, 2, 2, 1, 1, 1,\n",
       "       0, 0, 1, 1, 2, 0, 1, 1, 0, 2, 0, 1, 0, 2, 0, 1, 1, 0, 1, 1, 1, 0,\n",
       "       2, 1, 1, 1, 0, 1, 1, 1, 0, 1, 2, 1, 1, 0, 1, 2, 0, 1, 1, 0, 1, 0,\n",
       "       1, 2, 2, 1, 1, 1, 1, 2, 2, 0, 1, 1, 2, 2, 2, 0, 2, 2, 1, 2, 1, 1,\n",
       "       1, 1, 1, 1, 0, 1, 1, 1, 1, 1, 2, 2, 1, 1, 2, 1, 2, 1, 1, 1, 1, 2,\n",
       "       0, 0, 1, 1, 1, 1, 2, 2, 0, 2, 2, 1, 1, 2, 1, 0, 2, 2, 2, 1, 1, 0,\n",
       "       2, 1, 2, 2, 1, 1, 1, 1, 1, 1, 0, 1, 0, 0, 1, 2, 0, 1, 0, 1, 1, 1,\n",
       "       1, 1, 1, 0, 2, 1, 1, 1, 2, 0, 1, 1, 0, 0, 1, 2, 0, 1, 2, 0, 0, 2,\n",
       "       0, 1, 1, 1, 1, 1, 1, 1, 2, 1, 0, 1, 1, 1, 0, 2, 0, 2, 2, 1, 2, 1,\n",
       "       1, 1, 1, 2, 2, 0, 2, 0, 1, 1, 0, 1, 1, 1, 2, 0, 1, 0, 1, 2, 1, 0,\n",
       "       0, 0, 2, 1, 1, 0, 1, 0, 1, 1, 2, 2, 2, 0, 1, 1, 1, 1, 0, 1, 1, 0,\n",
       "       0, 1, 0, 2, 1, 2, 0, 2, 0, 1, 1, 2, 1, 0, 1, 0, 1, 1, 2, 1, 0, 1,\n",
       "       0, 1, 2, 1, 1, 1, 0, 1, 1, 0, 0, 1, 1, 1, 0, 1, 0, 2, 1, 1, 1, 2,\n",
       "       1, 1, 1, 0, 1, 0, 0, 0, 1, 1, 1, 2, 2, 0, 2, 2, 0, 2, 2, 0, 0, 1,\n",
       "       1, 1, 1, 1, 1, 1, 1, 0, 0, 1, 2, 1, 2, 1, 2, 0, 1, 1, 0, 1, 0, 2,\n",
       "       0, 0, 1, 1, 0, 1, 1, 1, 0, 1, 0, 0, 1, 2, 0, 1, 1, 2, 0, 1, 1, 1,\n",
       "       2, 0, 0, 1, 1, 1, 2, 2, 1, 2, 1, 2, 2, 0, 1, 1, 0, 2, 0, 1, 2, 2,\n",
       "       1, 1, 0, 0, 1, 2, 1, 1, 0, 2, 2, 1, 0, 1, 2, 2, 0, 1, 2, 1, 1, 1,\n",
       "       1, 1, 2, 0, 1, 1, 1, 1, 0, 0, 2, 0, 0, 1, 1, 2, 1, 0, 1, 1, 1, 0,\n",
       "       1, 1, 0, 0, 1, 0, 1, 0, 1, 0, 0, 1, 2, 1, 2, 1, 1, 0, 0, 1, 2, 0,\n",
       "       1, 1, 0, 1, 2, 1, 2, 1, 1, 1, 1, 0, 0, 2, 2, 2, 1, 1, 0, 1, 1, 2,\n",
       "       0, 0, 0, 2, 1, 0, 2, 2, 2, 0, 1, 2, 1, 0, 1, 2, 1, 0, 0, 0, 1, 0,\n",
       "       0, 2, 1, 2, 1, 1, 0, 1, 1, 0, 0, 0, 2, 2, 1, 1, 0, 1, 0, 1, 1, 1,\n",
       "       0, 1, 1, 1, 2, 1, 1, 1, 1, 1, 2, 0, 0, 2, 1, 2, 2, 0, 0, 1, 1, 1,\n",
       "       2, 1, 1, 0, 0, 0, 1, 1, 1, 1, 0, 1, 1, 2, 1, 1, 0, 2, 1, 2, 0, 1,\n",
       "       2, 2, 1, 1, 2, 2, 0, 0, 2, 0, 2, 1, 2, 1, 2, 2, 0, 1, 1, 1, 0, 2,\n",
       "       1, 0, 1, 1, 1, 2, 2, 1, 1, 0, 2, 1, 1, 2, 2, 1, 2, 0, 1, 0, 0, 0,\n",
       "       2, 2, 2, 2, 1, 2, 1, 2, 1, 1, 2, 1, 1, 1, 2, 1, 1, 0, 1, 1, 0, 1,\n",
       "       1, 2, 1, 2, 1, 1, 1, 1, 0, 2, 1, 1, 0, 0, 1, 1, 1, 1, 1, 0, 2, 1,\n",
       "       1, 1, 1, 1, 2, 0, 1, 2, 0, 1, 2, 2, 2, 0, 0, 1, 1, 0, 0, 2, 1, 2,\n",
       "       1, 0, 2, 2, 0, 1, 1, 2, 0, 0])"
      ]
     },
     "execution_count": 55,
     "metadata": {},
     "output_type": "execute_result"
    }
   ],
   "source": [
    "markers[:,1]"
   ]
  },
  {
   "cell_type": "code",
   "execution_count": 56,
   "metadata": {},
   "outputs": [
    {
     "data": {
      "text/plain": [
       "array([7.47466484e+08, 1.10819291e+09, 7.08847956e+08])"
      ]
     },
     "execution_count": 56,
     "metadata": {},
     "output_type": "execute_result"
    }
   ],
   "source": [
    "exp_epsilon = calculate_exp_epsilon(pars, epsilon)\n",
    "compute_partial_sums(exp_epsilon, markers[:,1])"
   ]
  },
  {
   "cell_type": "code",
   "execution_count": 59,
   "metadata": {},
   "outputs": [
    {
     "data": {
      "text/plain": [
       "array([ 0.01133713,  0.01133713,  0.01133713,  1.4284787 ,  0.01133713,\n",
       "        0.01133713,  0.01133713,  0.01133713,  1.4284787 , -1.40580443,\n",
       "        0.01133713,  0.01133713,  0.01133713,  1.4284787 ,  0.01133713,\n",
       "       -1.40580443,  0.01133713,  0.01133713,  0.01133713,  1.4284787 ,\n",
       "        1.4284787 , -1.40580443,  0.01133713,  1.4284787 ,  0.01133713,\n",
       "        0.01133713,  0.01133713,  0.01133713, -1.40580443,  1.4284787 ,\n",
       "       -1.40580443,  1.4284787 , -1.40580443,  1.4284787 , -1.40580443,\n",
       "        0.01133713, -1.40580443, -1.40580443, -1.40580443,  0.01133713,\n",
       "        0.01133713, -1.40580443, -1.40580443,  0.01133713,  1.4284787 ,\n",
       "        0.01133713,  1.4284787 ,  1.4284787 ,  0.01133713, -1.40580443,\n",
       "       -1.40580443,  0.01133713,  0.01133713,  0.01133713, -1.40580443,\n",
       "        1.4284787 , -1.40580443,  0.01133713,  0.01133713,  0.01133713,\n",
       "       -1.40580443, -1.40580443,  0.01133713, -1.40580443,  0.01133713,\n",
       "        0.01133713, -1.40580443, -1.40580443,  0.01133713, -1.40580443,\n",
       "        1.4284787 ,  0.01133713, -1.40580443,  0.01133713,  0.01133713,\n",
       "        1.4284787 , -1.40580443,  1.4284787 ,  1.4284787 ,  0.01133713,\n",
       "       -1.40580443,  0.01133713,  0.01133713,  1.4284787 ,  0.01133713,\n",
       "        1.4284787 ,  0.01133713,  0.01133713,  1.4284787 ,  0.01133713,\n",
       "        1.4284787 ,  1.4284787 ,  0.01133713,  0.01133713,  1.4284787 ,\n",
       "        1.4284787 ,  0.01133713,  1.4284787 , -1.40580443,  1.4284787 ,\n",
       "        0.01133713,  0.01133713, -1.40580443,  0.01133713,  0.01133713,\n",
       "        0.01133713,  0.01133713,  0.01133713,  0.01133713,  1.4284787 ,\n",
       "        1.4284787 ,  1.4284787 , -1.40580443,  1.4284787 ,  0.01133713,\n",
       "        1.4284787 ,  1.4284787 ,  1.4284787 ,  0.01133713,  1.4284787 ,\n",
       "        0.01133713,  0.01133713,  0.01133713,  0.01133713,  1.4284787 ,\n",
       "        0.01133713,  0.01133713,  1.4284787 ,  1.4284787 ,  0.01133713,\n",
       "       -1.40580443,  1.4284787 , -1.40580443,  1.4284787 , -1.40580443,\n",
       "       -1.40580443,  0.01133713,  1.4284787 ,  0.01133713, -1.40580443,\n",
       "        0.01133713,  0.01133713, -1.40580443,  1.4284787 ,  0.01133713,\n",
       "        0.01133713,  0.01133713,  1.4284787 ,  0.01133713,  0.01133713,\n",
       "        0.01133713, -1.40580443,  0.01133713,  0.01133713, -1.40580443,\n",
       "        0.01133713, -1.40580443,  0.01133713,  1.4284787 ,  1.4284787 ,\n",
       "       -1.40580443, -1.40580443,  0.01133713, -1.40580443,  0.01133713,\n",
       "        0.01133713, -1.40580443, -1.40580443,  0.01133713,  0.01133713,\n",
       "        0.01133713,  0.01133713,  0.01133713, -1.40580443,  0.01133713,\n",
       "       -1.40580443,  0.01133713,  1.4284787 ,  0.01133713,  1.4284787 ,\n",
       "       -1.40580443,  0.01133713,  0.01133713,  0.01133713,  1.4284787 ,\n",
       "        0.01133713,  0.01133713,  1.4284787 ,  1.4284787 ,  0.01133713,\n",
       "        0.01133713,  0.01133713,  0.01133713,  0.01133713,  1.4284787 ,\n",
       "        1.4284787 ,  0.01133713,  1.4284787 ,  1.4284787 ,  0.01133713,\n",
       "        0.01133713,  0.01133713, -1.40580443, -1.40580443,  1.4284787 ,\n",
       "        0.01133713,  0.01133713, -1.40580443, -1.40580443,  0.01133713,\n",
       "       -1.40580443,  0.01133713,  0.01133713,  0.01133713,  1.4284787 ,\n",
       "       -1.40580443,  1.4284787 ,  0.01133713,  1.4284787 ,  0.01133713,\n",
       "        0.01133713,  0.01133713,  0.01133713, -1.40580443,  0.01133713,\n",
       "        0.01133713,  0.01133713,  1.4284787 ,  0.01133713, -1.40580443,\n",
       "        0.01133713,  0.01133713,  0.01133713,  0.01133713,  0.01133713,\n",
       "        0.01133713,  0.01133713,  0.01133713,  0.01133713, -1.40580443,\n",
       "       -1.40580443,  1.4284787 ,  1.4284787 ,  1.4284787 ,  0.01133713,\n",
       "        0.01133713, -1.40580443, -1.40580443,  1.4284787 ,  1.4284787 ,\n",
       "        0.01133713, -1.40580443,  0.01133713,  0.01133713,  1.4284787 ,\n",
       "        1.4284787 , -1.40580443,  0.01133713,  0.01133713, -1.40580443,\n",
       "        1.4284787 , -1.40580443,  1.4284787 ,  0.01133713,  0.01133713,\n",
       "        0.01133713, -1.40580443,  0.01133713, -1.40580443,  1.4284787 ,\n",
       "        0.01133713,  1.4284787 ,  0.01133713,  0.01133713,  0.01133713,\n",
       "        1.4284787 ,  0.01133713, -1.40580443, -1.40580443,  0.01133713,\n",
       "        1.4284787 , -1.40580443,  1.4284787 ,  0.01133713,  0.01133713,\n",
       "        1.4284787 ,  0.01133713,  1.4284787 ,  1.4284787 ,  0.01133713,\n",
       "        1.4284787 ,  0.01133713, -1.40580443, -1.40580443,  1.4284787 ,\n",
       "        0.01133713,  1.4284787 , -1.40580443,  1.4284787 ,  0.01133713,\n",
       "        0.01133713,  0.01133713,  0.01133713, -1.40580443,  0.01133713,\n",
       "        0.01133713,  0.01133713, -1.40580443, -1.40580443,  1.4284787 ,\n",
       "        0.01133713,  0.01133713, -1.40580443,  0.01133713,  0.01133713,\n",
       "        1.4284787 ,  1.4284787 ,  0.01133713,  0.01133713, -1.40580443,\n",
       "        0.01133713, -1.40580443,  1.4284787 , -1.40580443,  0.01133713,\n",
       "        0.01133713, -1.40580443,  1.4284787 ,  0.01133713,  0.01133713,\n",
       "        0.01133713,  0.01133713, -1.40580443,  1.4284787 ,  0.01133713,\n",
       "       -1.40580443,  0.01133713,  1.4284787 ,  0.01133713,  0.01133713,\n",
       "        0.01133713,  0.01133713,  0.01133713, -1.40580443, -1.40580443,\n",
       "        1.4284787 , -1.40580443,  1.4284787 ,  1.4284787 ,  0.01133713,\n",
       "        0.01133713,  0.01133713, -1.40580443, -1.40580443,  0.01133713,\n",
       "        0.01133713,  1.4284787 , -1.40580443,  0.01133713,  0.01133713,\n",
       "       -1.40580443,  1.4284787 , -1.40580443,  0.01133713, -1.40580443,\n",
       "        1.4284787 , -1.40580443,  0.01133713,  0.01133713, -1.40580443,\n",
       "        0.01133713,  0.01133713,  0.01133713, -1.40580443,  1.4284787 ,\n",
       "        0.01133713,  0.01133713,  0.01133713, -1.40580443,  0.01133713,\n",
       "        0.01133713,  0.01133713, -1.40580443,  0.01133713,  1.4284787 ,\n",
       "        0.01133713,  0.01133713, -1.40580443,  0.01133713,  1.4284787 ,\n",
       "       -1.40580443,  0.01133713,  0.01133713, -1.40580443,  0.01133713,\n",
       "       -1.40580443,  0.01133713,  1.4284787 ,  1.4284787 ,  0.01133713,\n",
       "        0.01133713,  0.01133713,  0.01133713,  1.4284787 ,  1.4284787 ,\n",
       "       -1.40580443,  0.01133713,  0.01133713,  1.4284787 ,  1.4284787 ,\n",
       "        1.4284787 , -1.40580443,  1.4284787 ,  1.4284787 ,  0.01133713,\n",
       "        1.4284787 ,  0.01133713,  0.01133713,  0.01133713,  0.01133713,\n",
       "        0.01133713,  0.01133713, -1.40580443,  0.01133713,  0.01133713,\n",
       "        0.01133713,  0.01133713,  0.01133713,  1.4284787 ,  1.4284787 ,\n",
       "        0.01133713,  0.01133713,  1.4284787 ,  0.01133713,  1.4284787 ,\n",
       "        0.01133713,  0.01133713,  0.01133713,  0.01133713,  1.4284787 ,\n",
       "       -1.40580443, -1.40580443,  0.01133713,  0.01133713,  0.01133713,\n",
       "        0.01133713,  1.4284787 ,  1.4284787 , -1.40580443,  1.4284787 ,\n",
       "        1.4284787 ,  0.01133713,  0.01133713,  1.4284787 ,  0.01133713,\n",
       "       -1.40580443,  1.4284787 ,  1.4284787 ,  1.4284787 ,  0.01133713,\n",
       "        0.01133713, -1.40580443,  1.4284787 ,  0.01133713,  1.4284787 ,\n",
       "        1.4284787 ,  0.01133713,  0.01133713,  0.01133713,  0.01133713,\n",
       "        0.01133713,  0.01133713, -1.40580443,  0.01133713, -1.40580443,\n",
       "       -1.40580443,  0.01133713,  1.4284787 , -1.40580443,  0.01133713,\n",
       "       -1.40580443,  0.01133713,  0.01133713,  0.01133713,  0.01133713,\n",
       "        0.01133713,  0.01133713, -1.40580443,  1.4284787 ,  0.01133713,\n",
       "        0.01133713,  0.01133713,  1.4284787 , -1.40580443,  0.01133713,\n",
       "        0.01133713, -1.40580443, -1.40580443,  0.01133713,  1.4284787 ,\n",
       "       -1.40580443,  0.01133713,  1.4284787 , -1.40580443, -1.40580443,\n",
       "        1.4284787 , -1.40580443,  0.01133713,  0.01133713,  0.01133713,\n",
       "        0.01133713,  0.01133713,  0.01133713,  0.01133713,  1.4284787 ,\n",
       "        0.01133713, -1.40580443,  0.01133713,  0.01133713,  0.01133713,\n",
       "       -1.40580443,  1.4284787 , -1.40580443,  1.4284787 ,  1.4284787 ,\n",
       "        0.01133713,  1.4284787 ,  0.01133713,  0.01133713,  0.01133713,\n",
       "        0.01133713,  1.4284787 ,  1.4284787 , -1.40580443,  1.4284787 ,\n",
       "       -1.40580443,  0.01133713,  0.01133713, -1.40580443,  0.01133713,\n",
       "        0.01133713,  0.01133713,  1.4284787 , -1.40580443,  0.01133713,\n",
       "       -1.40580443,  0.01133713,  1.4284787 ,  0.01133713, -1.40580443,\n",
       "       -1.40580443, -1.40580443,  1.4284787 ,  0.01133713,  0.01133713,\n",
       "       -1.40580443,  0.01133713, -1.40580443,  0.01133713,  0.01133713,\n",
       "        1.4284787 ,  1.4284787 ,  1.4284787 , -1.40580443,  0.01133713,\n",
       "        0.01133713,  0.01133713,  0.01133713, -1.40580443,  0.01133713,\n",
       "        0.01133713, -1.40580443, -1.40580443,  0.01133713, -1.40580443,\n",
       "        1.4284787 ,  0.01133713,  1.4284787 , -1.40580443,  1.4284787 ,\n",
       "       -1.40580443,  0.01133713,  0.01133713,  1.4284787 ,  0.01133713,\n",
       "       -1.40580443,  0.01133713, -1.40580443,  0.01133713,  0.01133713,\n",
       "        1.4284787 ,  0.01133713, -1.40580443,  0.01133713, -1.40580443,\n",
       "        0.01133713,  1.4284787 ,  0.01133713,  0.01133713,  0.01133713,\n",
       "       -1.40580443,  0.01133713,  0.01133713, -1.40580443, -1.40580443,\n",
       "        0.01133713,  0.01133713,  0.01133713, -1.40580443,  0.01133713,\n",
       "       -1.40580443,  1.4284787 ,  0.01133713,  0.01133713,  0.01133713,\n",
       "        1.4284787 ,  0.01133713,  0.01133713,  0.01133713, -1.40580443,\n",
       "        0.01133713, -1.40580443, -1.40580443, -1.40580443,  0.01133713,\n",
       "        0.01133713,  0.01133713,  1.4284787 ,  1.4284787 , -1.40580443,\n",
       "        1.4284787 ,  1.4284787 , -1.40580443,  1.4284787 ,  1.4284787 ,\n",
       "       -1.40580443, -1.40580443,  0.01133713,  0.01133713,  0.01133713,\n",
       "        0.01133713,  0.01133713,  0.01133713,  0.01133713,  0.01133713,\n",
       "       -1.40580443, -1.40580443,  0.01133713,  1.4284787 ,  0.01133713,\n",
       "        1.4284787 ,  0.01133713,  1.4284787 , -1.40580443,  0.01133713,\n",
       "        0.01133713, -1.40580443,  0.01133713, -1.40580443,  1.4284787 ,\n",
       "       -1.40580443, -1.40580443,  0.01133713,  0.01133713, -1.40580443,\n",
       "        0.01133713,  0.01133713,  0.01133713, -1.40580443,  0.01133713,\n",
       "       -1.40580443, -1.40580443,  0.01133713,  1.4284787 , -1.40580443,\n",
       "        0.01133713,  0.01133713,  1.4284787 , -1.40580443,  0.01133713,\n",
       "        0.01133713,  0.01133713,  1.4284787 , -1.40580443, -1.40580443,\n",
       "        0.01133713,  0.01133713,  0.01133713,  1.4284787 ,  1.4284787 ,\n",
       "        0.01133713,  1.4284787 ,  0.01133713,  1.4284787 ,  1.4284787 ,\n",
       "       -1.40580443,  0.01133713,  0.01133713, -1.40580443,  1.4284787 ,\n",
       "       -1.40580443,  0.01133713,  1.4284787 ,  1.4284787 ,  0.01133713,\n",
       "        0.01133713, -1.40580443, -1.40580443,  0.01133713,  1.4284787 ,\n",
       "        0.01133713,  0.01133713, -1.40580443,  1.4284787 ,  1.4284787 ,\n",
       "        0.01133713, -1.40580443,  0.01133713,  1.4284787 ,  1.4284787 ,\n",
       "       -1.40580443,  0.01133713,  1.4284787 ,  0.01133713,  0.01133713,\n",
       "        0.01133713,  0.01133713,  0.01133713,  1.4284787 , -1.40580443,\n",
       "        0.01133713,  0.01133713,  0.01133713,  0.01133713, -1.40580443,\n",
       "       -1.40580443,  1.4284787 , -1.40580443, -1.40580443,  0.01133713,\n",
       "        0.01133713,  1.4284787 ,  0.01133713, -1.40580443,  0.01133713,\n",
       "        0.01133713,  0.01133713, -1.40580443,  0.01133713,  0.01133713,\n",
       "       -1.40580443, -1.40580443,  0.01133713, -1.40580443,  0.01133713,\n",
       "       -1.40580443,  0.01133713, -1.40580443, -1.40580443,  0.01133713,\n",
       "        1.4284787 ,  0.01133713,  1.4284787 ,  0.01133713,  0.01133713,\n",
       "       -1.40580443, -1.40580443,  0.01133713,  1.4284787 , -1.40580443,\n",
       "        0.01133713,  0.01133713, -1.40580443,  0.01133713,  1.4284787 ,\n",
       "        0.01133713,  1.4284787 ,  0.01133713,  0.01133713,  0.01133713,\n",
       "        0.01133713, -1.40580443, -1.40580443,  1.4284787 ,  1.4284787 ,\n",
       "        1.4284787 ,  0.01133713,  0.01133713, -1.40580443,  0.01133713,\n",
       "        0.01133713,  1.4284787 , -1.40580443, -1.40580443, -1.40580443,\n",
       "        1.4284787 ,  0.01133713, -1.40580443,  1.4284787 ,  1.4284787 ,\n",
       "        1.4284787 , -1.40580443,  0.01133713,  1.4284787 ,  0.01133713,\n",
       "       -1.40580443,  0.01133713,  1.4284787 ,  0.01133713, -1.40580443,\n",
       "       -1.40580443, -1.40580443,  0.01133713, -1.40580443, -1.40580443,\n",
       "        1.4284787 ,  0.01133713,  1.4284787 ,  0.01133713,  0.01133713,\n",
       "       -1.40580443,  0.01133713,  0.01133713, -1.40580443, -1.40580443,\n",
       "       -1.40580443,  1.4284787 ,  1.4284787 ,  0.01133713,  0.01133713,\n",
       "       -1.40580443,  0.01133713, -1.40580443,  0.01133713,  0.01133713,\n",
       "        0.01133713, -1.40580443,  0.01133713,  0.01133713,  0.01133713,\n",
       "        1.4284787 ,  0.01133713,  0.01133713,  0.01133713,  0.01133713,\n",
       "        0.01133713,  1.4284787 , -1.40580443, -1.40580443,  1.4284787 ,\n",
       "        0.01133713,  1.4284787 ,  1.4284787 , -1.40580443, -1.40580443,\n",
       "        0.01133713,  0.01133713,  0.01133713,  1.4284787 ,  0.01133713,\n",
       "        0.01133713, -1.40580443, -1.40580443, -1.40580443,  0.01133713,\n",
       "        0.01133713,  0.01133713,  0.01133713, -1.40580443,  0.01133713,\n",
       "        0.01133713,  1.4284787 ,  0.01133713,  0.01133713, -1.40580443,\n",
       "        1.4284787 ,  0.01133713,  1.4284787 , -1.40580443,  0.01133713,\n",
       "        1.4284787 ,  1.4284787 ,  0.01133713,  0.01133713,  1.4284787 ,\n",
       "        1.4284787 , -1.40580443, -1.40580443,  1.4284787 , -1.40580443,\n",
       "        1.4284787 ,  0.01133713,  1.4284787 ,  0.01133713,  1.4284787 ,\n",
       "        1.4284787 , -1.40580443,  0.01133713,  0.01133713,  0.01133713,\n",
       "       -1.40580443,  1.4284787 ,  0.01133713, -1.40580443,  0.01133713,\n",
       "        0.01133713,  0.01133713,  1.4284787 ,  1.4284787 ,  0.01133713,\n",
       "        0.01133713, -1.40580443,  1.4284787 ,  0.01133713,  0.01133713,\n",
       "        1.4284787 ,  1.4284787 ,  0.01133713,  1.4284787 , -1.40580443,\n",
       "        0.01133713, -1.40580443, -1.40580443, -1.40580443,  1.4284787 ,\n",
       "        1.4284787 ,  1.4284787 ,  1.4284787 ,  0.01133713,  1.4284787 ,\n",
       "        0.01133713,  1.4284787 ,  0.01133713,  0.01133713,  1.4284787 ,\n",
       "        0.01133713,  0.01133713,  0.01133713,  1.4284787 ,  0.01133713,\n",
       "        0.01133713, -1.40580443,  0.01133713,  0.01133713, -1.40580443,\n",
       "        0.01133713,  0.01133713,  1.4284787 ,  0.01133713,  1.4284787 ,\n",
       "        0.01133713,  0.01133713,  0.01133713,  0.01133713, -1.40580443,\n",
       "        1.4284787 ,  0.01133713,  0.01133713, -1.40580443, -1.40580443,\n",
       "        0.01133713,  0.01133713,  0.01133713,  0.01133713,  0.01133713,\n",
       "       -1.40580443,  1.4284787 ,  0.01133713,  0.01133713,  0.01133713,\n",
       "        0.01133713,  0.01133713,  1.4284787 , -1.40580443,  0.01133713,\n",
       "        1.4284787 , -1.40580443,  0.01133713,  1.4284787 ,  1.4284787 ,\n",
       "        1.4284787 , -1.40580443, -1.40580443,  0.01133713,  0.01133713,\n",
       "       -1.40580443, -1.40580443,  1.4284787 ,  0.01133713,  1.4284787 ,\n",
       "        0.01133713, -1.40580443,  1.4284787 ,  1.4284787 , -1.40580443,\n",
       "        0.01133713,  0.01133713,  1.4284787 , -1.40580443, -1.40580443])"
      ]
     },
     "execution_count": 59,
     "metadata": {},
     "output_type": "execute_result"
    }
   ],
   "source": [
    "d_array * norm_markers[:,1]"
   ]
  },
  {
   "cell_type": "code",
   "execution_count": null,
   "metadata": {},
   "outputs": [],
   "source": [
    "pars[\"sum_fail\"] = d_fail * marker[:,1]\n",
    "pars[\"mean_sd_ratio\"] = \n",
    "pars[\"mixture_C\"] = \n",
    "pars[\"\"]"
   ]
  },
  {
   "cell_type": "code",
   "execution_count": null,
   "metadata": {},
   "outputs": [],
   "source": [
    "def log_mu(pars, epsilon_arr):\n",
    "    '''computes the log-likelihood of the mu parameter'''\n",
    "    return lambda x : (-pars['alpha']*x*pars['d'] - \\\n",
    "                       np.sum(np.exp((epsilon_arr - x)*pars['alpha'] -np.euler_gamma)) \\\n",
    "                        - (x**2)/(2*pars[\"var_mu\"]))"
   ]
  },
  {
   "cell_type": "code",
   "execution_count": 49,
   "metadata": {},
   "outputs": [
    {
     "data": {
      "text/plain": [
       "-12500.0"
      ]
     },
     "execution_count": 49,
     "metadata": {},
     "output_type": "execute_result"
    }
   ],
   "source": [
    "-pars['alpha']*5*pars['d']"
   ]
  },
  {
   "cell_type": "code",
   "execution_count": 51,
   "metadata": {},
   "outputs": [
    {
     "data": {
      "text/plain": [
       "-2.3887462956856123"
      ]
     },
     "execution_count": 51,
     "metadata": {},
     "output_type": "execute_result"
    }
   ],
   "source": [
    "-np.sum(np.exp((log_data - 9)*pars['alpha'] -np.euler_gamma))"
   ]
  },
  {
   "cell_type": "code",
   "execution_count": 367,
   "metadata": {},
   "outputs": [
    {
     "data": {
      "text/plain": [
       "5.053878284589332"
      ]
     },
     "execution_count": 367,
     "metadata": {},
     "output_type": "execute_result"
    }
   ],
   "source": [
    "log_data.mean()"
   ]
  },
  {
   "attachments": {},
   "cell_type": "markdown",
   "metadata": {},
   "source": [
    "How can I define the probabilities of beta and x so that g follows a normal with variance sigma_G? We have to take into account that we are not simple multiplying two variables but also summing over the elements, so this changes everything..."
   ]
  }
 ],
 "metadata": {
  "kernelspec": {
   "display_name": "base",
   "language": "python",
   "name": "python3"
  },
  "language_info": {
   "codemirror_mode": {
    "name": "ipython",
    "version": 3
   },
   "file_extension": ".py",
   "mimetype": "text/x-python",
   "name": "python",
   "nbconvert_exporter": "python",
   "pygments_lexer": "ipython3",
   "version": "3.9.13"
  },
  "orig_nbformat": 4
 },
 "nbformat": 4,
 "nbformat_minor": 2
}
