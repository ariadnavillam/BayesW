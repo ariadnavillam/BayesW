{
 "cells": [
  {
   "cell_type": "code",
   "execution_count": 1,
   "metadata": {},
   "outputs": [],
   "source": [
    "import os\n",
    "import itertools\n",
    "import random\n",
    "from math import log, exp, sqrt\n",
    "\n",
    "from IPython.display import clear_output\n",
    "\n",
    "import matplotlib.pyplot as plt\n",
    "from matplotlib import rc\n",
    "from matplotlib.colors import LinearSegmentedColormap\n",
    "from cycler import cycler\n",
    "\n",
    "\n",
    "import matplotlib.animation as animation\n",
    "\n",
    "import numpy as np\n",
    "from scipy import stats\n",
    "from numpy.linalg import norm\n",
    "\n",
    "import ars\n",
    "\n",
    "from BayesW_utils import *\n",
    "from distributions import *"
   ]
  },
  {
   "attachments": {},
   "cell_type": "markdown",
   "metadata": {},
   "source": [
    "The time-to-event data is generated following the formula for the log time of individual i:\n",
    "\n",
    "$$ \\log Y_i = \\mu + x_i \\beta + \\frac{w_i}{\\alpha} + \\frac{K}{\\alpha} $$\n",
    "\n",
    "where $\\mu$ is the intercept, $x_i$ are the markers of individual, $\\beta$ are the effects, $w_i$ are the random errors, $\\alpha$ is the shape parameter of the Weibull distribution (Y) (\"variance\") and K is the EuMasc constant.\n",
    "\n",
    "We will fix the following parameters:\n",
    "- $\\mu$=10\n",
    "- $\\alpha$=0.5\n",
    "- genetic variance $\\sigma_G^2$=0.5 \n",
    "\n",
    "and the rest of the data are drawn from a distribution\n",
    "\n",
    "-  $w_i \\sim Gumbell(0,1)$ (standard extreme value distribution)\n",
    "- $\\beta \\sim N(0,1)$\n",
    "- $x_i \\sim N(0, \\sigma_G)$\n",
    "\n",
    "Then $x_i\\beta = g_i \\sim N(0, \\sigma_G)$.\n",
    "\n",
    "And $\\log Y_i$ follows a Gumbell distribution with \n",
    "\n",
    "$$E(log(Y_i)|) = \\mu + x_i\\beta$$\n",
    "\n",
    "$$ Var(log(Y_i)|\\mu +x_i\\beta) = \\frac{\\pi^2}{6\\alpha^2} $$"
   ]
  },
  {
   "cell_type": "code",
   "execution_count": 2,
   "metadata": {},
   "outputs": [],
   "source": [
    "mu_real = 5\n",
    "alpha_real = 2.5\n",
    "sigma_g_real = 0.5"
   ]
  },
  {
   "cell_type": "code",
   "execution_count": null,
   "metadata": {},
   "outputs": [],
   "source": []
  },
  {
   "cell_type": "code",
   "execution_count": 3,
   "metadata": {},
   "outputs": [
    {
     "data": {
      "text/plain": [
       "Text(0, 0.5, 'PDF(x)')"
      ]
     },
     "execution_count": 3,
     "metadata": {},
     "output_type": "execute_result"
    },
    {
     "data": {
      "image/png": "[encoded data removed]",
      "text/plain": [
       "<Figure size 640x480 with 1 Axes>"
      ]
     },
     "metadata": {},
     "output_type": "display_data"
    }
   ],
   "source": [
    "gumbel_dis = stats.gumbel_r(loc=0, scale=1)\n",
    "# Generate data points\n",
    "x = np.linspace(-15, 10, num=1000)\n",
    "\n",
    "# Create Gumbel distribution object\n",
    "gumbel_data = gumbel_dis.rvs(size=1000)\n",
    "\n",
    "# Calculate PDF of Gumbel distribution for each data point\n",
    "pdf = gumbel_dis.pdf(x)\n",
    "\n",
    "# Plot the PDF of the Gumbel distribution\n",
    "plt.hist(gumbel_data, density=True, bins=100)\n",
    "plt.plot(x, pdf)\n",
    "plt.title('Standard (right) Gumbel Distribution')\n",
    "plt.xlabel('x')\n",
    "plt.ylabel('PDF(x)')"
   ]
  },
  {
   "cell_type": "code",
   "execution_count": 4,
   "metadata": {},
   "outputs": [],
   "source": [
    "n_markers = 2000\n",
    "n_samples = 1000"
   ]
  },
  {
   "cell_type": "code",
   "execution_count": 52,
   "metadata": {},
   "outputs": [],
   "source": [
    "w = gumbel_dis.rvs(size=(n_samples,1))\n",
    "betas = np.random.normal(0, np.sqrt(sigma_g_real/n_markers), size = (n_markers, 1)) #simulate causal betas\n",
    "markers = np.random.binomial(2,0.5,(n_samples, n_markers) )\n",
    "norm_markers = helpers.normalize_markers(markers)"
   ]
  },
  {
   "cell_type": "code",
   "execution_count": 53,
   "metadata": {},
   "outputs": [
    {
     "data": {
      "text/plain": [
       "(5.1514348342607266e-17, 0.5371151767675237)"
      ]
     },
     "execution_count": 53,
     "metadata": {},
     "output_type": "execute_result"
    }
   ],
   "source": [
    "g = norm_markers.dot(betas)\n",
    "np.mean(g), np.var(g)"
   ]
  },
  {
   "cell_type": "code",
   "execution_count": 54,
   "metadata": {},
   "outputs": [
    {
     "data": {
      "text/plain": [
       "''"
      ]
     },
     "execution_count": 54,
     "metadata": {},
     "output_type": "execute_result"
    },
    {
     "data": {
      "image/png": "[encoded data removed]",
      "text/plain": [
       "<Figure size 640x480 with 1 Axes>"
      ]
     },
     "metadata": {},
     "output_type": "display_data"
    }
   ],
   "source": [
    "plt.hist(g, bins=50)\n",
    ";"
   ]
  },
  {
   "cell_type": "code",
   "execution_count": 8,
   "metadata": {},
   "outputs": [],
   "source": [
    "log_data = mu_real + g + w/alpha_real + np.euler_gamma/alpha_real"
   ]
  },
  {
   "cell_type": "code",
   "execution_count": 10,
   "metadata": {},
   "outputs": [
    {
     "data": {
      "text/plain": [
       "(393.2738669929628, 380048.5848446428)"
      ]
     },
     "execution_count": 10,
     "metadata": {},
     "output_type": "execute_result"
    }
   ],
   "source": [
    "np.mean(np.exp(log_data)), np.var(np.exp(log_data))"
   ]
  },
  {
   "cell_type": "code",
   "execution_count": 9,
   "metadata": {},
   "outputs": [
    {
     "data": {
      "text/plain": [
       "''"
      ]
     },
     "execution_count": 9,
     "metadata": {},
     "output_type": "execute_result"
    },
    {
     "data": {
      "image/png": "[encoded data removed]",
      "text/plain": [
       "<Figure size 640x480 with 1 Axes>"
      ]
     },
     "metadata": {},
     "output_type": "display_data"
    }
   ],
   "source": [
    "plt.hist(log_data, bins=100)\n",
    ";"
   ]
  },
  {
   "cell_type": "code",
   "execution_count": 11,
   "metadata": {},
   "outputs": [
    {
     "data": {
      "text/plain": [
       "0.8466547517430258"
      ]
     },
     "execution_count": 11,
     "metadata": {},
     "output_type": "execute_result"
    }
   ],
   "source": [
    "np.var(log_data)"
   ]
  },
  {
   "cell_type": "code",
   "execution_count": 15,
   "metadata": {},
   "outputs": [
    {
     "name": "stdout",
     "output_type": "stream",
     "text": [
      "First sample:  4.72234519392296\n",
      "Expected value:  4.3095395681372315\n"
     ]
    }
   ],
   "source": [
    "print(\"First sample: \", log_data[0][0])\n",
    "print(\"Expected value: \", mu_real + g[0][0])"
   ]
  },
  {
   "cell_type": "code",
   "execution_count": 16,
   "metadata": {},
   "outputs": [
    {
     "name": "stdout",
     "output_type": "stream",
     "text": [
      "Sample variance:  0.8466547517430258\n",
      "Phenotypic variance:  0.7631894506957162\n"
     ]
    }
   ],
   "source": [
    "print(\"Sample variance: \",np.var(log_data))\n",
    "print(\"Phenotypic variance: \",sigma_g_real + np.pi**2/(6*alpha_real**2))"
   ]
  },
  {
   "cell_type": "code",
   "execution_count": 17,
   "metadata": {},
   "outputs": [],
   "source": [
    "prevalence = 1"
   ]
  },
  {
   "cell_type": "code",
   "execution_count": 18,
   "metadata": {},
   "outputs": [],
   "source": [
    "d_array = np.random.choice([0,1], p=[1-prevalence, prevalence],size = n_samples)"
   ]
  },
  {
   "cell_type": "code",
   "execution_count": 20,
   "metadata": {},
   "outputs": [],
   "source": [
    "pars = {\"alpha\": alpha_real,\n",
    "        \"sigma_g\": sigma_g_real,\n",
    "         \n",
    "\n",
    "        \"var_mu\": 100, \n",
    "        \"var_delta\": 100,\n",
    "        \n",
    "        \"alpha_zero\": 0.01,\n",
    "        \"kappa_zero\": 0.01,\n",
    "\n",
    "        \"d_array\": d_array,\n",
    "        \"d\": d_array.sum()/n_samples,\n",
    "\n",
    "        \"alpha_sigma\": 1,\n",
    "        \"beta_sigma\": 0.0001\n",
    "}"
   ]
  },
  {
   "cell_type": "code",
   "execution_count": 21,
   "metadata": {},
   "outputs": [],
   "source": [
    "epsilon = log_data "
   ]
  },
  {
   "cell_type": "code",
   "execution_count": 22,
   "metadata": {},
   "outputs": [],
   "source": [
    "f_mu = log_mu(pars, epsilon)\n",
    "df_mu = dev_log_mu(pars, epsilon)"
   ]
  },
  {
   "cell_type": "code",
   "execution_count": 23,
   "metadata": {},
   "outputs": [
    {
     "data": {
      "text/plain": [
       "1.0"
      ]
     },
     "execution_count": 23,
     "metadata": {},
     "output_type": "execute_result"
    }
   ],
   "source": [
    "pars[\"d\"]"
   ]
  },
  {
   "cell_type": "code",
   "execution_count": 24,
   "metadata": {},
   "outputs": [
    {
     "data": {
      "text/plain": [
       "-12.5"
      ]
     },
     "execution_count": 24,
     "metadata": {},
     "output_type": "execute_result"
    }
   ],
   "source": [
    "-pars[\"alpha\"]*pars[\"d\"]*mu_real"
   ]
  },
  {
   "cell_type": "code",
   "execution_count": 26,
   "metadata": {},
   "outputs": [
    {
     "data": {
      "text/plain": [
       "[<matplotlib.lines.Line2D at 0x7f4e6ec57d30>]"
      ]
     },
     "execution_count": 26,
     "metadata": {},
     "output_type": "execute_result"
    },
    {
     "data": {
      "image/png": "[encoded data removed]",
      "text/plain": [
       "<Figure size 640x480 with 1 Axes>"
      ]
     },
     "metadata": {},
     "output_type": "display_data"
    }
   ],
   "source": [
    "xplot = np.linspace(6,11,500)\n",
    "p = [f_mu(x) for x in xplot]\n",
    "plt.plot(xplot, np.exp(p))"
   ]
  },
  {
   "cell_type": "code",
   "execution_count": 38,
   "metadata": {},
   "outputs": [],
   "source": [
    "pars[\"d\"] = np.sum(d_array)"
   ]
  },
  {
   "cell_type": "code",
   "execution_count": 47,
   "metadata": {},
   "outputs": [],
   "source": [
    "epsilon = log_data - g"
   ]
  },
  {
   "cell_type": "code",
   "execution_count": 49,
   "metadata": {},
   "outputs": [
    {
     "data": {
      "text/plain": [
       "[<matplotlib.lines.Line2D at 0x7f4e6e9593a0>]"
      ]
     },
     "execution_count": 49,
     "metadata": {},
     "output_type": "execute_result"
    },
    {
     "data": {
      "image/png": "[encoded data removed]",
      "text/plain": [
       "<Figure size 640x480 with 1 Axes>"
      ]
     },
     "metadata": {},
     "output_type": "display_data"
    }
   ],
   "source": [
    "xplot = np.linspace(5,7,500)\n",
    "p = [log_mu(pars, epsilon)(x) for x in xplot]\n",
    "plt.plot(xplot, p)"
   ]
  },
  {
   "cell_type": "code",
   "execution_count": 55,
   "metadata": {},
   "outputs": [
    {
     "data": {
      "text/plain": [
       "array([1, 1, 1, 2, 1, 1, 1, 1, 2, 0, 1, 1, 1, 2, 1, 0, 1, 1, 1, 2, 2, 0,\n",
       "       1, 2, 1, 1, 1, 1, 0, 2, 0, 2, 0, 2, 0, 1, 0, 0, 0, 1, 1, 0, 0, 1,\n",
       "       2, 1, 2, 2, 1, 0, 0, 1, 1, 1, 0, 2, 0, 1, 1, 1, 0, 0, 1, 0, 1, 1,\n",
       "       0, 0, 1, 0, 2, 1, 0, 1, 1, 2, 0, 2, 2, 1, 0, 1, 1, 2, 1, 2, 1, 1,\n",
       "       2, 1, 2, 2, 1, 1, 2, 2, 1, 2, 0, 2, 1, 1, 0, 1, 1, 1, 1, 1, 1, 2,\n",
       "       2, 2, 0, 2, 1, 2, 2, 2, 1, 2, 1, 1, 1, 1, 2, 1, 1, 2, 2, 1, 0, 2,\n",
       "       0, 2, 0, 0, 1, 2, 1, 0, 1, 1, 0, 2, 1, 1, 1, 2, 1, 1, 1, 0, 1, 1,\n",
       "       0, 1, 0, 1, 2, 2, 0, 0, 1, 0, 1, 1, 0, 0, 1, 1, 1, 1, 1, 0, 1, 0,\n",
       "       1, 2, 1, 2, 0, 1, 1, 1, 2, 1, 1, 2, 2, 1, 1, 1, 1, 1, 2, 2, 1, 2,\n",
       "       2, 1, 1, 1, 0, 0, 2, 1, 1, 0, 0, 1, 0, 1, 1, 1, 2, 0, 2, 1, 2, 1,\n",
       "       1, 1, 1, 0, 1, 1, 1, 2, 1, 0, 1, 1, 1, 1, 1, 1, 1, 1, 1, 0, 0, 2,\n",
       "       2, 2, 1, 1, 0, 0, 2, 2, 1, 0, 1, 1, 2, 2, 0, 1, 1, 0, 2, 0, 2, 1,\n",
       "       1, 1, 0, 1, 0, 2, 1, 2, 1, 1, 1, 2, 1, 0, 0, 1, 2, 0, 2, 1, 1, 2,\n",
       "       1, 2, 2, 1, 2, 1, 0, 0, 2, 1, 2, 0, 2, 1, 1, 1, 1, 0, 1, 1, 1, 0,\n",
       "       0, 2, 1, 1, 0, 1, 1, 2, 2, 1, 1, 0, 1, 0, 2, 0, 1, 1, 0, 2, 1, 1,\n",
       "       1, 1, 0, 2, 1, 0, 1, 2, 1, 1, 1, 1, 1, 0, 0, 2, 0, 2, 2, 1, 1, 1,\n",
       "       0, 0, 1, 1, 2, 0, 1, 1, 0, 2, 0, 1, 0, 2, 0, 1, 1, 0, 1, 1, 1, 0,\n",
       "       2, 1, 1, 1, 0, 1, 1, 1, 0, 1, 2, 1, 1, 0, 1, 2, 0, 1, 1, 0, 1, 0,\n",
       "       1, 2, 2, 1, 1, 1, 1, 2, 2, 0, 1, 1, 2, 2, 2, 0, 2, 2, 1, 2, 1, 1,\n",
       "       1, 1, 1, 1, 0, 1, 1, 1, 1, 1, 2, 2, 1, 1, 2, 1, 2, 1, 1, 1, 1, 2,\n",
       "       0, 0, 1, 1, 1, 1, 2, 2, 0, 2, 2, 1, 1, 2, 1, 0, 2, 2, 2, 1, 1, 0,\n",
       "       2, 1, 2, 2, 1, 1, 1, 1, 1, 1, 0, 1, 0, 0, 1, 2, 0, 1, 0, 1, 1, 1,\n",
       "       1, 1, 1, 0, 2, 1, 1, 1, 2, 0, 1, 1, 0, 0, 1, 2, 0, 1, 2, 0, 0, 2,\n",
       "       0, 1, 1, 1, 1, 1, 1, 1, 2, 1, 0, 1, 1, 1, 0, 2, 0, 2, 2, 1, 2, 1,\n",
       "       1, 1, 1, 2, 2, 0, 2, 0, 1, 1, 0, 1, 1, 1, 2, 0, 1, 0, 1, 2, 1, 0,\n",
       "       0, 0, 2, 1, 1, 0, 1, 0, 1, 1, 2, 2, 2, 0, 1, 1, 1, 1, 0, 1, 1, 0,\n",
       "       0, 1, 0, 2, 1, 2, 0, 2, 0, 1, 1, 2, 1, 0, 1, 0, 1, 1, 2, 1, 0, 1,\n",
       "       0, 1, 2, 1, 1, 1, 0, 1, 1, 0, 0, 1, 1, 1, 0, 1, 0, 2, 1, 1, 1, 2,\n",
       "       1, 1, 1, 0, 1, 0, 0, 0, 1, 1, 1, 2, 2, 0, 2, 2, 0, 2, 2, 0, 0, 1,\n",
       "       1, 1, 1, 1, 1, 1, 1, 0, 0, 1, 2, 1, 2, 1, 2, 0, 1, 1, 0, 1, 0, 2,\n",
       "       0, 0, 1, 1, 0, 1, 1, 1, 0, 1, 0, 0, 1, 2, 0, 1, 1, 2, 0, 1, 1, 1,\n",
       "       2, 0, 0, 1, 1, 1, 2, 2, 1, 2, 1, 2, 2, 0, 1, 1, 0, 2, 0, 1, 2, 2,\n",
       "       1, 1, 0, 0, 1, 2, 1, 1, 0, 2, 2, 1, 0, 1, 2, 2, 0, 1, 2, 1, 1, 1,\n",
       "       1, 1, 2, 0, 1, 1, 1, 1, 0, 0, 2, 0, 0, 1, 1, 2, 1, 0, 1, 1, 1, 0,\n",
       "       1, 1, 0, 0, 1, 0, 1, 0, 1, 0, 0, 1, 2, 1, 2, 1, 1, 0, 0, 1, 2, 0,\n",
       "       1, 1, 0, 1, 2, 1, 2, 1, 1, 1, 1, 0, 0, 2, 2, 2, 1, 1, 0, 1, 1, 2,\n",
       "       0, 0, 0, 2, 1, 0, 2, 2, 2, 0, 1, 2, 1, 0, 1, 2, 1, 0, 0, 0, 1, 0,\n",
       "       0, 2, 1, 2, 1, 1, 0, 1, 1, 0, 0, 0, 2, 2, 1, 1, 0, 1, 0, 1, 1, 1,\n",
       "       0, 1, 1, 1, 2, 1, 1, 1, 1, 1, 2, 0, 0, 2, 1, 2, 2, 0, 0, 1, 1, 1,\n",
       "       2, 1, 1, 0, 0, 0, 1, 1, 1, 1, 0, 1, 1, 2, 1, 1, 0, 2, 1, 2, 0, 1,\n",
       "       2, 2, 1, 1, 2, 2, 0, 0, 2, 0, 2, 1, 2, 1, 2, 2, 0, 1, 1, 1, 0, 2,\n",
       "       1, 0, 1, 1, 1, 2, 2, 1, 1, 0, 2, 1, 1, 2, 2, 1, 2, 0, 1, 0, 0, 0,\n",
       "       2, 2, 2, 2, 1, 2, 1, 2, 1, 1, 2, 1, 1, 1, 2, 1, 1, 0, 1, 1, 0, 1,\n",
       "       1, 2, 1, 2, 1, 1, 1, 1, 0, 2, 1, 1, 0, 0, 1, 1, 1, 1, 1, 0, 2, 1,\n",
       "       1, 1, 1, 1, 2, 0, 1, 2, 0, 1, 2, 2, 2, 0, 0, 1, 1, 0, 0, 2, 1, 2,\n",
       "       1, 0, 2, 2, 0, 1, 1, 2, 0, 0])"
      ]
     },
     "execution_count": 55,
     "metadata": {},
     "output_type": "execute_result"
    }
   ],
   "source": [
    "markers[:,1]"
   ]
  },
  {
   "cell_type": "code",
   "execution_count": 56,
   "metadata": {},
   "outputs": [
    {
     "data": {
      "text/plain": [
       "array([7.47466484e+08, 1.10819291e+09, 7.08847956e+08])"
      ]
     },
     "execution_count": 56,
     "metadata": {},
     "output_type": "execute_result"
    }
   ],
   "source": [
    "exp_epsilon = calculate_exp_epsilon(pars, epsilon)\n",
    "compute_partial_sums(exp_epsilon, markers[:,1])"
   ]
  },
  {
   "cell_type": "code",
   "execution_count": 59,
   "metadata": {},
   "outputs": [
    {
     "data": {
      "text/plain": [
       "array([ 0.01133713,  0.01133713,  0.01133713,  1.4284787 ,  0.01133713,\n",
       "        0.01133713,  0.01133713,  0.01133713,  1.4284787 , -1.40580443,\n",
       "        0.01133713,  0.01133713,  0.01133713,  1.4284787 ,  0.01133713,\n",
       "       -1.40580443,  0.01133713,  0.01133713,  0.01133713,  1.4284787 ,\n",
       "        1.4284787 , -1.40580443,  0.01133713,  1.4284787 ,  0.01133713,\n",
       "        0.01133713,  0.01133713,  0.01133713, -1.40580443,  1.4284787 ,\n",
       "       -1.40580443,  1.4284787 , -1.40580443,  1.4284787 , -1.40580443,\n",
       "        0.01133713, -1.40580443, -1.40580443, -1.40580443,  0.01133713,\n",
       "        0.01133713, -1.40580443, -1.40580443,  0.01133713,  1.4284787 ,\n",
       "        0.01133713,  1.4284787 ,  1.4284787 ,  0.01133713, -1.40580443,\n",
       "       -1.40580443,  0.01133713,  0.01133713,  0.01133713, -1.40580443,\n",
       "        1.4284787 , -1.40580443,  0.01133713,  0.01133713,  0.01133713,\n",
       "       -1.40580443, -1.40580443,  0.01133713, -1.40580443,  0.01133713,\n",
       "        0.01133713, -1.40580443, -1.40580443,  0.01133713, -1.40580443,\n",
       "        1.4284787 ,  0.01133713, -1.40580443,  0.01133713,  0.01133713,\n",
       "        1.4284787 , -1.40580443,  1.4284787 ,  1.4284787 ,  0.01133713,\n",
       "       -1.40580443,  0.01133713,  0.01133713,  1.4284787 ,  0.01133713,\n",
       "        1.4284787 ,  0.01133713,  0.01133713,  1.4284787 ,  0.01133713,\n",
       "        1.4284787 ,  1.4284787 ,  0.01133713,  0.01133713,  1.4284787 ,\n",
       "        1.4284787 ,  0.01133713,  1.4284787 , -1.40580443,  1.4284787 ,\n",
       "        0.01133713,  0.01133713, -1.40580443,  0.01133713,  0.01133713,\n",
       "        0.01133713,  0.01133713,  0.01133713,  0.01133713,  1.4284787 ,\n",
       "        1.4284787 ,  1.4284787 , -1.40580443,  1.4284787 ,  0.01133713,\n",
       "        1.4284787 ,  1.4284787 ,  1.4284787 ,  0.01133713,  1.4284787 ,\n",
       "        0.01133713,  0.01133713,  0.01133713,  0.01133713,  1.4284787 ,\n",
       "        0.01133713,  0.01133713,  1.4284787 ,  1.4284787 ,  0.01133713,\n",
       "       -1.40580443,  1.4284787 , -1.40580443,  1.4284787 , -1.40580443,\n",
       "       -1.40580443,  0.01133713,  1.4284787 ,  0.01133713, -1.40580443,\n",
       "        0.01133713,  0.01133713, -1.40580443,  1.4284787 ,  0.01133713,\n",
       "        0.01133713,  0.01133713,  1.4284787 ,  0.01133713,  0.01133713,\n",
       "        0.01133713, -1.40580443,  0.01133713,  0.01133713, -1.40580443,\n",
       "        0.01133713, -1.40580443,  0.01133713,  1.4284787 ,  1.4284787 ,\n",
       "       -1.40580443, -1.40580443,  0.01133713, -1.40580443,  0.01133713,\n",
       "        0.01133713, -1.40580443, -1.40580443,  0.01133713,  0.01133713,\n",
       "        0.01133713,  0.01133713,  0.01133713, -1.40580443,  0.01133713,\n",
       "       -1.40580443,  0.01133713,  1.4284787 ,  0.01133713,  1.4284787 ,\n",
       "       -1.40580443,  0.01133713,  0.01133713,  0.01133713,  1.4284787 ,\n",
       "        0.01133713,  0.01133713,  1.4284787 ,  1.4284787 ,  0.01133713,\n",
       "        0.01133713,  0.01133713,  0.01133713,  0.01133713,  1.4284787 ,\n",
       "        1.4284787 ,  0.01133713,  1.4284787 ,  1.4284787 ,  0.01133713,\n",
       "        0.01133713,  0.01133713, -1.40580443, -1.40580443,  1.4284787 ,\n",
       "        0.01133713,  0.01133713, -1.40580443, -1.40580443,  0.01133713,\n",
       "       -1.40580443,  0.01133713,  0.01133713,  0.01133713,  1.4284787 ,\n",
       "       -1.40580443,  1.4284787 ,  0.01133713,  1.4284787 ,  0.01133713,\n",
       "        0.01133713,  0.01133713,  0.01133713, -1.40580443,  0.01133713,\n",
       "        0.01133713,  0.01133713,  1.4284787 ,  0.01133713, -1.40580443,\n",
       "        0.01133713,  0.01133713,  0.01133713,  0.01133713,  0.01133713,\n",
       "        0.01133713,  0.01133713,  0.01133713,  0.01133713, -1.40580443,\n",
       "       -1.40580443,  1.4284787 ,  1.4284787 ,  1.4284787 ,  0.01133713,\n",
       "        0.01133713, -1.40580443, -1.40580443,  1.4284787 ,  1.4284787 ,\n",
       "        0.01133713, -1.40580443,  0.01133713,  0.01133713,  1.4284787 ,\n",
       "        1.4284787 , -1.40580443,  0.01133713,  0.01133713, -1.40580443,\n",
       "        1.4284787 , -1.40580443,  1.4284787 ,  0.01133713,  0.01133713,\n",
       "        0.01133713, -1.40580443,  0.01133713, -1.40580443,  1.4284787 ,\n",
       "        0.01133713,  1.4284787 ,  0.01133713,  0.01133713,  0.01133713,\n",
       "        1.4284787 ,  0.01133713, -1.40580443, -1.40580443,  0.01133713,\n",
       "        1.4284787 , -1.40580443,  1.4284787 ,  0.01133713,  0.01133713,\n",
       "        1.4284787 ,  0.01133713,  1.4284787 ,  1.4284787 ,  0.01133713,\n",
       "        1.4284787 ,  0.01133713, -1.40580443, -1.40580443,  1.4284787 ,\n",
       "        0.01133713,  1.4284787 , -1.40580443,  1.4284787 ,  0.01133713,\n",
       "        0.01133713,  0.01133713,  0.01133713, -1.40580443,  0.01133713,\n",
       "        0.01133713,  0.01133713, -1.40580443, -1.40580443,  1.4284787 ,\n",
       "        0.01133713,  0.01133713, -1.40580443,  0.01133713,  0.01133713,\n",
       "        1.4284787 ,  1.4284787 ,  0.01133713,  0.01133713, -1.40580443,\n",
       "        0.01133713, -1.40580443,  1.4284787 , -1.40580443,  0.01133713,\n",
       "        0.01133713, -1.40580443,  1.4284787 ,  0.01133713,  0.01133713,\n",
       "        0.01133713,  0.01133713, -1.40580443,  1.4284787 ,  0.01133713,\n",
       "       -1.40580443,  0.01133713,  1.4284787 ,  0.01133713,  0.01133713,\n",
       "        0.01133713,  0.01133713,  0.01133713, -1.40580443, -1.40580443,\n",
       "        1.4284787 , -1.40580443,  1.4284787 ,  1.4284787 ,  0.01133713,\n",
       "        0.01133713,  0.01133713, -1.40580443, -1.40580443,  0.01133713,\n",
       "        0.01133713,  1.4284787 , -1.40580443,  0.01133713,  0.01133713,\n",
       "       -1.40580443,  1.4284787 , -1.40580443,  0.01133713, -1.40580443,\n",
       "        1.4284787 , -1.40580443,  0.01133713,  0.01133713, -1.40580443,\n",
       "        0.01133713,  0.01133713,  0.01133713, -1.40580443,  1.4284787 ,\n",
       "        0.01133713,  0.01133713,  0.01133713, -1.40580443,  0.01133713,\n",
       "        0.01133713,  0.01133713, -1.40580443,  0.01133713,  1.4284787 ,\n",
       "        0.01133713,  0.01133713, -1.40580443,  0.01133713,  1.4284787 ,\n",
       "       -1.40580443,  0.01133713,  0.01133713, -1.40580443,  0.01133713,\n",
       "       -1.40580443,  0.01133713,  1.4284787 ,  1.4284787 ,  0.01133713,\n",
       "        0.01133713,  0.01133713,  0.01133713,  1.4284787 ,  1.4284787 ,\n",
       "       -1.40580443,  0.01133713,  0.01133713,  1.4284787 ,  1.4284787 ,\n",
       "        1.4284787 , -1.40580443,  1.4284787 ,  1.4284787 ,  0.01133713,\n",
       "        1.4284787 ,  0.01133713,  0.01133713,  0.01133713,  0.01133713,\n",
       "        0.01133713,  0.01133713, -1.40580443,  0.01133713,  0.01133713,\n",
       "        0.01133713,  0.01133713,  0.01133713,  1.4284787 ,  1.4284787 ,\n",
       "        0.01133713,  0.01133713,  1.4284787 ,  0.01133713,  1.4284787 ,\n",
       "        0.01133713,  0.01133713,  0.01133713,  0.01133713,  1.4284787 ,\n",
       "       -1.40580443, -1.40580443,  0.01133713,  0.01133713,  0.01133713,\n",
       "        0.01133713,  1.4284787 ,  1.4284787 , -1.40580443,  1.4284787 ,\n",
       "        1.4284787 ,  0.01133713,  0.01133713,  1.4284787 ,  0.01133713,\n",
       "       -1.40580443,  1.4284787 ,  1.4284787 ,  1.4284787 ,  0.01133713,\n",
       "        0.01133713, -1.40580443,  1.4284787 ,  0.01133713,  1.4284787 ,\n",
       "        1.4284787 ,  0.01133713,  0.01133713,  0.01133713,  0.01133713,\n",
       "        0.01133713,  0.01133713, -1.40580443,  0.01133713, -1.40580443,\n",
       "       -1.40580443,  0.01133713,  1.4284787 , -1.40580443,  0.01133713,\n",
       "       -1.40580443,  0.01133713,  0.01133713,  0.01133713,  0.01133713,\n",
       "        0.01133713,  0.01133713, -1.40580443,  1.4284787 ,  0.01133713,\n",
       "        0.01133713,  0.01133713,  1.4284787 , -1.40580443,  0.01133713,\n",
       "        0.01133713, -1.40580443, -1.40580443,  0.01133713,  1.4284787 ,\n",
       "       -1.40580443,  0.01133713,  1.4284787 , -1.40580443, -1.40580443,\n",
       "        1.4284787 , -1.40580443,  0.01133713,  0.01133713,  0.01133713,\n",
       "        0.01133713,  0.01133713,  0.01133713,  0.01133713,  1.4284787 ,\n",
       "        0.01133713, -1.40580443,  0.01133713,  0.01133713,  0.01133713,\n",
       "       -1.40580443,  1.4284787 , -1.40580443,  1.4284787 ,  1.4284787 ,\n",
       "        0.01133713,  1.4284787 ,  0.01133713,  0.01133713,  0.01133713,\n",
       "        0.01133713,  1.4284787 ,  1.4284787 , -1.40580443,  1.4284787 ,\n",
       "       -1.40580443,  0.01133713,  0.01133713, -1.40580443,  0.01133713,\n",
       "        0.01133713,  0.01133713,  1.4284787 , -1.40580443,  0.01133713,\n",
       "       -1.40580443,  0.01133713,  1.4284787 ,  0.01133713, -1.40580443,\n",
       "       -1.40580443, -1.40580443,  1.4284787 ,  0.01133713,  0.01133713,\n",
       "       -1.40580443,  0.01133713, -1.40580443,  0.01133713,  0.01133713,\n",
       "        1.4284787 ,  1.4284787 ,  1.4284787 , -1.40580443,  0.01133713,\n",
       "        0.01133713,  0.01133713,  0.01133713, -1.40580443,  0.01133713,\n",
       "        0.01133713, -1.40580443, -1.40580443,  0.01133713, -1.40580443,\n",
       "        1.4284787 ,  0.01133713,  1.4284787 , -1.40580443,  1.4284787 ,\n",
       "       -1.40580443,  0.01133713,  0.01133713,  1.4284787 ,  0.01133713,\n",
       "       -1.40580443,  0.01133713, -1.40580443,  0.01133713,  0.01133713,\n",
       "        1.4284787 ,  0.01133713, -1.40580443,  0.01133713, -1.40580443,\n",
       "        0.01133713,  1.4284787 ,  0.01133713,  0.01133713,  0.01133713,\n",
       "       -1.40580443,  0.01133713,  0.01133713, -1.40580443, -1.40580443,\n",
       "        0.01133713,  0.01133713,  0.01133713, -1.40580443,  0.01133713,\n",
       "       -1.40580443,  1.4284787 ,  0.01133713,  0.01133713,  0.01133713,\n",
       "        1.4284787 ,  0.01133713,  0.01133713,  0.01133713, -1.40580443,\n",
       "        0.01133713, -1.40580443, -1.40580443, -1.40580443,  0.01133713,\n",
       "        0.01133713,  0.01133713,  1.4284787 ,  1.4284787 , -1.40580443,\n",
       "        1.4284787 ,  1.4284787 , -1.40580443,  1.4284787 ,  1.4284787 ,\n",
       "       -1.40580443, -1.40580443,  0.01133713,  0.01133713,  0.01133713,\n",
       "        0.01133713,  0.01133713,  0.01133713,  0.01133713,  0.01133713,\n",
       "       -1.40580443, -1.40580443,  0.01133713,  1.4284787 ,  0.01133713,\n",
       "        1.4284787 ,  0.01133713,  1.4284787 , -1.40580443,  0.01133713,\n",
       "        0.01133713, -1.40580443,  0.01133713, -1.40580443,  1.4284787 ,\n",
       "       -1.40580443, -1.40580443,  0.01133713,  0.01133713, -1.40580443,\n",
       "        0.01133713,  0.01133713,  0.01133713, -1.40580443,  0.01133713,\n",
       "       -1.40580443, -1.40580443,  0.01133713,  1.4284787 , -1.40580443,\n",
       "        0.01133713,  0.01133713,  1.4284787 , -1.40580443,  0.01133713,\n",
       "        0.01133713,  0.01133713,  1.4284787 , -1.40580443, -1.40580443,\n",
       "        0.01133713,  0.01133713,  0.01133713,  1.4284787 ,  1.4284787 ,\n",
       "        0.01133713,  1.4284787 ,  0.01133713,  1.4284787 ,  1.4284787 ,\n",
       "       -1.40580443,  0.01133713,  0.01133713, -1.40580443,  1.4284787 ,\n",
       "       -1.40580443,  0.01133713,  1.4284787 ,  1.4284787 ,  0.01133713,\n",
       "        0.01133713, -1.40580443, -1.40580443,  0.01133713,  1.4284787 ,\n",
       "        0.01133713,  0.01133713, -1.40580443,  1.4284787 ,  1.4284787 ,\n",
       "        0.01133713, -1.40580443,  0.01133713,  1.4284787 ,  1.4284787 ,\n",
       "       -1.40580443,  0.01133713,  1.4284787 ,  0.01133713,  0.01133713,\n",
       "        0.01133713,  0.01133713,  0.01133713,  1.4284787 , -1.40580443,\n",
       "        0.01133713,  0.01133713,  0.01133713,  0.01133713, -1.40580443,\n",
       "       -1.40580443,  1.4284787 , -1.40580443, -1.40580443,  0.01133713,\n",
       "        0.01133713,  1.4284787 ,  0.01133713, -1.40580443,  0.01133713,\n",
       "        0.01133713,  0.01133713, -1.40580443,  0.01133713,  0.01133713,\n",
       "       -1.40580443, -1.40580443,  0.01133713, -1.40580443,  0.01133713,\n",
       "       -1.40580443,  0.01133713, -1.40580443, -1.40580443,  0.01133713,\n",
       "        1.4284787 ,  0.01133713,  1.4284787 ,  0.01133713,  0.01133713,\n",
       "       -1.40580443, -1.40580443,  0.01133713,  1.4284787 , -1.40580443,\n",
       "        0.01133713,  0.01133713, -1.40580443,  0.01133713,  1.4284787 ,\n",
       "        0.01133713,  1.4284787 ,  0.01133713,  0.01133713,  0.01133713,\n",
       "        0.01133713, -1.40580443, -1.40580443,  1.4284787 ,  1.4284787 ,\n",
       "        1.4284787 ,  0.01133713,  0.01133713, -1.40580443,  0.01133713,\n",
       "        0.01133713,  1.4284787 , -1.40580443, -1.40580443, -1.40580443,\n",
       "        1.4284787 ,  0.01133713, -1.40580443,  1.4284787 ,  1.4284787 ,\n",
       "        1.4284787 , -1.40580443,  0.01133713,  1.4284787 ,  0.01133713,\n",
       "       -1.40580443,  0.01133713,  1.4284787 ,  0.01133713, -1.40580443,\n",
       "       -1.40580443, -1.40580443,  0.01133713, -1.40580443, -1.40580443,\n",
       "        1.4284787 ,  0.01133713,  1.4284787 ,  0.01133713,  0.01133713,\n",
       "       -1.40580443,  0.01133713,  0.01133713, -1.40580443, -1.40580443,\n",
       "       -1.40580443,  1.4284787 ,  1.4284787 ,  0.01133713,  0.01133713,\n",
       "       -1.40580443,  0.01133713, -1.40580443,  0.01133713,  0.01133713,\n",
       "        0.01133713, -1.40580443,  0.01133713,  0.01133713,  0.01133713,\n",
       "        1.4284787 ,  0.01133713,  0.01133713,  0.01133713,  0.01133713,\n",
       "        0.01133713,  1.4284787 , -1.40580443, -1.40580443,  1.4284787 ,\n",
       "        0.01133713,  1.4284787 ,  1.4284787 , -1.40580443, -1.40580443,\n",
       "        0.01133713,  0.01133713,  0.01133713,  1.4284787 ,  0.01133713,\n",
       "        0.01133713, -1.40580443, -1.40580443, -1.40580443,  0.01133713,\n",
       "        0.01133713,  0.01133713,  0.01133713, -1.40580443,  0.01133713,\n",
       "        0.01133713,  1.4284787 ,  0.01133713,  0.01133713, -1.40580443,\n",
       "        1.4284787 ,  0.01133713,  1.4284787 , -1.40580443,  0.01133713,\n",
       "        1.4284787 ,  1.4284787 ,  0.01133713,  0.01133713,  1.4284787 ,\n",
       "        1.4284787 , -1.40580443, -1.40580443,  1.4284787 , -1.40580443,\n",
       "        1.4284787 ,  0.01133713,  1.4284787 ,  0.01133713,  1.4284787 ,\n",
       "        1.4284787 , -1.40580443,  0.01133713,  0.01133713,  0.01133713,\n",
       "       -1.40580443,  1.4284787 ,  0.01133713, -1.40580443,  0.01133713,\n",
       "        0.01133713,  0.01133713,  1.4284787 ,  1.4284787 ,  0.01133713,\n",
       "        0.01133713, -1.40580443,  1.4284787 ,  0.01133713,  0.01133713,\n",
       "        1.4284787 ,  1.4284787 ,  0.01133713,  1.4284787 , -1.40580443,\n",
       "        0.01133713, -1.40580443, -1.40580443, -1.40580443,  1.4284787 ,\n",
       "        1.4284787 ,  1.4284787 ,  1.4284787 ,  0.01133713,  1.4284787 ,\n",
       "        0.01133713,  1.4284787 ,  0.01133713,  0.01133713,  1.4284787 ,\n",
       "        0.01133713,  0.01133713,  0.01133713,  1.4284787 ,  0.01133713,\n",
       "        0.01133713, -1.40580443,  0.01133713,  0.01133713, -1.40580443,\n",
       "        0.01133713,  0.01133713,  1.4284787 ,  0.01133713,  1.4284787 ,\n",
       "        0.01133713,  0.01133713,  0.01133713,  0.01133713, -1.40580443,\n",
       "        1.4284787 ,  0.01133713,  0.01133713, -1.40580443, -1.40580443,\n",
       "        0.01133713,  0.01133713,  0.01133713,  0.01133713,  0.01133713,\n",
       "       -1.40580443,  1.4284787 ,  0.01133713,  0.01133713,  0.01133713,\n",
       "        0.01133713,  0.01133713,  1.4284787 , -1.40580443,  0.01133713,\n",
       "        1.4284787 , -1.40580443,  0.01133713,  1.4284787 ,  1.4284787 ,\n",
       "        1.4284787 , -1.40580443, -1.40580443,  0.01133713,  0.01133713,\n",
       "       -1.40580443, -1.40580443,  1.4284787 ,  0.01133713,  1.4284787 ,\n",
       "        0.01133713, -1.40580443,  1.4284787 ,  1.4284787 , -1.40580443,\n",
       "        0.01133713,  0.01133713,  1.4284787 , -1.40580443, -1.40580443])"
      ]
     },
     "execution_count": 59,
     "metadata": {},
     "output_type": "execute_result"
    }
   ],
   "source": [
    "d_array * norm_markers[:,1]"
   ]
  },
  {
   "cell_type": "code",
   "execution_count": null,
   "metadata": {},
   "outputs": [],
   "source": [
    "pars[\"sum_fail\"] = d_fail * marker[:,1]\n",
    "pars[\"mean_sd_ratio\"] = \n",
    "pars[\"mixture_C\"] = \n",
    "pars[\"\"]"
   ]
  },
  {
   "cell_type": "code",
   "execution_count": null,
   "metadata": {},
   "outputs": [],
   "source": [
    "def log_mu(pars, epsilon_arr):\n",
    "    '''computes the log-likelihood of the mu parameter'''\n",
    "    return lambda x : (-pars['alpha']*x*pars['d'] - \\\n",
    "                       np.sum(np.exp((epsilon_arr - x)*pars['alpha'] -np.euler_gamma)) \\\n",
    "                        - (x**2)/(2*pars[\"var_mu\"]))"
   ]
  },
  {
   "cell_type": "code",
   "execution_count": 49,
   "metadata": {},
   "outputs": [
    {
     "data": {
      "text/plain": [
       "-12500.0"
      ]
     },
     "execution_count": 49,
     "metadata": {},
     "output_type": "execute_result"
    }
   ],
   "source": [
    "-pars['alpha']*5*pars['d']"
   ]
  },
  {
   "cell_type": "code",
   "execution_count": 51,
   "metadata": {},
   "outputs": [
    {
     "data": {
      "text/plain": [
       "-2.3887462956856123"
      ]
     },
     "execution_count": 51,
     "metadata": {},
     "output_type": "execute_result"
    }
   ],
   "source": [
    "-np.sum(np.exp((log_data - 9)*pars['alpha'] -np.euler_gamma))"
   ]
  },
  {
   "cell_type": "code",
   "execution_count": 367,
   "metadata": {},
   "outputs": [
    {
     "data": {
      "text/plain": [
       "5.053878284589332"
      ]
     },
     "execution_count": 367,
     "metadata": {},
     "output_type": "execute_result"
    }
   ],
   "source": [
    "log_data.mean()"
   ]
  },
  {
   "attachments": {},
   "cell_type": "markdown",
   "metadata": {},
   "source": [
    "How can I define the probabilities of beta and x so that g follows a normal with variance sigma_G? We have to take into account that we are not simple multiplying two variables but also summing over the elements, so this changes everything..."
   ]
  }
 ],
 "metadata": {
  "kernelspec": {
   "display_name": "base",
   "language": "python",
   "name": "python3"
  },
  "language_info": {
   "codemirror_mode": {
    "name": "ipython",
    "version": 3
   },
   "file_extension": ".py",
   "mimetype": "text/x-python",
   "name": "python",
   "nbconvert_exporter": "python",
   "pygments_lexer": "ipython3",
   "version": "3.9.13"
  },
  "orig_nbformat": 4
 },
 "nbformat": 4,
 "nbformat_minor": 2
}
