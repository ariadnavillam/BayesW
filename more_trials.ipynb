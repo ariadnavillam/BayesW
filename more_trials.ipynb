{
 "cells": [
  {
   "cell_type": "code",
   "execution_count": 3,
   "metadata": {},
   "outputs": [],
   "source": [
    "import os\n",
    "import random\n",
    "from decimal import *\n",
    "\n",
    "import matplotlib.pyplot as plt\n",
    "\n",
    "import numpy as np\n",
    "from scipy import stats\n",
    "from numpy.linalg import norm\n",
    "\n",
    "### plots formatting\n",
    "from matplotlib import rc\n",
    "from matplotlib.colors import LinearSegmentedColormap\n",
    "from cycler import cycler\n",
    "\n",
    "\n",
    "rc('font',**{'family':'sans-serif','sans-serif':['Helvetica']})\n",
    "## for Palatino and other serif fonts use:\n",
    "rc('font',**{'family':'serif','serif':['Palatino'], 'size':14})\n",
    "rc('text', usetex=True)\n",
    "plt.rc('axes', prop_cycle=(cycler('color', ['red', 'gray', 'black', 'blue', 'green'])))#, )))\n",
    "\n",
    "#import ars\n",
    "import Bayes_arms\n",
    "\n",
    "from BayesW_utils import *\n",
    "from Distributions import *\n",
    "from Load_data import *\n"
   ]
  },
  {
   "cell_type": "code",
   "execution_count": 2,
   "metadata": {},
   "outputs": [],
   "source": [
    "betas = pd.read_table(\"/home/avillanu/BayesW_data_sim/Weibull.beta\", sep=\" \", header=None)[1].to_numpy()"
   ]
  },
  {
   "cell_type": "code",
   "execution_count": 3,
   "metadata": {},
   "outputs": [
    {
     "data": {
      "text/plain": [
       "0.016719388530205517"
      ]
     },
     "execution_count": 3,
     "metadata": {},
     "output_type": "execute_result"
    }
   ],
   "source": [
    "betas.var()*200"
   ]
  },
  {
   "cell_type": "code",
   "execution_count": 2,
   "metadata": {},
   "outputs": [],
   "source": [
    "N =1000"
   ]
  },
  {
   "cell_type": "code",
   "execution_count": 3,
   "metadata": {},
   "outputs": [],
   "source": [
    "gumbel_dis = stats.gumbel_r(loc=0, scale=1)\n",
    "w = gumbel_dis.rvs(size=(N,1))"
   ]
  },
  {
   "cell_type": "code",
   "execution_count": 12,
   "metadata": {},
   "outputs": [],
   "source": [
    "alpha = 10"
   ]
  },
  {
   "cell_type": "code",
   "execution_count": 15,
   "metadata": {},
   "outputs": [],
   "source": [
    "w1 = -np.log(-np.log(1-np.random.uniform(size=N)))"
   ]
  },
  {
   "cell_type": "code",
   "execution_count": 16,
   "metadata": {},
   "outputs": [
    {
     "data": {
      "text/plain": [
       "(1.8475891432508738, 1.5361257202118028)"
      ]
     },
     "execution_count": 16,
     "metadata": {},
     "output_type": "execute_result"
    }
   ],
   "source": [
    "np.var(w), np.var(w1)"
   ]
  },
  {
   "cell_type": "code",
   "execution_count": null,
   "metadata": {},
   "outputs": [],
   "source": []
  },
  {
   "cell_type": "code",
   "execution_count": 23,
   "metadata": {},
   "outputs": [],
   "source": [
    "N = 1000\n",
    "M = 20000\n",
    "causal = 200\n",
    "\n",
    "mu = 4.1\n",
    "\n",
    "alpha = 10\n",
    "sigma_g = np.pi**2/(6*alpha**2)\n",
    "\n",
    "\n",
    "b = np.random.normal(0, np.sqrt(sigma_g/causal), size = causal)\n",
    "\n",
    "\n",
    "markers = np.random.normal(0, 1, (N, M))\n",
    "\n",
    "beta = np.zeros(M)\n",
    "index = np.random.choice(np.arange(0,M), causal)\n",
    "\n",
    "h2 = 0.5\n",
    "\n",
    "beta[index] = b\n",
    "\n",
    "g = markers.dot(beta)\n",
    "\n",
    "gumbel_dis = stats.gumbel_r(loc=0, scale=1)\n",
    "w = gumbel_dis.rvs(size=N)\n",
    "\n",
    "log_data = mu + g + w/alpha + np.euler_gamma/alpha\n"
   ]
  },
  {
   "cell_type": "code",
   "execution_count": 34,
   "metadata": {},
   "outputs": [],
   "source": [
    "censoring_time = np.random.uniform(0,600, size=N)\n",
    "\n",
    "cens = np.log(censoring_time)\n",
    "\n",
    "a = np.where((log_data <= cens) == False, cens, log_data)"
   ]
  },
  {
   "cell_type": "code",
   "execution_count": 64,
   "metadata": {},
   "outputs": [],
   "source": [
    "b = np.where(isFailure , log_data, cens)"
   ]
  },
  {
   "cell_type": "code",
   "execution_count": 37,
   "metadata": {},
   "outputs": [],
   "source": [
    "gen_file = \"/home/avillanu/GitHub/BayesW/files_sim/Weibull_dense_1000_20000\"\n",
    "fail_file = \"files_sim/Weibull_dense_1000_20000.fail\"\n",
    "phen_file = \"files_sim/Weibull_dense_1000_20000.phen\"\n",
    "\n",
    "markers = load_genotype(gen_file)\n",
    "d_fail = load_fail(fail_file)\n",
    "y_data_log = load_phen(phen_file)"
   ]
  },
  {
   "cell_type": "code",
   "execution_count": 38,
   "metadata": {},
   "outputs": [
    {
     "data": {
      "text/plain": [
       "1.2026365184267835"
      ]
     },
     "execution_count": 38,
     "metadata": {},
     "output_type": "execute_result"
    }
   ],
   "source": [
    "y_data_log[d_fail == 0].var()"
   ]
  },
  {
   "cell_type": "code",
   "execution_count": 1,
   "metadata": {},
   "outputs": [],
   "source": [
    "hpars_file = \"files_sim/Weibull_dense_1000_20000.h2\"\n"
   ]
  },
  {
   "cell_type": "code",
   "execution_count": 34,
   "metadata": {},
   "outputs": [],
   "source": [
    "gen_file = \"/home/avillanu/BayesW_data_sim/t_M10K_N_5K\"\n",
    "fail_file = \"/home/avillanu/BayesW_data_sim/Weibull.fail\"\n",
    "phen_file = \"/home/avillanu/BayesW_data_sim/Weibull.phen\"\n",
    "\n",
    "markers = load_genotype(gen_file)\n",
    "d_fail = load_fail(fail_file)\n",
    "y_data_log2 = load_phen(phen_file)\n",
    "\n",
    "betas = pd.read_table(\"/home/avillanu/BayesW_data_sim/Weibull.beta\", sep=\" \", header=None)[1].to_numpy()"
   ]
  },
  {
   "cell_type": "code",
   "execution_count": 36,
   "metadata": {},
   "outputs": [
    {
     "data": {
      "text/plain": [
       "1.1150830051059437"
      ]
     },
     "execution_count": 36,
     "metadata": {},
     "output_type": "execute_result"
    }
   ],
   "source": [
    "y_data_log2[d_fail == 0].var()"
   ]
  },
  {
   "cell_type": "code",
   "execution_count": 12,
   "metadata": {},
   "outputs": [
    {
     "data": {
      "text/plain": [
       "((5000, 10000), 0.30568115024351866)"
      ]
     },
     "execution_count": 12,
     "metadata": {},
     "output_type": "execute_result"
    }
   ],
   "source": [
    "markers.shape,markers.var()"
   ]
  },
  {
   "cell_type": "code",
   "execution_count": 29,
   "metadata": {},
   "outputs": [
    {
     "data": {
      "text/plain": [
       "0.9999999999999978"
      ]
     },
     "execution_count": 29,
     "metadata": {},
     "output_type": "execute_result"
    }
   ],
   "source": [
    "norm_markers = helpers.normalize_markers(markers)\n",
    "norm_markers.var()"
   ]
  },
  {
   "cell_type": "code",
   "execution_count": 30,
   "metadata": {},
   "outputs": [],
   "source": [
    "b = np.zeros(markers.shape[1])\n",
    "b[np.random.choice(np.arange(1,markers.shape[1]),200)] = betas"
   ]
  },
  {
   "cell_type": "code",
   "execution_count": 31,
   "metadata": {},
   "outputs": [],
   "source": [
    "g = norm_markers.dot(b)"
   ]
  },
  {
   "cell_type": "code",
   "execution_count": 32,
   "metadata": {},
   "outputs": [
    {
     "data": {
      "text/plain": [
       "0.016745218162440973"
      ]
     },
     "execution_count": 32,
     "metadata": {},
     "output_type": "execute_result"
    }
   ],
   "source": [
    "g.var()"
   ]
  },
  {
   "cell_type": "code",
   "execution_count": 37,
   "metadata": {},
   "outputs": [
    {
     "data": {
      "text/plain": [
       "0.24540490935169965"
      ]
     },
     "execution_count": 37,
     "metadata": {},
     "output_type": "execute_result"
    }
   ],
   "source": [
    "(y_data_log2 - g).var()"
   ]
  },
  {
   "cell_type": "code",
   "execution_count": 38,
   "metadata": {},
   "outputs": [],
   "source": [
    "epsilon = y_data_log2 -mu - g"
   ]
  },
  {
   "cell_type": "code",
   "execution_count": 55,
   "metadata": {},
   "outputs": [
    {
     "data": {
      "text/plain": [
       "2.5890034204974466"
      ]
     },
     "execution_count": 55,
     "metadata": {},
     "output_type": "execute_result"
    }
   ],
   "source": [
    "np.pi/np.sqrt(6 * np.var(epsilon))"
   ]
  },
  {
   "cell_type": "code",
   "execution_count": 39,
   "metadata": {},
   "outputs": [],
   "source": [
    "from Distributions_dense import *"
   ]
  },
  {
   "cell_type": "code",
   "execution_count": 46,
   "metadata": {},
   "outputs": [],
   "source": [
    "pars = {\"d_array\": d_fail,\n",
    "\"d\":d_fail.sum(),\n",
    "\"alpha_zero\":0.01,\n",
    "\"kappa_zero\":0.01}"
   ]
  },
  {
   "cell_type": "code",
   "execution_count": 53,
   "metadata": {},
   "outputs": [
    {
     "name": "stderr",
     "output_type": "stream",
     "text": [
      "/home/avillanu/GitHub/BayesW/Distributions_dense.py:38: RuntimeWarning: divide by zero encountered in log\n",
      "  return lambda x: (pars[\"alpha_zero\"] + pars[\"d\"] -1)*np.log(x) \\\n"
     ]
    },
    {
     "data": {
      "text/plain": [
       "[<matplotlib.lines.Line2D at 0x7f81b64ac310>]"
      ]
     },
     "execution_count": 53,
     "metadata": {},
     "output_type": "execute_result"
    },
    {
     "data": {
      "image/png": "[encoded data removed]",
      "text/plain": [
       "<Figure size 640x480 with 1 Axes>"
      ]
     },
     "metadata": {},
     "output_type": "display_data"
    }
   ],
   "source": [
    "x_vals = np.linspace(0,15)\n",
    "f = [log_alpha(pars, epsilon)(x) for x in x_vals]\n",
    "plt.plot(x_vals, f)"
   ]
  },
  {
   "cell_type": "code",
   "execution_count": 88,
   "metadata": {},
   "outputs": [],
   "source": [
    "gumbel_dis = stats.gumbel_r(loc=0, scale=1)\n",
    "w = gumbel_dis.rvs(size=(markers.shape[0],1))\n"
   ]
  },
  {
   "cell_type": "code",
   "execution_count": 90,
   "metadata": {},
   "outputs": [],
   "source": [
    "log_y = mu + g + w/alpha + np.euler_gamma/alpha"
   ]
  },
  {
   "cell_type": "code",
   "execution_count": 91,
   "metadata": {},
   "outputs": [
    {
     "data": {
      "text/plain": [
       "0.019865027067917613"
      ]
     },
     "execution_count": 91,
     "metadata": {},
     "output_type": "execute_result"
    }
   ],
   "source": [
    "np.var(log_y)"
   ]
  },
  {
   "cell_type": "code",
   "execution_count": 43,
   "metadata": {},
   "outputs": [
    {
     "data": {
      "text/plain": [
       "0.11347435376914329"
      ]
     },
     "execution_count": 43,
     "metadata": {},
     "output_type": "execute_result"
    }
   ],
   "source": [
    "np.var(y_data_log2)/2"
   ]
  },
  {
   "cell_type": "code",
   "execution_count": 41,
   "metadata": {},
   "outputs": [
    {
     "data": {
      "text/plain": [
       "(4.012242035611408, 0.031815035821945684)"
      ]
     },
     "execution_count": 41,
     "metadata": {},
     "output_type": "execute_result"
    }
   ],
   "source": [
    "np.mean(y_data_log), np.var(y_data_log)"
   ]
  },
  {
   "cell_type": "code",
   "execution_count": 42,
   "metadata": {},
   "outputs": [
    {
     "data": {
      "text/plain": [
       "(4.000997954279053, 0.22694870753828658)"
      ]
     },
     "execution_count": 42,
     "metadata": {},
     "output_type": "execute_result"
    }
   ],
   "source": [
    "np.mean(y_data_log2), np.var(y_data_log2)"
   ]
  },
  {
   "cell_type": "code",
   "execution_count": 39,
   "metadata": {},
   "outputs": [
    {
     "name": "stdout",
     "output_type": "stream",
     "text": [
      "0\t4.000997954279053\t0.0011349705317977926\t2.6919497999407764\th2\t0\t0\t0\n",
      "[0.99  0.003 0.003 0.003]\n"
     ]
    }
   ],
   "source": [
    "norm_markers = helpers.normalize_markers(markers)\n",
    "\n",
    "\n",
    "pars, alpha_ini, sigma_g_ini = init_parameters(n_markers = n_markers,\n",
    "                                                l_mix = l_mix, \n",
    "                                                data = (markers, d_fail, y_data_log) )\n",
    "\n",
    "mix_comp = []\n",
    "mu = Parameter(log_mu, dev_log_mu, \n",
    "               bounds = (2,10), \n",
    "               init_value = np.mean(y_data_log),\n",
    "               xinit = [0.995, 1, 1.005, 1.01])\n",
    "\n",
    "alpha = Parameter(log_alpha, dev_log_alpha,\n",
    "                  bounds = (0, 400),\n",
    "                  init_value= pars[\"alpha\"],\n",
    "                  xinit = [0.5, 1, 1.5, 3])\n",
    "\n",
    "betas = list(np.zeros(n_markers))\n",
    "for j in range(n_markers):\n",
    "    betas[j] = Parameter(log_beta, dev_log_beta,\n",
    "                bounds = (-1,1),\n",
    "                init_value = 0, xinit= [1,1,1,1])\n",
    "\n",
    "sigma_g = SimpleParameter(pars[\"sigma_g\"])\n",
    "    \n",
    "#mu.now = mu_true\n",
    "#alpha.now = alpha_true\n",
    "\n",
    "epsilon = y_data_log - mu.now\n",
    "np.set_printoptions(precision=3)\n",
    "\n",
    "with open(\"epsilon.txt\",\"w\") as f:\n",
    "    print(iter, \"\\t\", 'nan', \"\\t\", end='', file=f)\n",
    "    np.savetxt(f, epsilon )\n",
    "\n",
    "\n",
    "print(\"\\t\".join([\"0\", str(mu.now), str(sigma_g.now), str(alpha.now), \"h2\", \"0\", \"0\", \"0\"]))\n",
    "print(pars[\"pi_L\"])\n"
   ]
  },
  {
   "cell_type": "code",
   "execution_count": 40,
   "metadata": {},
   "outputs": [],
   "source": [
    "I2 = []\n",
    "SI2 = []\n",
    "I1 = []\n",
    "SI1 = []\n",
    "\n",
    "for j in range(n_markers):\n",
    "    idx = np.argwhere(markers[:,j] == 2).flatten()\n",
    "    I2.append(idx)\n",
    "    SI2.append(idx.shape[0])\n",
    "\n",
    "    idx = np.argwhere(markers[:,j] == 1).flatten()\n",
    "    I1.append(idx)\n",
    "    SI1.append(idx.shape[0])"
   ]
  },
  {
   "cell_type": "code",
   "execution_count": 42,
   "metadata": {},
   "outputs": [],
   "source": [
    "mave = np.zeros(n_markers)\n",
    "mstd = np.zeros(n_markers)\n",
    "sum_failure = np.zeros(n_markers)\n",
    "temp_fail_sum = d_fail.sum()\n",
    "Ntot = markers.shape[0]\n",
    "for i in range(n_markers):\n",
    "    mave[i] = (SI1[i] + 2*SI2[i]) / Ntot\n",
    "    tmp1 = SI1[i] * (1-mave[i])**2\n",
    "    tmp2 = SI2[i] * (2-mave[i])**2\n",
    "    tmp0 = (Ntot - SI1[i] - SI2[i]) * (0 - mave[i])**2\n",
    "    mstd[i] = np.sqrt((tmp0+tmp1+tmp2)/(Ntot - 1))\n",
    "\n",
    "    temp_sum = d_fail[I1[i]].sum() + 2*d_fail[I2[i]].sum()\n",
    "    sum_failure[i] = (temp_sum - mave[i] *temp_fail_sum)/mstd[i]"
   ]
  },
  {
   "cell_type": "code",
   "execution_count": 50,
   "metadata": {},
   "outputs": [
    {
     "data": {
      "text/plain": [
       "array([0, 1, 2])"
      ]
     },
     "execution_count": 50,
     "metadata": {},
     "output_type": "execute_result"
    }
   ],
   "source": [
    "np.unique(markers)"
   ]
  },
  {
   "cell_type": "code",
   "execution_count": 46,
   "metadata": {},
   "outputs": [
    {
     "data": {
      "text/plain": [
       "array([ 2.586e+01,  4.122e+01, -2.265e+01,  2.630e+01, -2.886e+00,\n",
       "       -1.806e+01, -3.067e+01,  2.907e+01,  2.766e+01, -6.285e+00,\n",
       "        2.019e+01, -2.324e+01, -1.742e+01,  2.161e+01,  1.990e+01,\n",
       "        5.332e+01, -8.815e+00,  2.448e+01, -4.948e+00,  2.258e+01,\n",
       "       -4.030e+00, -1.061e-01, -1.677e+00,  8.606e+00, -1.021e+01,\n",
       "        1.877e+01, -3.325e+01,  8.462e+00, -3.305e+01,  2.580e+01,\n",
       "        9.918e+00, -2.239e+01,  5.853e+00,  8.043e-01, -3.234e+01,\n",
       "       -1.456e+01,  9.074e+00,  1.986e+01, -8.966e+00,  1.982e+01,\n",
       "        1.741e+01, -4.744e+00, -7.091e+00,  5.928e+00, -3.785e+01,\n",
       "        3.045e+01, -8.184e+00,  1.518e+01,  2.437e+01, -3.023e+01,\n",
       "       -2.221e+00, -1.543e+01,  2.729e+01, -1.661e+01,  1.805e+01,\n",
       "        2.278e+01, -1.980e+01, -5.534e+00,  2.161e+01, -1.121e+01,\n",
       "       -9.462e+00,  2.394e+01,  5.716e+00,  3.211e+01,  2.865e-01,\n",
       "       -2.950e+00, -4.336e+01,  2.183e+01, -1.488e+01, -1.113e+01,\n",
       "        6.352e+00, -2.096e+01,  5.118e+00, -1.937e+01,  8.257e+00,\n",
       "        1.930e-01,  4.046e+01, -1.264e+01, -1.342e+00, -2.908e+01,\n",
       "       -1.460e+01,  2.557e+01,  2.284e+00, -3.210e+01, -2.986e+00,\n",
       "       -1.959e+01, -5.465e+00, -8.926e+00,  2.076e+01, -7.053e-01,\n",
       "       -8.800e+00, -1.981e+01, -1.929e+01, -1.383e+01,  1.892e+01,\n",
       "        2.298e+00, -3.519e-01, -1.629e+01, -1.569e+01,  6.988e+00,\n",
       "        5.071e-03, -1.972e+01,  1.113e+01, -2.393e+01, -9.651e+00,\n",
       "        2.861e+01,  3.740e+01, -3.771e+01, -4.854e+00, -1.089e+01,\n",
       "       -4.884e+01,  2.868e+01, -3.841e+00, -9.091e+00, -8.644e+00,\n",
       "        1.322e+01,  3.393e+00, -4.501e+01, -3.412e+01, -4.907e+01,\n",
       "        3.865e+01, -1.726e+01,  7.402e+00,  2.938e+01, -2.059e+01,\n",
       "       -9.715e+00, -1.231e+01, -4.785e+00, -2.505e+01, -1.029e+01,\n",
       "       -1.656e+01, -4.736e+01, -2.636e+01, -3.676e+00,  1.892e-01,\n",
       "        1.937e+01,  1.258e+01,  2.350e+01,  1.293e+01,  4.058e+01,\n",
       "       -1.450e+01,  6.712e+00,  7.197e+00,  1.029e+01,  5.272e+00,\n",
       "       -8.429e+00,  3.808e+00,  2.443e+01,  1.324e+01,  4.259e+00,\n",
       "       -1.179e+00, -1.380e+00, -1.419e+01, -3.790e+00,  1.254e+00,\n",
       "        4.492e+00,  1.496e-01,  3.984e+00, -1.114e-01,  4.835e+00,\n",
       "       -1.715e+01, -2.066e-01, -1.084e+01, -2.886e+00, -3.415e+01,\n",
       "        2.228e+01, -4.534e+01,  6.626e+00,  2.060e+01,  2.033e+01,\n",
       "       -1.781e+01,  2.790e+01,  2.077e+01,  1.847e+01,  1.217e+01,\n",
       "       -1.497e+01, -2.123e+01,  2.647e+01,  6.105e+00, -5.927e+01,\n",
       "        2.465e+01, -7.094e+00, -8.814e-01,  6.055e+00, -1.851e+01,\n",
       "       -2.412e+00, -4.360e+01, -5.103e+00,  1.762e+01, -1.138e+01,\n",
       "       -8.876e-01,  1.078e+01, -1.429e+01,  1.801e+01,  3.881e+00,\n",
       "        1.735e+00,  2.757e+01,  9.540e-01,  1.243e+01, -1.254e+01])"
      ]
     },
     "execution_count": 46,
     "metadata": {},
     "output_type": "execute_result"
    }
   ],
   "source": [
    "sum_failure"
   ]
  },
  {
   "cell_type": "code",
   "execution_count": 24,
   "metadata": {},
   "outputs": [
    {
     "data": {
      "text/plain": [
       "-1.451492762878792"
      ]
     },
     "execution_count": 24,
     "metadata": {},
     "output_type": "execute_result"
    }
   ],
   "source": [
    "i = 3\n",
    "(temp_sum - mave[i] *temp_fail_sum)/mstd[i]"
   ]
  },
  {
   "cell_type": "code",
   "execution_count": 13,
   "metadata": {},
   "outputs": [
    {
     "data": {
      "text/plain": [
       "array([0.724, 0.708, 0.651, 0.689, 0.694, 0.697, 0.732, 0.731, 0.732,\n",
       "       0.658, 0.703, 0.674, 0.689, 0.764, 0.724, 0.731, 0.671, 0.758,\n",
       "       0.717, 0.664, 0.71 , 0.744, 0.73 , 0.689, 0.742, 0.715, 0.674,\n",
       "       0.691, 0.708, 0.71 , 0.722, 0.765, 0.79 , 0.724, 0.711, 0.695,\n",
       "       0.767, 0.704, 0.724, 0.666, 0.646, 0.664, 0.685, 0.696, 0.771,\n",
       "       0.674, 0.642, 0.74 , 0.706, 0.722, 0.682, 0.717, 0.642, 0.677,\n",
       "       0.737, 0.772, 0.703, 0.742, 0.657, 0.696, 0.703, 0.722, 0.732,\n",
       "       0.712, 0.686, 0.651, 0.702, 0.714, 0.665, 0.683, 0.724, 0.751,\n",
       "       0.696, 0.695, 0.725, 0.665, 0.696, 0.745, 0.789, 0.689, 0.732,\n",
       "       0.672, 0.724, 0.724, 0.706, 0.681, 0.662, 0.758, 0.707, 0.703,\n",
       "       0.655, 0.68 , 0.764, 0.659, 0.658, 0.682, 0.765, 0.689, 0.725,\n",
       "       0.724, 0.724, 0.756, 0.769, 0.722, 0.724, 0.677, 0.778, 0.732,\n",
       "       0.646, 0.672, 0.714, 0.718, 0.674, 0.651, 0.677, 0.761, 0.735,\n",
       "       0.73 , 0.703, 0.71 , 0.655, 0.664, 0.691, 0.724, 0.694, 0.758,\n",
       "       0.695, 0.714, 0.658, 0.674, 0.71 , 0.702, 0.731, 0.7  , 0.79 ,\n",
       "       0.7  , 0.643, 0.729, 0.758, 0.745, 0.73 , 0.672, 0.714, 0.725,\n",
       "       0.679, 0.674, 0.756, 0.757, 0.724, 0.716, 0.718, 0.745, 0.734,\n",
       "       0.68 , 0.679, 0.672, 0.729, 0.7  , 0.765, 0.708, 0.714, 0.611,\n",
       "       0.696, 0.692, 0.745, 0.695, 0.745, 0.734, 0.771, 0.636, 0.752,\n",
       "       0.751, 0.75 , 0.716, 0.752, 0.71 , 0.664, 0.74 , 0.738, 0.724,\n",
       "       0.644, 0.689, 0.688, 0.73 , 0.681, 0.736, 0.758, 0.653, 0.665,\n",
       "       0.766, 0.682, 0.694, 0.745, 0.685, 0.643, 0.739, 0.689, 0.745,\n",
       "       0.74 , 0.71 ])"
      ]
     },
     "execution_count": 13,
     "metadata": {},
     "output_type": "execute_result"
    }
   ],
   "source": [
    "mstd"
   ]
  },
  {
   "cell_type": "code",
   "execution_count": 9,
   "metadata": {},
   "outputs": [
    {
     "name": "stdout",
     "output_type": "stream",
     "text": [
      "ini \t [0.297 0.388 0.537 1.1   0.254 0.4   0.475 0.806 0.345 0.254 2.645 1.037\n",
      " 0.371 0.423 0.439 0.282 0.203 7.202 0.578 0.566 0.598 0.461 0.678 0.797\n",
      " 0.177 1.181 2.221 0.376 0.366 0.424 0.515 0.285 0.372 2.474 0.284 0.366\n",
      " 0.817 2.057 6.58  0.388 0.44  0.368 0.415 0.485 0.551 2.601 0.233 0.876\n",
      " 0.313 0.512 1.675 0.17  0.499 1.251 0.324 0.314 0.92  0.31  0.447 0.521\n",
      " 0.146 0.404 0.47  0.45  0.285 0.546 0.953 0.245 0.522 1.412 0.36  0.256\n",
      " 0.484 1.377 1.616 0.818 0.884 0.242 0.188 0.647 0.875 0.341 0.485 0.403\n",
      " 0.599 1.179 0.674 3.054 0.294 0.15  0.866 0.564 1.988 0.786 0.833 0.334\n",
      " 0.259 0.168 0.283 0.296]\n",
      "ini \t [0.297 0.388 0.537 1.1   0.254 0.4   0.475 0.806 0.345 0.254 2.645 1.037\n",
      " 0.371 0.423 0.439 0.282 0.203 7.202 0.578 0.566 0.598 0.461 0.678 0.797\n",
      " 0.177 1.181 2.221 0.376 0.366 0.424 0.515 0.285 0.372 2.474 0.284 0.366\n",
      " 0.817 2.057 6.58  0.388 0.44  0.368 0.415 0.485 0.551 2.601 0.233 0.876\n",
      " 0.313 0.512 1.675 0.17  0.499 1.251 0.324 0.314 0.92  0.31  0.447 0.521\n",
      " 0.146 0.404 0.47  0.45  0.285 0.546 0.953 0.245 0.522 1.412 0.36  0.256\n",
      " 0.484 1.377 1.616 0.818 0.884 0.242 0.188 0.647 0.875 0.341 0.485 0.403\n",
      " 0.599 1.179 0.674 3.054 0.294 0.15  0.866 0.564 1.988 0.786 0.833 0.334\n",
      " 0.259 0.168 0.283 0.296]\n",
      "1.1596186690785849e-05 \t 2.6519697369041295 \t 6.203371150093062e-15 \t 0.0005463465446213561\n",
      "1.1560067144813453e-05 \t -2.6519697369041295 \t 6.203371150093062e-15 \t 0.0005463465446213561\n",
      "0.0007981703962431806 \t 1.6735569171092664 \t 6.203371150093062e-15 \t 0.0005463465446213561\n",
      "0.0007966006213059601 \t -1.6735569171092664 \t 6.203371150093062e-15 \t 0.0005463465446213561\n",
      "0.006743376928025959 \t 0.8162904622889858 \t 6.203371150093062e-15 \t 0.0005463465446213561\n",
      "0.006736904923527212 \t -0.8162904622889858 \t 6.203371150093062e-15 \t 0.0005463465446213561\n",
      "1.1618457419675753e-05 \t 2.6520451610995495 \t 6.203371150093062e-15 \t 0.001727699472766301\n",
      "1.1504372110238282e-05 \t -2.6520451610995495 \t 6.203371150093062e-15 \t 0.001727699472766301\n",
      "0.0007994078721771756 \t 1.6736045144412441 \t 6.203371150093062e-15 \t 0.001727699472766301\n",
      "0.0007944460555180634 \t -1.6736045144412441 \t 6.203371150093062e-15 \t 0.001727699472766301\n",
      "0.006749450867083876 \t 0.8163136782595493 \t 6.203371150093062e-15 \t 0.001727699472766301\n",
      "0.0067289863531707055 \t -0.8163136782595493 \t 6.203371150093062e-15 \t 0.001727699472766301\n",
      "1.1573702265389433e-05 \t 2.6527997571707536 \t 6.203371150093062e-15 \t 0.005463465446213561\n",
      "1.1217171353343557e-05 \t -2.6527997571707536 \t 6.203371150093062e-15 \t 0.005463465446213561\n",
      "0.0008001621577450756 \t 1.6740807112307525 \t 6.203371150093062e-15 \t 0.005463465446213561\n",
      "0.0007845424798237128 \t -1.6740807112307525 \t 6.203371150093062e-15 \t 0.005463465446213561\n",
      "0.006762325610866227 \t 0.816545946964291 \t 6.203371150093062e-15 \t 0.005463465446213561\n",
      "0.006697666853024821 \t -0.816545946964291 \t 6.203371150093062e-15 \t 0.005463465446213561\n",
      "0 \t [1.755 0.003 0.003 0.003]\n",
      "ini \t [0.297 0.388 0.537 1.1   0.254 0.4   0.475 0.806 0.345 0.254 2.645 1.037\n",
      " 0.371 0.423 0.439 0.282 0.203 7.202 0.578 0.566 0.598 0.461 0.678 0.797\n",
      " 0.177 1.181 2.221 0.376 0.366 0.424 0.515 0.285 0.372 2.474 0.284 0.366\n",
      " 0.817 2.057 6.58  0.388 0.44  0.368 0.415 0.485 0.551 2.601 0.233 0.876\n",
      " 0.313 0.512 1.675 0.17  0.499 1.251 0.324 0.314 0.92  0.31  0.447 0.521\n",
      " 0.146 0.404 0.47  0.45  0.285 0.546 0.953 0.245 0.522 1.412 0.36  0.256\n",
      " 0.484 1.377 1.616 0.818 0.884 0.242 0.188 0.647 0.875 0.341 0.485 0.403\n",
      " 0.599 1.179 0.674 3.054 0.294 0.15  0.866 0.564 1.988 0.786 0.833 0.334\n",
      " 0.259 0.168 0.283 0.296]\n",
      "0.0028238752003516797 \t 2.6519518343168444 \t 9.103828801926284e-15 \t 0.0005463465446213561\n",
      "0.0028275042687326743 \t -2.6519518343168444 \t 9.103828801926284e-15 \t 0.0005463465446213561\n",
      "0.19450246932226442 \t 1.6735456194694902 \t 9.103828801926284e-15 \t 0.0005463465446213561\n",
      "0.1946601742958632 \t -1.6735456194694902 \t 9.103828801926284e-15 \t 0.0005463465446213561\n",
      "1.644330172207789 \t 0.8162849517769134 \t 9.103828801926284e-15 \t 0.0005463465446213561\n",
      "1.644980338095851 \t -0.8162849517769134 \t 9.103828801926284e-15 \t 0.0005463465446213561\n",
      "0.002821061100026477 \t 2.651866136267436 \t 9.103828801926284e-15 \t 0.001727699472766301\n",
      "0.002832540715476084 \t -2.651866136267436 \t 9.103828801926284e-15 \t 0.001727699472766301\n",
      "0.19436241171281354 \t 1.6734915387002514 \t 9.103828801926284e-15 \t 0.001727699472766301\n",
      "0.1948611693840324 \t -1.6734915387002514 \t 9.103828801926284e-15 \t 0.001727699472766301\n",
      "1.6436885180666025 \t 0.8162585734591689 \t 9.103828801926284e-15 \t 0.001727699472766301\n",
      "1.6457445222763198 \t -0.8162585734591689 \t 9.103828801926284e-15 \t 0.001727699472766301\n",
      "0.0028197212636687052 \t 2.6510096124635356 \t 9.103828801926284e-15 \t 0.005463465446213561\n",
      "0.002856133536694697 \t -2.6510096124635356 \t 9.103828801926284e-15 \t 0.005463465446213561\n",
      "0.19412710137773964 \t 1.6729510192076118 \t 9.103828801926284e-15 \t 0.005463465446213561\n",
      "0.19570591599349638 \t -1.6729510192076118 \t 9.103828801926284e-15 \t 0.005463465446213561\n",
      "1.6420780391188785 \t 0.8159949308534038 \t 9.103828801926284e-15 \t 0.005463465446213561\n",
      "1.6485796675234163 \t -0.8159949308534038 \t 9.103828801926284e-15 \t 0.005463465446213561\n",
      "1 \t [1.755 0.013 0.013 0.013]\n",
      "ini \t [0.297 0.388 0.537 1.1   0.254 0.4   0.475 0.806 0.345 0.254 2.645 1.037\n",
      " 0.371 0.423 0.439 0.282 0.203 7.202 0.578 0.566 0.598 0.461 0.678 0.797\n",
      " 0.177 1.181 2.221 0.376 0.366 0.424 0.515 0.285 0.372 2.474 0.284 0.366\n",
      " 0.817 2.057 6.58  0.388 0.44  0.368 0.415 0.485 0.551 2.601 0.233 0.876\n",
      " 0.313 0.512 1.675 0.17  0.499 1.251 0.324 0.314 0.92  0.31  0.447 0.521\n",
      " 0.146 0.404 0.47  0.45  0.285 0.546 0.953 0.245 0.522 1.412 0.36  0.256\n",
      " 0.484 1.377 1.616 0.818 0.884 0.242 0.188 0.647 0.875 0.341 0.485 0.403\n",
      " 0.599 1.179 0.674 3.054 0.294 0.15  0.866 0.564 1.988 0.786 0.833 0.334\n",
      " 0.259 0.168 0.283 0.296]\n",
      "0.0001856892041491248 \t 2.6519613568352 \t 0.0 \t 0.0005463465446213561\n",
      "0.00019150759824405488 \t -2.6519613568352 \t 0.0 \t 0.0005463465446213561\n",
      "0.012860762243763828 \t 1.6735516287675 \t 0.0 \t 0.0005463465446213561\n",
      "0.013113615519166087 \t -1.6735516287675 \t 0.0 \t 0.0005463465446213561\n",
      "0.1092501551836815 \t 0.81628788285897 \t 0.0 \t 0.0005463465446213561\n",
      "0.11029260473174178 \t -0.81628788285897 \t 0.0 \t 0.0005463465446213561\n",
      "0.0001794714972867698 \t 2.6519613568352 \t 0.0 \t 0.001727699472766301\n",
      "0.0001978674328560719 \t -2.6519613568352 \t 0.0 \t 0.001727699472766301\n",
      "0.012589371560603137 \t 1.6735516287675 \t 0.0 \t 0.001727699472766301\n",
      "0.013388904244866764 \t -1.6735516287675 \t 0.0 \t 0.001727699472766301\n",
      "0.10812707114692466 \t 0.81628788285897 \t 0.0 \t 0.001727699472766301\n",
      "0.11142352762219342 \t -0.81628788285897 \t 0.0 \t 0.001727699472766301\n",
      "0.00016034698742821104 \t 2.6519613568352 \t 0.0 \t 0.005463465446213561\n",
      "0.0002184114666854516 \t -2.6519613568352 \t 0.0 \t 0.005463465446213561\n",
      "0.011745387482314571 \t 1.6735516287675 \t 0.0 \t 0.005463465446213561\n",
      "0.014271849623387728 \t -1.6735516287675 \t 0.0 \t 0.005463465446213561\n",
      "0.10460325758345115 \t 0.81628788285897 \t 0.0 \t 0.005463465446213561\n",
      "0.1150257205792522 \t -0.81628788285897 \t 0.0 \t 0.005463465446213561\n",
      "2 \t [1.755 0.003 0.003 0.003]\n",
      "ini \t [0.297 0.388 0.537 1.1   0.254 0.4   0.475 0.806 0.345 0.254 2.645 1.037\n",
      " 0.371 0.423 0.439 0.282 0.203 7.202 0.578 0.566 0.598 0.461 0.678 0.797\n",
      " 0.177 1.181 2.221 0.376 0.366 0.424 0.515 0.285 0.372 2.474 0.284 0.366\n",
      " 0.817 2.057 6.58  0.388 0.44  0.368 0.415 0.485 0.551 2.601 0.233 0.876\n",
      " 0.313 0.512 1.675 0.17  0.499 1.251 0.324 0.314 0.92  0.31  0.447 0.521\n",
      " 0.146 0.404 0.47  0.45  0.285 0.546 0.953 0.245 0.522 1.412 0.36  0.256\n",
      " 0.484 1.377 1.616 0.818 0.884 0.242 0.188 0.647 0.875 0.341 0.485 0.403\n",
      " 0.599 1.179 0.674 3.054 0.294 0.15  0.866 0.564 1.988 0.786 0.833 0.334\n",
      " 0.259 0.168 0.283 0.296]\n",
      "0.0036321523056769417 \t 2.6519740034762758 \t 5.773159728050814e-15 \t 0.0005463465446213561\n",
      "0.003633124094125008 \t -2.6519740034762758 \t 5.773159728050814e-15 \t 0.0005463465446213561\n",
      "0.2501251649148918 \t 1.6735596095801601 \t 5.773159728050814e-15 \t 0.0005463465446213561\n",
      "0.2501673920609291 \t -1.6735596095801601 \t 5.773159728050814e-15 \t 0.0005463465446213561\n",
      "2.114206902907262 \t 0.8162917755627014 \t 5.773159728050814e-15 \t 0.0005463465446213561\n",
      "2.1143809854686304 \t -0.8162917755627014 \t 5.773159728050814e-15 \t 0.0005463465446213561\n",
      "0.0036331262107000824 \t 2.652087831388292 \t 5.773159728050814e-15 \t 0.001727699472766301\n",
      "0.003636203645449924 \t -2.652087831388292 \t 5.773159728050814e-15 \t 0.001727699472766301\n",
      "0.25013503600889536 \t 1.6736314420324179 \t 5.773159728050814e-15 \t 0.001727699472766301\n",
      "0.2502686490149459 \t -1.6736314420324179 \t 5.773159728050814e-15 \t 0.001727699472766301\n",
      "2.1141303634251343 \t 0.816326812402537 \t 5.773159728050814e-15 \t 0.001727699472766301\n",
      "2.1146809563422213 \t -0.816326812402537 \t 5.773159728050814e-15 \t 0.001727699472766301\n",
      "0.0036501097549960907 \t 2.653226917240372 \t 5.773159728050814e-15 \t 0.005463465446213561\n",
      "0.0036599806410423223 \t -2.653226917240372 \t 5.773159728050814e-15 \t 0.005463465446213561\n",
      "0.25054651525145033 \t 1.6743502756527275 \t 5.773159728050814e-15 \t 0.005463465446213561\n",
      "0.25097154524776644 \t -1.6743502756527275 \t 5.773159728050814e-15 \t 0.005463465446213561\n",
      "2.114652284497712 \t 0.8166774291172915 \t 5.773159728050814e-15 \t 0.005463465446213561\n",
      "2.1163964378971443 \t -0.8166774291172915 \t 5.773159728050814e-15 \t 0.005463465446213561\n",
      "3 \t [1.755 0.016 0.016 0.016]\n",
      "ini \t [0.297 0.388 0.537 1.1   0.254 0.4   0.475 0.806 0.345 0.254 2.645 1.037\n",
      " 0.371 0.423 0.439 0.282 0.203 7.202 0.578 0.566 0.598 0.461 0.678 0.797\n",
      " 0.177 1.181 2.221 0.376 0.366 0.424 0.515 0.285 0.372 2.474 0.284 0.366\n",
      " 0.817 2.057 6.58  0.388 0.44  0.368 0.415 0.485 0.551 2.601 0.233 0.876\n",
      " 0.313 0.512 1.675 0.17  0.499 1.251 0.324 0.314 0.92  0.31  0.447 0.521\n",
      " 0.146 0.404 0.47  0.45  0.285 0.546 0.953 0.245 0.522 1.412 0.36  0.256\n",
      " 0.484 1.377 1.616 0.818 0.884 0.242 0.188 0.647 0.875 0.341 0.485 0.403\n",
      " 0.599 1.179 0.674 3.054 0.294 0.15  0.866 0.564 1.988 0.786 0.833 0.334\n",
      " 0.259 0.168 0.283 0.296]\n",
      "0.0028152879257887027 \t 2.651954116736113 \t 3.552713678800501e-15 \t 0.0005463465446213561\n",
      "0.0029766650140590047 \t -2.651954116736113 \t 3.552713678800501e-15 \t 0.0005463465446213561\n",
      "0.1958683926928295 \t 1.6735470598172066 \t 3.552713678800501e-15 \t 0.0005463465446213561\n",
      "0.2028805593330324 \t -1.6735470598172066 \t 3.552713678800501e-15 \t 0.0005463465446213561\n",
      "1.670514658173377 \t 0.8162856543177659 \t 3.552713678800501e-15 \t 0.0005463465446213561\n",
      "1.699422182657828 \t -0.8162856543177659 \t 3.552713678800501e-15 \t 0.0005463465446213561\n",
      "0.0026517239093264123 \t 2.6518889585126444 \t 3.552713678800501e-15 \t 0.001727699472766301\n",
      "0.003162904024221645 \t -2.6518889585126444 \t 3.552713678800501e-15 \t 0.001727699472766301\n",
      "0.18859064363672312 \t 1.6735059409484372 \t 3.552713678800501e-15 \t 0.001727699472766301\n",
      "0.21077962387222685 \t -1.6735059409484372 \t 3.552713678800501e-15 \t 0.001727699472766301\n",
      "1.639879759565614 \t 0.8162655982682504 \t 3.552713678800501e-15 \t 0.001727699472766301\n",
      "1.731305945089975 \t -0.8162655982682504 \t 3.552713678800501e-15 \t 0.001727699472766301\n",
      "0.002200086700810791 \t 2.6512376403211984 \t 3.552713678800501e-15 \t 0.005463465446213561\n",
      "0.0038440519299894078 \t -2.6512376403211984 \t 3.552713678800501e-15 \t 0.005463465446213561\n",
      "0.1674908550291281 \t 1.6730949188883566 \t 3.552713678800501e-15 \t 0.005463465446213561\n",
      "0.2381205327924897 \t -1.6730949188883566 \t 3.552713678800501e-15 \t 0.005463465446213561\n",
      "1.5470850433705692 \t 0.8160651190470155 \t 3.552713678800501e-15 \t 0.005463465446213561\n",
      "1.836597497040788 \t -0.8160651190470155 \t 3.552713678800501e-15 \t 0.005463465446213561\n",
      "4 \t [1.755 0.013 0.013 0.013]\n",
      "ini \t [0.297 0.388 0.537 1.1   0.254 0.4   0.475 0.806 0.345 0.254 2.645 1.037\n",
      " 0.371 0.423 0.439 0.282 0.203 7.202 0.578 0.566 0.598 0.461 0.678 0.797\n",
      " 0.177 1.181 2.221 0.376 0.366 0.424 0.515 0.285 0.372 2.474 0.284 0.366\n",
      " 0.817 2.057 6.58  0.388 0.44  0.368 0.415 0.485 0.551 2.601 0.233 0.876\n",
      " 0.313 0.512 1.675 0.17  0.499 1.251 0.324 0.314 0.92  0.31  0.447 0.521\n",
      " 0.146 0.404 0.47  0.45  0.285 0.546 0.953 0.245 0.522 1.412 0.36  0.256\n",
      " 0.484 1.377 1.616 0.818 0.884 0.242 0.188 0.647 0.875 0.341 0.485 0.403\n",
      " 0.599 1.179 0.674 3.054 0.294 0.15  0.866 0.564 1.988 0.786 0.833 0.334\n",
      " 0.259 0.168 0.283 0.296]\n",
      "0.0004122140083112992 \t 2.651969380578373 \t -8.881784197001252e-16 \t 0.0005463465446213561\n",
      "0.00043401411461661105 \t -2.651969380578373 \t -8.881784197001252e-16 \t 0.0005463465446213561\n",
      "0.028657961916815206 \t 1.6735566922456768 \t -8.881784197001252e-16 \t 0.0005463465446213561\n",
      "0.029605270595587225 \t -1.6735566922456768 \t -8.881784197001252e-16 \t 0.0005463465446213561\n",
      "0.24425592207351127 \t 0.8162903526100131 \t -8.881784197001252e-16 \t 0.0005463465446213561\n",
      "0.2481612864807135 \t -0.8162903526100131 \t -8.881784197001252e-16 \t 0.0005463465446213561\n",
      "0.0003897925197028996 \t 2.6520415975444145 \t -8.881784197001252e-16 \t 0.001727699472766301\n",
      "0.00045879679456392564 \t -2.6520415975444145 \t -8.881784197001252e-16 \t 0.001727699472766301\n",
      "0.027665553488774648 \t 1.673602265617563 \t -8.881784197001252e-16 \t 0.001727699472766301\n",
      "0.030662402330199744 \t -1.673602265617563 \t -8.881784197001252e-16 \t 0.001727699472766301\n",
      "0.24009802689599982 \t 0.8163125813782282 \t -8.881784197001252e-16 \t 0.001727699472766301\n",
      "0.2524493024142515 \t -0.8163125813782282 \t -8.881784197001252e-16 \t 0.001727699472766301\n",
      "0.0003260296260718061 \t 2.6527640918395905 \t -8.881784197001252e-16 \t 0.005463465446213561\n",
      "0.0005463514210607433 \t -2.6527640918395905 \t -8.881784197001252e-16 \t 0.005463465446213561\n",
      "0.02473128728961402 \t 1.6740582042010386 \t -8.881784197001252e-16 \t 0.005463465446213561\n",
      "0.034246091965461405 \t -1.6740582042010386 \t -8.881784197001252e-16 \t 0.005463465446213561\n",
      "0.22737338611753308 \t 0.8165349689846941 \t -8.881784197001252e-16 \t 0.005463465446213561\n",
      "0.2664767913546458 \t -0.8165349689846941 \t -8.881784197001252e-16 \t 0.005463465446213561\n",
      "5 \t [1.755 0.004 0.004 0.004]\n",
      "ini \t [0.297 0.388 0.537 1.1   0.254 0.4   0.475 0.806 0.345 0.254 2.645 1.037\n",
      " 0.371 0.423 0.439 0.282 0.203 7.202 0.578 0.566 0.598 0.461 0.678 0.797\n",
      " 0.177 1.181 2.221 0.376 0.366 0.424 0.515 0.285 0.372 2.474 0.284 0.366\n",
      " 0.817 2.057 6.58  0.388 0.44  0.368 0.415 0.485 0.551 2.601 0.233 0.876\n",
      " 0.313 0.512 1.675 0.17  0.499 1.251 0.324 0.314 0.92  0.31  0.447 0.521\n",
      " 0.146 0.404 0.47  0.45  0.285 0.546 0.953 0.245 0.522 1.412 0.36  0.256\n",
      " 0.484 1.377 1.616 0.818 0.884 0.242 0.188 0.647 0.875 0.341 0.485 0.403\n",
      " 0.599 1.179 0.674 3.054 0.294 0.15  0.866 0.564 1.988 0.786 0.833 0.334\n",
      " 0.259 0.168 0.283 0.296]\n",
      "0.0008262912603360894 \t 2.6519618636301563 \t 5.235395450498004e-15 \t 0.0005463465446213561\n",
      "0.0008677020527082321 \t -2.6519618636301563 \t 5.235395450498004e-15 \t 0.0005463465446213561\n",
      "0.0574168522085173 \t 1.6735519485864605 \t 5.235395450498004e-15 \t 0.0005463465446213561\n",
      "0.05921632168722311 \t -1.6735519485864605 \t 5.235395450498004e-15 \t 0.0005463465446213561\n",
      "0.4891607887216973 \t 0.8162880388531668 \t 5.235395450498004e-15 \t 0.0005463465446213561\n",
      "0.4965792450400162 \t -0.8162880388531668 \t 5.235395450498004e-15 \t 0.0005463465446213561\n",
      "0.0007837223089425367 \t 2.6519664247978394 \t 5.235395450498004e-15 \t 0.001727699472766301\n",
      "0.0009148061375592161 \t -2.6519664247978394 \t 5.235395450498004e-15 \t 0.001727699472766301\n",
      "0.055532391331395675 \t 1.6735548269653577 \t 5.235395450498004e-15 \t 0.001727699472766301\n",
      "0.06122509256461999 \t -1.6735548269653577 \t 5.235395450498004e-15 \t 0.001727699472766301\n",
      "0.48126423011738984 \t 0.8162894428049635 \t 5.235395450498004e-15 \t 0.001727699472766301\n",
      "0.504725714501028 \t -0.8162894428049635 \t 5.235395450498004e-15 \t 0.001727699472766301\n",
      "0.0006627579965448774 \t 2.6520120377691083 \t 5.235395450498004e-15 \t 0.005463465446213561\n",
      "0.0010814623719998357 \t -2.6520120377691083 \t 5.235395450498004e-15 \t 0.005463465446213561\n",
      "0.04996508400584605 \t 1.673583611571198 \t 5.235395450498004e-15 \t 0.005463465446213561\n",
      "0.0680392352723463 \t -1.673583611571198 \t 5.235395450498004e-15 \t 0.005463465446213561\n",
      "0.4571137446072238 \t 0.8163034827213642 \t 5.235395450498004e-15 \t 0.005463465446213561\n",
      "0.5313771646409767 \t -0.8163034827213642 \t 5.235395450498004e-15 \t 0.005463465446213561\n",
      "6 \t [1.755 0.006 0.006 0.006]\n",
      "ini \t [0.297 0.388 0.537 1.1   0.254 0.4   0.475 0.806 0.345 0.254 2.645 1.037\n",
      " 0.371 0.423 0.439 0.282 0.203 7.202 0.578 0.566 0.598 0.461 0.678 0.797\n",
      " 0.177 1.181 2.221 0.376 0.366 0.424 0.515 0.285 0.372 2.474 0.284 0.366\n",
      " 0.817 2.057 6.58  0.388 0.44  0.368 0.415 0.485 0.551 2.601 0.233 0.876\n",
      " 0.313 0.512 1.675 0.17  0.499 1.251 0.324 0.314 0.92  0.31  0.447 0.521\n",
      " 0.146 0.404 0.47  0.45  0.285 0.546 0.953 0.245 0.522 1.412 0.36  0.256\n",
      " 0.484 1.377 1.616 0.818 0.884 0.242 0.188 0.647 0.875 0.341 0.485 0.403\n",
      " 0.599 1.179 0.674 3.054 0.294 0.15  0.866 0.564 1.988 0.786 0.833 0.334\n",
      " 0.259 0.168 0.283 0.296]\n",
      "0.0007702111563057666 \t 2.651972509066992 \t 5.10702591327572e-15 \t 0.0005463465446213561\n",
      "0.0007892553345663275 \t -2.651972509066992 \t 5.10702591327572e-15 \t 0.0005463465446213561\n",
      "0.05327898348432384 \t 1.6735586665154791 \t 5.10702591327572e-15 \t 0.0005463465446213561\n",
      "0.0541065696021624 \t -1.6735586665154791 \t 5.10702591327572e-15 \t 0.0005463465446213561\n",
      "0.45211667481200163 \t 0.8162913155755347 \t 5.10702591327572e-15 \t 0.0005463465446213561\n",
      "0.4555285438315589 \t -0.8162913155755347 \t 5.10702591327572e-15 \t 0.0005463465446213561\n",
      "0.0007501023714569971 \t 2.652072885484785 \t 5.10702591327572e-15 \t 0.001727699472766301\n",
      "0.000810346424637143 \t -2.652072885484785 \t 5.10702591327572e-15 \t 0.001727699472766301\n",
      "0.052397501306241386 \t 1.6736220102429638 \t 5.10702591327572e-15 \t 0.001727699472766301\n",
      "0.05501498261741497 \t -1.6736220102429638 \t 5.10702591327572e-15 \t 0.001727699472766301\n",
      "0.44845468051698256 \t 0.8163222119735377 \t 5.10702591327572e-15 \t 0.001727699472766301\n",
      "0.45924468495039017 \t -0.8163222119735377 \t 5.10702591327572e-15 \t 0.001727699472766301\n",
      "0.0006895727367873853 \t 2.6530772769375393 \t 5.10702591327572e-15 \t 0.005463465446213561\n",
      "0.0008807509748026396 \t -2.6530772769375393 \t 5.10702591327572e-15 \t 0.005463465446213561\n",
      "0.04969592113669011 \t 1.6742558433670194 \t 5.10702591327572e-15 \t 0.005463465446213561\n",
      "0.057986571608439945 \t -1.6742558433670194 \t 5.10702591327572e-15 \t 0.005463465446213561\n",
      "0.43704874990326703 \t 0.8166313690321115 \t 5.10702591327572e-15 \t 0.005463465446213561\n",
      "0.4711927625239729 \t -0.8166313690321115 \t 5.10702591327572e-15 \t 0.005463465446213561\n",
      "7 \t [1.755 0.006 0.006 0.006]\n",
      "ini \t [0.297 0.388 0.537 1.1   0.254 0.4   0.475 0.806 0.345 0.254 2.645 1.037\n",
      " 0.371 0.423 0.439 0.282 0.203 7.202 0.578 0.566 0.598 0.461 0.678 0.797\n",
      " 0.177 1.181 2.221 0.376 0.366 0.424 0.515 0.285 0.372 2.474 0.284 0.366\n",
      " 0.817 2.057 6.58  0.388 0.44  0.368 0.415 0.485 0.551 2.601 0.233 0.876\n",
      " 0.313 0.512 1.675 0.17  0.499 1.251 0.324 0.314 0.92  0.31  0.447 0.521\n",
      " 0.146 0.404 0.47  0.45  0.285 0.546 0.953 0.245 0.522 1.412 0.36  0.256\n",
      " 0.484 1.377 1.616 0.818 0.884 0.242 0.188 0.647 0.875 0.341 0.485 0.403\n",
      " 0.599 1.179 0.674 3.054 0.294 0.15  0.866 0.564 1.988 0.786 0.833 0.334\n",
      " 0.259 0.168 0.283 0.296]\n",
      "0.00334448444916436 \t 2.6519513995017308 \t -5.1486592766991635e-15 \t 0.0005463465446213561\n",
      "0.003345277860044488 \t -2.6519513995017308 \t -5.1486592766991635e-15 \t 0.0005463465446213561\n",
      "0.23031528330013054 \t 1.6735453450742621 \t -5.1486592766991635e-15 \t 0.0005463465446213561\n",
      "0.23034976152210573 \t -1.6735453450742621 \t -5.1486592766991635e-15 \t 0.0005463465446213561\n",
      "1.9467584837902447 \t 0.8162848179384969 \t -5.1486592766991635e-15 \t 0.0005463465446213561\n",
      "1.9469006256100883 \t -0.8162848179384969 \t -5.1486592766991635e-15 \t 0.0005463465446213561\n",
      "0.003345183856250976 \t 2.651861788547443 \t -5.1486592766991635e-15 \t 0.001727699472766301\n",
      "0.003347693906853935 \t -2.651861788547443 \t -5.1486592766991635e-15 \t 0.001727699472766301\n",
      "0.23032071139030416 \t 1.6734887950200474 \t -5.1486592766991635e-15 \t 0.001727699472766301\n",
      "0.23042975731409945 \t -1.6734887950200474 \t -5.1486592766991635e-15 \t 0.001727699472766301\n",
      "1.9466906881543893 \t 0.8162572352077123 \t -5.1486592766991635e-15 \t 0.001727699472766301\n",
      "1.9471401843809895 \t -0.8162572352077123 \t -5.1486592766991635e-15 \t 0.001727699472766301\n",
      "0.0033580586569149527 \t 2.6509661783386234 \t -5.1486592766991635e-15 \t 0.005463465446213561\n",
      "0.0033660298670171794 \t -2.6509661783386234 \t -5.1486592766991635e-15 \t 0.005463465446213561\n",
      "0.2306297962796141 \t 1.6729236095885751 \t -5.1486592766991635e-15 \t 0.005463465446213561\n",
      "0.23097514244673506 \t -1.6729236095885751 \t -5.1486592766991635e-15 \t 0.005463465446213561\n",
      "1.9470630367425092 \t 0.8159815615975595 \t -5.1486592766991635e-15 \t 0.005463465446213561\n",
      "1.9484846051167368 \t -0.8159815615975595 \t -5.1486592766991635e-15 \t 0.005463465446213561\n",
      "8 \t [1.755 0.015 0.015 0.015]\n",
      "ini \t [0.297 0.388 0.537 1.1   0.254 0.4   0.475 0.806 0.345 0.254 2.645 1.037\n",
      " 0.371 0.423 0.439 0.282 0.203 7.202 0.578 0.566 0.598 0.461 0.678 0.797\n",
      " 0.177 1.181 2.221 0.376 0.366 0.424 0.515 0.285 0.372 2.474 0.284 0.366\n",
      " 0.817 2.057 6.58  0.388 0.44  0.368 0.415 0.485 0.551 2.601 0.233 0.876\n",
      " 0.313 0.512 1.675 0.17  0.499 1.251 0.324 0.314 0.92  0.31  0.447 0.521\n",
      " 0.146 0.404 0.47  0.45  0.285 0.546 0.953 0.245 0.522 1.412 0.36  0.256\n",
      " 0.484 1.377 1.616 0.818 0.884 0.242 0.188 0.647 0.875 0.341 0.485 0.403\n",
      " 0.599 1.179 0.674 3.054 0.294 0.15  0.866 0.564 1.988 0.786 0.833 0.334\n",
      " 0.259 0.168 0.283 0.296]\n",
      "0.0035923224862966685 \t 2.6519617031679097 \t 1.0130785099704553e-14 \t 0.0005463465446213561\n",
      "0.0034883349862387387 \t -2.6519617031679097 \t 1.0130785099704553e-14 \t 0.0005463465446213561\n",
      "0.2460330026051836 \t 1.673551847324859 \t 1.0130785099704553e-14 \t 0.0005463465446213561\n",
      "0.24151432842949033 \t -1.673551847324859 \t 1.0130785099704553e-14 \t 0.0005463465446213561\n",
      "2.069676758439221 \t 0.8162879894620295 \t 1.0130785099704553e-14 \t 0.0005463465446213561\n",
      "2.0510481868885697 \t -0.8162879894620295 \t 1.0130785099704553e-14 \t 0.0005463465446213561\n",
      "0.0037103962215758266 \t 2.6519648201684 \t 1.0130785099704553e-14 \t 0.001727699472766301\n",
      "0.0033812171038354664 \t -2.6519648201684 \t 1.0130785099704553e-14 \t 0.001727699472766301\n",
      "0.25107141976796465 \t 1.6735538143449418 \t 1.0130785099704553e-14 \t 0.001727699472766301\n",
      "0.23677619520020485 \t -1.6735538143449418 \t 1.0130785099704553e-14 \t 0.001727699472766301\n",
      "2.090121593005956 \t 0.8162889488914438 \t 1.0130785099704553e-14 \t 0.001727699472766301\n",
      "2.031207017298084 \t -0.8162889488914438 \t 1.0130785099704553e-14 \t 0.001727699472766301\n",
      "0.004126972990847952 \t 2.6519959907778112 \t 1.0130785099704553e-14 \t 0.005463465446213561\n",
      "0.003075135053908933 \t -2.6519959907778112 \t 1.0130785099704553e-14 \t 0.005463465446213561\n",
      "0.2681269730500245 \t 1.6735734849272508 \t 1.0130785099704553e-14 \t 0.005463465446213561\n",
      "0.22273371247936888 \t -1.6735734849272508 \t 1.0130785099704553e-14 \t 0.005463465446213561\n",
      "2.1569299737349303 \t 0.8162985433716567 \t 1.0130785099704553e-14 \t 0.005463465446213561\n",
      "1.970440290365417 \t -0.8162985433716567 \t 1.0130785099704553e-14 \t 0.005463465446213561\n",
      "9 \t [1.755 0.016 0.016 0.016]\n"
     ]
    }
   ],
   "source": [
    "    \n",
    "#clear_output(wait=False)\n",
    "#print('it: {}/{}'.format(it+1,maxit))\n",
    "\n",
    "    \n",
    "pars[\"mu\"] = mu.now\n",
    "epsilon = epsilon + mu.now\n",
    "x = mu.sample_posterior(pars, epsilon, bounds = (0.8*mu.now, 1.2*mu.now))\n",
    "\n",
    "epsilon = epsilon - mu.now\n",
    "\n",
    "x = alpha.sample_posterior(pars, epsilon)\n",
    "pars[\"alpha\"] = alpha.now\n",
    "\n",
    "\n",
    "vi = calculate_exp_epsilon(pars, epsilon)\n",
    "print(\"ini\", \"\\t\", vi.T)\n",
    "\n",
    "pars[\"marginal_likelihoods\"][0] = pars[\"pi_L\"][0] * np.sqrt(np.pi)\n",
    "pars[\"v\"] = np.ones(pars[\"l_mix\"])\n",
    "\n",
    "\n",
    "for j in range(10):\n",
    "    \n",
    "    pars = prepare_pars_for_beta(pars, j)\n",
    "    beta = betas[j]\n",
    "\n",
    "    if beta.now != 0:\n",
    "        epsilon = epsilon + norm_markers[:,j]*beta.now\n",
    "\n",
    "    vi = calculate_exp_epsilon(pars, epsilon)\n",
    "    \n",
    "    print(\"ini\", \"\\t\", vi.T)\n",
    "    \n",
    "\n",
    "    partial_sums = compute_partial_sums(vi, I1[j], I2[j])\n",
    "\n",
    "    #\n",
    "    # \n",
    "    # print(it, \"\\t\", j, \"\\t\", partial_sums)\n",
    "    p_uni = np.random.uniform()\n",
    "\n",
    "\n",
    "    pars[\"marginal_likelihoods\"] = marginal_likelihood_vec_calc(pars, vi, quad_points, norm_markers[:,j] )\n",
    "    print(j, \"\\t\", pars[\"marginal_likelihoods\"])\n",
    "\n",
    "    #print(pars[\"marginal_likelihoods\"])\n",
    "    \n",
    "    prob_acum = pars[\"marginal_likelihoods\"][0]/pars[\"marginal_likelihoods\"].sum()\n",
    "    \n",
    "    for k in range(pars[\"l_mix\"]):\n",
    "        if p_uni <= prob_acum:\n",
    "\n",
    "            if k == 0:\n",
    "                beta.update(0)\n",
    "                pars[\"v\"][k] += 1\n",
    "                pars[\"mixture_component\"][j] = k\n",
    "            \n",
    "            else:\n",
    "                pars[\"mixture_C\"] = pars[\"Ck\"][k-1]\n",
    "                safe_limit = helpers.calculate_safe_limit(pars)\n",
    "\n",
    "                beta.sample_posterior(pars, partial_sums, \n",
    "                                        bounds = (beta.now - safe_limit, beta.now + safe_limit),\n",
    "                                        xinit = [beta.now - safe_limit/10 , beta.now,  beta.now + safe_limit/20, beta.now + safe_limit/10],\n",
    "                                        dometrop = 1)\n",
    "\n",
    "                pars[\"v\"][k] +=1\n",
    "                pars[\"mixture_component\"][j] = k\n",
    "\n",
    "                epsilon = epsilon - norm_markers[:,j]*beta.now\n",
    "            \n",
    "            \n",
    "            break\n",
    "\n",
    "        else:\n",
    "            if k + 1 == pars[\"l_mix\"] - 1:\n",
    "                prob_acum = 1\n",
    "            else:\n",
    "                prob_acum += pars[\"marginal_likelihoods\"][k+1]/pars[\"marginal_likelihoods\"].sum()\n",
    "                \n",
    "\n",
    "sigma_g.sample_posterior(sigma_g_func(betas, pars))\n",
    "pars[\"sigma_g\"] = sigma_g.now\n",
    "\n",
    "#print(sigma_g.now)\n",
    "\n",
    "pars[\"pi_L\"] = np.random.dirichlet(pars[\"v\"])\n",
    "pars[\"sqrt_2Ck_sigmaG\"] = np.sqrt(2*pars[\"sigma_g\"])\n",
    "\n",
    "mix_comp.append(pars[\"v\"])"
   ]
  },
  {
   "cell_type": "code",
   "execution_count": 41,
   "metadata": {},
   "outputs": [],
   "source": []
  },
  {
   "cell_type": "code",
   "execution_count": null,
   "metadata": {},
   "outputs": [],
   "source": []
  }
 ],
 "metadata": {
  "kernelspec": {
   "display_name": "base",
   "language": "python",
   "name": "python3"
  },
  "language_info": {
   "codemirror_mode": {
    "name": "ipython",
    "version": 3
   },
   "file_extension": ".py",
   "mimetype": "text/x-python",
   "name": "python",
   "nbconvert_exporter": "python",
   "pygments_lexer": "ipython3",
   "version": "3.9.13"
  },
  "orig_nbformat": 4
 },
 "nbformat": 4,
 "nbformat_minor": 2
}
